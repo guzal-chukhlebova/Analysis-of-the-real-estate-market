{
 "cells": [
  {
   "cell_type": "markdown",
   "metadata": {
    "toc": true
   },
   "source": [
    "<h1>Содержание<span class=\"tocSkip\"></span></h1>\n",
    "<div class=\"toc\"><ul class=\"toc-item\"><li><span><a href=\"#Подготовка-данных\" data-toc-modified-id=\"Подготовка-данных-1\"><span class=\"toc-item-num\">1&nbsp;&nbsp;</span>Подготовка данных</a></span><ul class=\"toc-item\"><li><span><a href=\"#Описание-данных\" data-toc-modified-id=\"Описание-данных-1.1\"><span class=\"toc-item-num\">1.1&nbsp;&nbsp;</span>Описание данных</a></span></li></ul></li><li><span><a href=\"#Изучение-данных-из-файла\" data-toc-modified-id=\"Изучение-данных-из-файла-2\"><span class=\"toc-item-num\">2&nbsp;&nbsp;</span>Изучение данных из файла</a></span></li><li><span><a href=\"#Предобработка-данных\" data-toc-modified-id=\"Предобработка-данных-3\"><span class=\"toc-item-num\">3&nbsp;&nbsp;</span>Предобработка данных</a></span></li><li><span><a href=\"#Расчёты-и-добавление-результатов-в-таблицу\" data-toc-modified-id=\"Расчёты-и-добавление-результатов-в-таблицу-4\"><span class=\"toc-item-num\">4&nbsp;&nbsp;</span>Расчёты и добавление результатов в таблицу</a></span></li><li><span><a href=\"#Исследовательский-анализ-данных\" data-toc-modified-id=\"Исследовательский-анализ-данных-5\"><span class=\"toc-item-num\">5&nbsp;&nbsp;</span>Исследовательский анализ данных</a></span><ul class=\"toc-item\"><li><span><a href=\"#Исследование-площади,-цены,-числа-комнат,-высоты-потолков\" data-toc-modified-id=\"Исследование-площади,-цены,-числа-комнат,-высоты-потолков-5.1\"><span class=\"toc-item-num\">5.1&nbsp;&nbsp;</span>Исследование площади, цены, числа комнат, высоты потолков</a></span></li><li><span><a href=\"#Исследование-времени-продажи-квартиры\" data-toc-modified-id=\"Исследование-времени-продажи-квартиры-5.2\"><span class=\"toc-item-num\">5.2&nbsp;&nbsp;</span>Исследование времени продажи квартиры</a></span></li><li><span><a href=\"#Удаление-редких-и-выбивающиеся-значения\" data-toc-modified-id=\"Удаление-редких-и-выбивающиеся-значения-5.3\"><span class=\"toc-item-num\">5.3&nbsp;&nbsp;</span>Удаление редких и выбивающиеся значения</a></span></li><li><span><a href=\"#Факторы,-влияющие-на-стоимость-квартиры\" data-toc-modified-id=\"Факторы,-влияющие-на-стоимость-квартиры-5.4\"><span class=\"toc-item-num\">5.4&nbsp;&nbsp;</span>Факторы, влияющие на стоимость квартиры</a></span></li><li><span><a href=\"#Подсчет-средней-цены-квадратного-метра-в-10-населённых-пунктов-с-наибольшим-числом-объявлений\" data-toc-modified-id=\"Подсчет-средней-цены-квадратного-метра-в-10-населённых-пунктов-с-наибольшим-числом-объявлений-5.5\"><span class=\"toc-item-num\">5.5&nbsp;&nbsp;</span>Подсчет средней цены квадратного метра в 10 населённых пунктов с наибольшим числом объявлений</a></span></li><li><span><a href=\"#Определение-центральной-зоны-г.-Санкт-Петербург\" data-toc-modified-id=\"Определение-центральной-зоны-г.-Санкт-Петербург-5.6\"><span class=\"toc-item-num\">5.6&nbsp;&nbsp;</span>Определение центральной зоны г. Санкт-Петербург</a></span></li></ul></li><li><span><a href=\"#Общий-вывод\" data-toc-modified-id=\"Общий-вывод-6\"><span class=\"toc-item-num\">6&nbsp;&nbsp;</span>Общий вывод</a></span></li></ul></div>"
   ]
  },
  {
   "cell_type": "markdown",
   "metadata": {},
   "source": [
    "## Подготовка данных"
   ]
  },
  {
   "cell_type": "markdown",
   "metadata": {},
   "source": [
    "### Описание данных"
   ]
  },
  {
   "cell_type": "markdown",
   "metadata": {},
   "source": [
    "*Исследование объявлений о продаже квартир*\n",
    "\n",
    "В распоряжении данные сервиса Яндекс.Недвижимость — архив объявлений о продаже квартир в Санкт-Петербурге и соседних населённых пунктах за несколько лет. \n",
    "\n",
    "Основная задача: установить параметры для определения рыночной стоимости объектов недвижимости в Санкт-Петербурге и его пригороде для построения автоматизированной системы слежения аномалий и мошеннической деятельности.\n",
    "\n",
    "Описание данных:\n",
    "* `airports_nearest` — расстояние до ближайшего аэропорта в метрах (м)\n",
    "* `balcony` — число балконов\n",
    "* `ceiling_height` — высота потолков (м)\n",
    "* `cityCenters_nearest` — расстояние до центра города (м)\n",
    "* `days_exposition` — сколько дней было размещено объявление (от публикации до снятия)\n",
    "* `first_day_exposition` — дата публикации\n",
    "* `floor` — этаж\n",
    "* `floors_total` — всего этажей в доме\n",
    "* `is_apartment` — апартаменты (булев тип)\n",
    "* `kitchen_area` — площадь кухни в квадратных метрах (м²)\n",
    "* `last_price` — цена на момент снятия с публикации\n",
    "* `living_area` — жилая площадь в квадратных метрах (м²)\n",
    "* `locality_name` — название населённого пункта\n",
    "* `open_plan` — свободная планировка (булев тип)\n",
    "* `parks_around3000` — число парков в радиусе 3 км\n",
    "* `parks_nearest` — расстояние до ближайшего парка (м)\n",
    "* `ponds_around3000` — число водоёмов в радиусе 3 км\n",
    "* `ponds_nearest` — расстояние до ближайшего водоёма (м)\n",
    "* `rooms` — число комнат\n",
    "* `studio` — квартира-студия (булев тип)\n",
    "* `total_area` — площадь квартиры в квадратных метрах (м²)\n",
    "* `total_images` — число фотографий квартиры в объявлении"
   ]
  },
  {
   "cell_type": "markdown",
   "metadata": {},
   "source": [
    "## Изучение данных из файла"
   ]
  },
  {
   "cell_type": "code",
   "execution_count": 64,
   "metadata": {},
   "outputs": [
    {
     "data": {
      "text/html": [
       "<div>\n",
       "<style scoped>\n",
       "    .dataframe tbody tr th:only-of-type {\n",
       "        vertical-align: middle;\n",
       "    }\n",
       "\n",
       "    .dataframe tbody tr th {\n",
       "        vertical-align: top;\n",
       "    }\n",
       "\n",
       "    .dataframe thead th {\n",
       "        text-align: right;\n",
       "    }\n",
       "</style>\n",
       "<table border=\"1\" class=\"dataframe\">\n",
       "  <thead>\n",
       "    <tr style=\"text-align: right;\">\n",
       "      <th></th>\n",
       "      <th>total_images</th>\n",
       "      <th>last_price</th>\n",
       "      <th>total_area</th>\n",
       "      <th>first_day_exposition</th>\n",
       "      <th>rooms</th>\n",
       "      <th>ceiling_height</th>\n",
       "      <th>floors_total</th>\n",
       "      <th>living_area</th>\n",
       "      <th>floor</th>\n",
       "      <th>is_apartment</th>\n",
       "      <th>studio</th>\n",
       "      <th>open_plan</th>\n",
       "      <th>kitchen_area</th>\n",
       "      <th>balcony</th>\n",
       "      <th>locality_name</th>\n",
       "      <th>airports_nearest</th>\n",
       "      <th>cityCenters_nearest</th>\n",
       "      <th>parks_around3000</th>\n",
       "      <th>parks_nearest</th>\n",
       "      <th>ponds_around3000</th>\n",
       "      <th>ponds_nearest</th>\n",
       "      <th>days_exposition</th>\n",
       "    </tr>\n",
       "  </thead>\n",
       "  <tbody>\n",
       "    <tr>\n",
       "      <th>0</th>\n",
       "      <td>20</td>\n",
       "      <td>13,000,000.00</td>\n",
       "      <td>108.00</td>\n",
       "      <td>2019-03-07T00:00:00</td>\n",
       "      <td>3</td>\n",
       "      <td>2.70</td>\n",
       "      <td>16.00</td>\n",
       "      <td>51.00</td>\n",
       "      <td>8</td>\n",
       "      <td>NaN</td>\n",
       "      <td>False</td>\n",
       "      <td>False</td>\n",
       "      <td>25.00</td>\n",
       "      <td>NaN</td>\n",
       "      <td>Санкт-Петербург</td>\n",
       "      <td>18,863.00</td>\n",
       "      <td>16,028.00</td>\n",
       "      <td>1.00</td>\n",
       "      <td>482.00</td>\n",
       "      <td>2.00</td>\n",
       "      <td>755.00</td>\n",
       "      <td>NaN</td>\n",
       "    </tr>\n",
       "    <tr>\n",
       "      <th>1</th>\n",
       "      <td>7</td>\n",
       "      <td>3,350,000.00</td>\n",
       "      <td>40.40</td>\n",
       "      <td>2018-12-04T00:00:00</td>\n",
       "      <td>1</td>\n",
       "      <td>NaN</td>\n",
       "      <td>11.00</td>\n",
       "      <td>18.60</td>\n",
       "      <td>1</td>\n",
       "      <td>NaN</td>\n",
       "      <td>False</td>\n",
       "      <td>False</td>\n",
       "      <td>11.00</td>\n",
       "      <td>2.00</td>\n",
       "      <td>посёлок Шушары</td>\n",
       "      <td>12,817.00</td>\n",
       "      <td>18,603.00</td>\n",
       "      <td>0.00</td>\n",
       "      <td>NaN</td>\n",
       "      <td>0.00</td>\n",
       "      <td>NaN</td>\n",
       "      <td>81.00</td>\n",
       "    </tr>\n",
       "    <tr>\n",
       "      <th>2</th>\n",
       "      <td>10</td>\n",
       "      <td>5,196,000.00</td>\n",
       "      <td>56.00</td>\n",
       "      <td>2015-08-20T00:00:00</td>\n",
       "      <td>2</td>\n",
       "      <td>NaN</td>\n",
       "      <td>5.00</td>\n",
       "      <td>34.30</td>\n",
       "      <td>4</td>\n",
       "      <td>NaN</td>\n",
       "      <td>False</td>\n",
       "      <td>False</td>\n",
       "      <td>8.30</td>\n",
       "      <td>0.00</td>\n",
       "      <td>Санкт-Петербург</td>\n",
       "      <td>21,741.00</td>\n",
       "      <td>13,933.00</td>\n",
       "      <td>1.00</td>\n",
       "      <td>90.00</td>\n",
       "      <td>2.00</td>\n",
       "      <td>574.00</td>\n",
       "      <td>558.00</td>\n",
       "    </tr>\n",
       "    <tr>\n",
       "      <th>3</th>\n",
       "      <td>0</td>\n",
       "      <td>64,900,000.00</td>\n",
       "      <td>159.00</td>\n",
       "      <td>2015-07-24T00:00:00</td>\n",
       "      <td>3</td>\n",
       "      <td>NaN</td>\n",
       "      <td>14.00</td>\n",
       "      <td>NaN</td>\n",
       "      <td>9</td>\n",
       "      <td>NaN</td>\n",
       "      <td>False</td>\n",
       "      <td>False</td>\n",
       "      <td>NaN</td>\n",
       "      <td>0.00</td>\n",
       "      <td>Санкт-Петербург</td>\n",
       "      <td>28,098.00</td>\n",
       "      <td>6,800.00</td>\n",
       "      <td>2.00</td>\n",
       "      <td>84.00</td>\n",
       "      <td>3.00</td>\n",
       "      <td>234.00</td>\n",
       "      <td>424.00</td>\n",
       "    </tr>\n",
       "    <tr>\n",
       "      <th>4</th>\n",
       "      <td>2</td>\n",
       "      <td>10,000,000.00</td>\n",
       "      <td>100.00</td>\n",
       "      <td>2018-06-19T00:00:00</td>\n",
       "      <td>2</td>\n",
       "      <td>3.03</td>\n",
       "      <td>14.00</td>\n",
       "      <td>32.00</td>\n",
       "      <td>13</td>\n",
       "      <td>NaN</td>\n",
       "      <td>False</td>\n",
       "      <td>False</td>\n",
       "      <td>41.00</td>\n",
       "      <td>NaN</td>\n",
       "      <td>Санкт-Петербург</td>\n",
       "      <td>31,856.00</td>\n",
       "      <td>8,098.00</td>\n",
       "      <td>2.00</td>\n",
       "      <td>112.00</td>\n",
       "      <td>1.00</td>\n",
       "      <td>48.00</td>\n",
       "      <td>121.00</td>\n",
       "    </tr>\n",
       "    <tr>\n",
       "      <th>5</th>\n",
       "      <td>10</td>\n",
       "      <td>2,890,000.00</td>\n",
       "      <td>30.40</td>\n",
       "      <td>2018-09-10T00:00:00</td>\n",
       "      <td>1</td>\n",
       "      <td>NaN</td>\n",
       "      <td>12.00</td>\n",
       "      <td>14.40</td>\n",
       "      <td>5</td>\n",
       "      <td>NaN</td>\n",
       "      <td>False</td>\n",
       "      <td>False</td>\n",
       "      <td>9.10</td>\n",
       "      <td>NaN</td>\n",
       "      <td>городской посёлок Янино-1</td>\n",
       "      <td>NaN</td>\n",
       "      <td>NaN</td>\n",
       "      <td>NaN</td>\n",
       "      <td>NaN</td>\n",
       "      <td>NaN</td>\n",
       "      <td>NaN</td>\n",
       "      <td>55.00</td>\n",
       "    </tr>\n",
       "    <tr>\n",
       "      <th>6</th>\n",
       "      <td>6</td>\n",
       "      <td>3,700,000.00</td>\n",
       "      <td>37.30</td>\n",
       "      <td>2017-11-02T00:00:00</td>\n",
       "      <td>1</td>\n",
       "      <td>NaN</td>\n",
       "      <td>26.00</td>\n",
       "      <td>10.60</td>\n",
       "      <td>6</td>\n",
       "      <td>NaN</td>\n",
       "      <td>False</td>\n",
       "      <td>False</td>\n",
       "      <td>14.40</td>\n",
       "      <td>1.00</td>\n",
       "      <td>посёлок Парголово</td>\n",
       "      <td>52,996.00</td>\n",
       "      <td>19,143.00</td>\n",
       "      <td>0.00</td>\n",
       "      <td>NaN</td>\n",
       "      <td>0.00</td>\n",
       "      <td>NaN</td>\n",
       "      <td>155.00</td>\n",
       "    </tr>\n",
       "    <tr>\n",
       "      <th>7</th>\n",
       "      <td>5</td>\n",
       "      <td>7,915,000.00</td>\n",
       "      <td>71.60</td>\n",
       "      <td>2019-04-18T00:00:00</td>\n",
       "      <td>2</td>\n",
       "      <td>NaN</td>\n",
       "      <td>24.00</td>\n",
       "      <td>NaN</td>\n",
       "      <td>22</td>\n",
       "      <td>NaN</td>\n",
       "      <td>False</td>\n",
       "      <td>False</td>\n",
       "      <td>18.90</td>\n",
       "      <td>2.00</td>\n",
       "      <td>Санкт-Петербург</td>\n",
       "      <td>23,982.00</td>\n",
       "      <td>11,634.00</td>\n",
       "      <td>0.00</td>\n",
       "      <td>NaN</td>\n",
       "      <td>0.00</td>\n",
       "      <td>NaN</td>\n",
       "      <td>NaN</td>\n",
       "    </tr>\n",
       "    <tr>\n",
       "      <th>8</th>\n",
       "      <td>20</td>\n",
       "      <td>2,900,000.00</td>\n",
       "      <td>33.16</td>\n",
       "      <td>2018-05-23T00:00:00</td>\n",
       "      <td>1</td>\n",
       "      <td>NaN</td>\n",
       "      <td>27.00</td>\n",
       "      <td>15.43</td>\n",
       "      <td>26</td>\n",
       "      <td>NaN</td>\n",
       "      <td>False</td>\n",
       "      <td>False</td>\n",
       "      <td>8.81</td>\n",
       "      <td>NaN</td>\n",
       "      <td>посёлок Мурино</td>\n",
       "      <td>NaN</td>\n",
       "      <td>NaN</td>\n",
       "      <td>NaN</td>\n",
       "      <td>NaN</td>\n",
       "      <td>NaN</td>\n",
       "      <td>NaN</td>\n",
       "      <td>189.00</td>\n",
       "    </tr>\n",
       "    <tr>\n",
       "      <th>9</th>\n",
       "      <td>18</td>\n",
       "      <td>5,400,000.00</td>\n",
       "      <td>61.00</td>\n",
       "      <td>2017-02-26T00:00:00</td>\n",
       "      <td>3</td>\n",
       "      <td>2.50</td>\n",
       "      <td>9.00</td>\n",
       "      <td>43.60</td>\n",
       "      <td>7</td>\n",
       "      <td>NaN</td>\n",
       "      <td>False</td>\n",
       "      <td>False</td>\n",
       "      <td>6.50</td>\n",
       "      <td>2.00</td>\n",
       "      <td>Санкт-Петербург</td>\n",
       "      <td>50,898.00</td>\n",
       "      <td>15,008.00</td>\n",
       "      <td>0.00</td>\n",
       "      <td>NaN</td>\n",
       "      <td>0.00</td>\n",
       "      <td>NaN</td>\n",
       "      <td>289.00</td>\n",
       "    </tr>\n",
       "  </tbody>\n",
       "</table>\n",
       "</div>"
      ],
      "text/plain": [
       "   total_images    last_price  total_area first_day_exposition  rooms  \\\n",
       "0            20 13,000,000.00      108.00  2019-03-07T00:00:00      3   \n",
       "1             7  3,350,000.00       40.40  2018-12-04T00:00:00      1   \n",
       "2            10  5,196,000.00       56.00  2015-08-20T00:00:00      2   \n",
       "3             0 64,900,000.00      159.00  2015-07-24T00:00:00      3   \n",
       "4             2 10,000,000.00      100.00  2018-06-19T00:00:00      2   \n",
       "5            10  2,890,000.00       30.40  2018-09-10T00:00:00      1   \n",
       "6             6  3,700,000.00       37.30  2017-11-02T00:00:00      1   \n",
       "7             5  7,915,000.00       71.60  2019-04-18T00:00:00      2   \n",
       "8            20  2,900,000.00       33.16  2018-05-23T00:00:00      1   \n",
       "9            18  5,400,000.00       61.00  2017-02-26T00:00:00      3   \n",
       "\n",
       "   ceiling_height  floors_total  living_area  floor is_apartment  studio  \\\n",
       "0            2.70         16.00        51.00      8          NaN   False   \n",
       "1             NaN         11.00        18.60      1          NaN   False   \n",
       "2             NaN          5.00        34.30      4          NaN   False   \n",
       "3             NaN         14.00          NaN      9          NaN   False   \n",
       "4            3.03         14.00        32.00     13          NaN   False   \n",
       "5             NaN         12.00        14.40      5          NaN   False   \n",
       "6             NaN         26.00        10.60      6          NaN   False   \n",
       "7             NaN         24.00          NaN     22          NaN   False   \n",
       "8             NaN         27.00        15.43     26          NaN   False   \n",
       "9            2.50          9.00        43.60      7          NaN   False   \n",
       "\n",
       "   open_plan  kitchen_area  balcony              locality_name  \\\n",
       "0      False         25.00      NaN            Санкт-Петербург   \n",
       "1      False         11.00     2.00             посёлок Шушары   \n",
       "2      False          8.30     0.00            Санкт-Петербург   \n",
       "3      False           NaN     0.00            Санкт-Петербург   \n",
       "4      False         41.00      NaN            Санкт-Петербург   \n",
       "5      False          9.10      NaN  городской посёлок Янино-1   \n",
       "6      False         14.40     1.00          посёлок Парголово   \n",
       "7      False         18.90     2.00            Санкт-Петербург   \n",
       "8      False          8.81      NaN             посёлок Мурино   \n",
       "9      False          6.50     2.00            Санкт-Петербург   \n",
       "\n",
       "   airports_nearest  cityCenters_nearest  parks_around3000  parks_nearest  \\\n",
       "0         18,863.00            16,028.00              1.00         482.00   \n",
       "1         12,817.00            18,603.00              0.00            NaN   \n",
       "2         21,741.00            13,933.00              1.00          90.00   \n",
       "3         28,098.00             6,800.00              2.00          84.00   \n",
       "4         31,856.00             8,098.00              2.00         112.00   \n",
       "5               NaN                  NaN               NaN            NaN   \n",
       "6         52,996.00            19,143.00              0.00            NaN   \n",
       "7         23,982.00            11,634.00              0.00            NaN   \n",
       "8               NaN                  NaN               NaN            NaN   \n",
       "9         50,898.00            15,008.00              0.00            NaN   \n",
       "\n",
       "   ponds_around3000  ponds_nearest  days_exposition  \n",
       "0              2.00         755.00              NaN  \n",
       "1              0.00            NaN            81.00  \n",
       "2              2.00         574.00           558.00  \n",
       "3              3.00         234.00           424.00  \n",
       "4              1.00          48.00           121.00  \n",
       "5               NaN            NaN            55.00  \n",
       "6              0.00            NaN           155.00  \n",
       "7              0.00            NaN              NaN  \n",
       "8               NaN            NaN           189.00  \n",
       "9              0.00            NaN           289.00  "
      ]
     },
     "metadata": {},
     "output_type": "display_data"
    }
   ],
   "source": [
    "# импорт библиотеки pandas\n",
    "import pandas as pd\n",
    "import warnings\n",
    "warnings.filterwarnings('ignore')\n",
    "#настройка pandas\n",
    "pd.set_option('display.float_format', '{:,.2f}'.format)\n",
    "# чтение файла с данными и сохранение в df \n",
    "server_path = '/datasets/real_estate_data.csv'\n",
    "local_path = 'real_estate_data.csv' \n",
    "try:  \n",
    "    df = pd.read_csv(server_path, sep='\\t')     \n",
    "except: \n",
    "    df = pd.read_csv(local_path, sep='\\t')\n",
    "\n",
    "# получение первых 10 строк таблицы df\n",
    "pd.set_option('display.max_columns', None)\n",
    "display(df.head(10))\n",
    "\n"
   ]
  },
  {
   "cell_type": "code",
   "execution_count": 65,
   "metadata": {},
   "outputs": [
    {
     "name": "stdout",
     "output_type": "stream",
     "text": [
      "<class 'pandas.core.frame.DataFrame'>\n",
      "RangeIndex: 23699 entries, 0 to 23698\n",
      "Data columns (total 22 columns):\n",
      " #   Column                Non-Null Count  Dtype  \n",
      "---  ------                --------------  -----  \n",
      " 0   total_images          23699 non-null  int64  \n",
      " 1   last_price            23699 non-null  float64\n",
      " 2   total_area            23699 non-null  float64\n",
      " 3   first_day_exposition  23699 non-null  object \n",
      " 4   rooms                 23699 non-null  int64  \n",
      " 5   ceiling_height        14504 non-null  float64\n",
      " 6   floors_total          23613 non-null  float64\n",
      " 7   living_area           21796 non-null  float64\n",
      " 8   floor                 23699 non-null  int64  \n",
      " 9   is_apartment          2775 non-null   object \n",
      " 10  studio                23699 non-null  bool   \n",
      " 11  open_plan             23699 non-null  bool   \n",
      " 12  kitchen_area          21421 non-null  float64\n",
      " 13  balcony               12180 non-null  float64\n",
      " 14  locality_name         23650 non-null  object \n",
      " 15  airports_nearest      18157 non-null  float64\n",
      " 16  cityCenters_nearest   18180 non-null  float64\n",
      " 17  parks_around3000      18181 non-null  float64\n",
      " 18  parks_nearest         8079 non-null   float64\n",
      " 19  ponds_around3000      18181 non-null  float64\n",
      " 20  ponds_nearest         9110 non-null   float64\n",
      " 21  days_exposition       20518 non-null  float64\n",
      "dtypes: bool(2), float64(14), int64(3), object(3)\n",
      "memory usage: 3.7+ MB\n"
     ]
    }
   ],
   "source": [
    "# получение общей информации о данных в таблице df\n",
    "df.info()"
   ]
  },
  {
   "cell_type": "markdown",
   "metadata": {},
   "source": [
    "В таблице 23699 строк и 22 столбца.\n",
    "\n",
    "По каждой квартире на продажу доступны два вида данных. Первые вписаны пользователем, вторые — получены автоматически на основе картографических данных. Например, расстояние до центра, аэропорта, ближайшего парка и водоёма.\n",
    "В данных присутсвует большое количество пропущенных значений. Перед проведением исследовательского анализа данных следует изучить пропущенные значения."
   ]
  },
  {
   "cell_type": "markdown",
   "metadata": {},
   "source": [
    "## Предобработка данных"
   ]
  },
  {
   "cell_type": "markdown",
   "metadata": {},
   "source": [
    "Определим количество пропусков в столбцах таблицы df."
   ]
  },
  {
   "cell_type": "code",
   "execution_count": 66,
   "metadata": {},
   "outputs": [
    {
     "data": {
      "text/plain": [
       "total_images                0\n",
       "last_price                  0\n",
       "total_area                  0\n",
       "first_day_exposition        0\n",
       "rooms                       0\n",
       "ceiling_height           9195\n",
       "floors_total               86\n",
       "living_area              1903\n",
       "floor                       0\n",
       "is_apartment            20924\n",
       "studio                      0\n",
       "open_plan                   0\n",
       "kitchen_area             2278\n",
       "balcony                 11519\n",
       "locality_name              49\n",
       "airports_nearest         5542\n",
       "cityCenters_nearest      5519\n",
       "parks_around3000         5518\n",
       "parks_nearest           15620\n",
       "ponds_around3000         5518\n",
       "ponds_nearest           14589\n",
       "days_exposition          3181\n",
       "dtype: int64"
      ]
     },
     "execution_count": 66,
     "metadata": {},
     "output_type": "execute_result"
    }
   ],
   "source": [
    "# подсчёт пропусков\n",
    "df.isna().sum()"
   ]
  },
  {
   "cell_type": "markdown",
   "metadata": {},
   "source": [
    "Столбцы с наибольшим количеством пропусков: ceiling_height, living_area, is_apartment, kitchen_area, balcony, airports_nearest, cityCenters_nearest, parks_around3000, parks_nearest, ponds_around3000, ponds_nearest, days_exposition. Стоит разобраться с их причинами появления и по возможности заменить на подходящие.\n",
    "\n",
    "Пропущенные значения столбца 'living_area' следует заменить на медианное значение столбца 'living_area'. Для этого переберем количества комнат столбца 'rooms' в цикле, чтобы заменить пропущенные значения на среднее жилой площади столбца 'living_area' по количеству комнат."
   ]
  },
  {
   "cell_type": "code",
   "execution_count": 67,
   "metadata": {},
   "outputs": [],
   "source": [
    "# группируем данные по количеству комнат, применяем метод transform, который разворачивает группировку обратно в \n",
    "#столбец с учетом полей, по которым была группировка\n",
    "groups = df.groupby(['rooms'])['living_area'].transform('median')\n",
    "#заполняем пропуски с помощью метода fillna\n",
    "df['living_area'] = df['living_area'].fillna(groups)"
   ]
  },
  {
   "cell_type": "code",
   "execution_count": 68,
   "metadata": {},
   "outputs": [
    {
     "name": "stdout",
     "output_type": "stream",
     "text": [
      "Пропуски до: 0\n",
      "3 45.0\n",
      "1 17.6\n",
      "2 30.5\n",
      "4 63.6\n",
      "5 91.785\n",
      "6 123.9\n",
      "0 18.0\n",
      "7 145.0\n",
      "11 133.9\n",
      "8 161.0\n",
      "14 195.15\n",
      "10 161.4\n",
      "15 409.0\n",
      "9 179.2\n",
      "19 264.5\n",
      "16 180.0\n",
      "12 409.7\n",
      "Пропуски после: 0\n"
     ]
    }
   ],
   "source": [
    "# перебор количества комнат столбца ['rooms'] в цикле и замена пропущенных значений \n",
    "# на среднее жилой площади столбца ['living_area']\n",
    "print('Пропуски до:', df['living_area'].isna().sum())\n",
    "for item in df['rooms'].unique():\n",
    "    median = df.loc[df['rooms'] == item, 'living_area'].median()\n",
    "    print(item, median)\n",
    "    df.loc[(df['living_area'].isna()) & (df['rooms'] == item), 'living_area'] = median\n",
    "print('Пропуски после:', df['living_area'].isna().sum())"
   ]
  },
  {
   "cell_type": "markdown",
   "metadata": {},
   "source": [
    "Аналогично пропущенные значения столбца 'kitchen_area' следует заменить на медианное значение столбца 'kitchen_area' с разбивкой по количеству комнат."
   ]
  },
  {
   "cell_type": "code",
   "execution_count": 69,
   "metadata": {},
   "outputs": [],
   "source": [
    "# группируем данные по количеству комнат, применяем метод transform, который разворачивает группировку обратно в \n",
    "#столбец с учетом полей, по которым была группировка\n",
    "groups = df.groupby(['rooms'])['kitchen_area'].transform('median')\n",
    "#заполняем пропуски с помощью метода fillna\n",
    "df['kitchen_area'] = df['kitchen_area'].fillna(groups)"
   ]
  },
  {
   "cell_type": "code",
   "execution_count": 70,
   "metadata": {},
   "outputs": [
    {
     "name": "stdout",
     "output_type": "stream",
     "text": [
      "Пропуски до: 197\n",
      "3 9.5\n",
      "1 9.04\n",
      "2 8.8\n",
      "4 11.1\n",
      "5 15.1\n",
      "6 19.5\n",
      "0 nan\n",
      "7 20.0\n",
      "11 12.600000000000001\n",
      "8 25.0\n",
      "14 21.25\n",
      "10 19.8\n",
      "15 100.0\n",
      "9 14.3\n",
      "19 27.6\n",
      "16 13.0\n",
      "12 112.0\n",
      "Пропуски после: 197\n"
     ]
    }
   ],
   "source": [
    "# перебор количества комнат столбца ['rooms'] в цикле и замена пропущенных значений \n",
    "# на среднее площади кухни столбца ['kitchen_area']\n",
    "print('Пропуски до:', df['kitchen_area'].isna().sum())\n",
    "for item in df['rooms'].unique():\n",
    "    median = df.loc[df['rooms'] == item, 'kitchen_area'].median()\n",
    "    print(item, median)\n",
    "    df.loc[(df['kitchen_area'].isna()) & (df['rooms'] == item), 'kitchen_area'] = median\n",
    "print('Пропуски после:', df['kitchen_area'].isna().sum())"
   ]
  },
  {
   "cell_type": "markdown",
   "metadata": {},
   "source": [
    "После работы цикла остались пропущенные значения в столбце 'kitchen_area'. Проанализируем таблицу df, где значения столбца 'kitchen_area' - NaN."
   ]
  },
  {
   "cell_type": "code",
   "execution_count": 71,
   "metadata": {},
   "outputs": [
    {
     "data": {
      "text/html": [
       "<div>\n",
       "<style scoped>\n",
       "    .dataframe tbody tr th:only-of-type {\n",
       "        vertical-align: middle;\n",
       "    }\n",
       "\n",
       "    .dataframe tbody tr th {\n",
       "        vertical-align: top;\n",
       "    }\n",
       "\n",
       "    .dataframe thead th {\n",
       "        text-align: right;\n",
       "    }\n",
       "</style>\n",
       "<table border=\"1\" class=\"dataframe\">\n",
       "  <thead>\n",
       "    <tr style=\"text-align: right;\">\n",
       "      <th></th>\n",
       "      <th>total_images</th>\n",
       "      <th>last_price</th>\n",
       "      <th>total_area</th>\n",
       "      <th>first_day_exposition</th>\n",
       "      <th>rooms</th>\n",
       "      <th>ceiling_height</th>\n",
       "      <th>floors_total</th>\n",
       "      <th>living_area</th>\n",
       "      <th>floor</th>\n",
       "      <th>is_apartment</th>\n",
       "      <th>studio</th>\n",
       "      <th>open_plan</th>\n",
       "      <th>kitchen_area</th>\n",
       "      <th>balcony</th>\n",
       "      <th>locality_name</th>\n",
       "      <th>airports_nearest</th>\n",
       "      <th>cityCenters_nearest</th>\n",
       "      <th>parks_around3000</th>\n",
       "      <th>parks_nearest</th>\n",
       "      <th>ponds_around3000</th>\n",
       "      <th>ponds_nearest</th>\n",
       "      <th>days_exposition</th>\n",
       "    </tr>\n",
       "  </thead>\n",
       "  <tbody>\n",
       "    <tr>\n",
       "      <th>144</th>\n",
       "      <td>1</td>\n",
       "      <td>2,450,000.00</td>\n",
       "      <td>27.00</td>\n",
       "      <td>2017-03-30T00:00:00</td>\n",
       "      <td>0</td>\n",
       "      <td>NaN</td>\n",
       "      <td>24.00</td>\n",
       "      <td>15.50</td>\n",
       "      <td>2</td>\n",
       "      <td>NaN</td>\n",
       "      <td>True</td>\n",
       "      <td>False</td>\n",
       "      <td>NaN</td>\n",
       "      <td>2.00</td>\n",
       "      <td>посёлок Мурино</td>\n",
       "      <td>NaN</td>\n",
       "      <td>NaN</td>\n",
       "      <td>NaN</td>\n",
       "      <td>NaN</td>\n",
       "      <td>NaN</td>\n",
       "      <td>NaN</td>\n",
       "      <td>181.00</td>\n",
       "    </tr>\n",
       "    <tr>\n",
       "      <th>349</th>\n",
       "      <td>4</td>\n",
       "      <td>2,320,000.00</td>\n",
       "      <td>25.00</td>\n",
       "      <td>2017-09-27T00:00:00</td>\n",
       "      <td>0</td>\n",
       "      <td>NaN</td>\n",
       "      <td>14.00</td>\n",
       "      <td>17.00</td>\n",
       "      <td>1</td>\n",
       "      <td>NaN</td>\n",
       "      <td>False</td>\n",
       "      <td>True</td>\n",
       "      <td>NaN</td>\n",
       "      <td>0.00</td>\n",
       "      <td>деревня Кудрово</td>\n",
       "      <td>NaN</td>\n",
       "      <td>NaN</td>\n",
       "      <td>NaN</td>\n",
       "      <td>NaN</td>\n",
       "      <td>NaN</td>\n",
       "      <td>NaN</td>\n",
       "      <td>45.00</td>\n",
       "    </tr>\n",
       "    <tr>\n",
       "      <th>440</th>\n",
       "      <td>8</td>\n",
       "      <td>2,480,000.00</td>\n",
       "      <td>27.11</td>\n",
       "      <td>2018-03-12T00:00:00</td>\n",
       "      <td>0</td>\n",
       "      <td>NaN</td>\n",
       "      <td>17.00</td>\n",
       "      <td>24.75</td>\n",
       "      <td>4</td>\n",
       "      <td>NaN</td>\n",
       "      <td>True</td>\n",
       "      <td>False</td>\n",
       "      <td>NaN</td>\n",
       "      <td>2.00</td>\n",
       "      <td>Санкт-Петербург</td>\n",
       "      <td>38,171.00</td>\n",
       "      <td>15,015.00</td>\n",
       "      <td>0.00</td>\n",
       "      <td>NaN</td>\n",
       "      <td>2.00</td>\n",
       "      <td>982.00</td>\n",
       "      <td>64.00</td>\n",
       "    </tr>\n",
       "    <tr>\n",
       "      <th>508</th>\n",
       "      <td>0</td>\n",
       "      <td>3,375,000.00</td>\n",
       "      <td>34.40</td>\n",
       "      <td>2017-03-28T00:00:00</td>\n",
       "      <td>0</td>\n",
       "      <td>NaN</td>\n",
       "      <td>26.00</td>\n",
       "      <td>24.30</td>\n",
       "      <td>19</td>\n",
       "      <td>NaN</td>\n",
       "      <td>False</td>\n",
       "      <td>True</td>\n",
       "      <td>NaN</td>\n",
       "      <td>1.00</td>\n",
       "      <td>посёлок Парголово</td>\n",
       "      <td>53,115.00</td>\n",
       "      <td>19,292.00</td>\n",
       "      <td>0.00</td>\n",
       "      <td>NaN</td>\n",
       "      <td>1.00</td>\n",
       "      <td>593.00</td>\n",
       "      <td>430.00</td>\n",
       "    </tr>\n",
       "    <tr>\n",
       "      <th>608</th>\n",
       "      <td>2</td>\n",
       "      <td>1,850,000.00</td>\n",
       "      <td>25.00</td>\n",
       "      <td>2019-02-20T00:00:00</td>\n",
       "      <td>0</td>\n",
       "      <td>NaN</td>\n",
       "      <td>10.00</td>\n",
       "      <td>18.00</td>\n",
       "      <td>7</td>\n",
       "      <td>NaN</td>\n",
       "      <td>True</td>\n",
       "      <td>False</td>\n",
       "      <td>NaN</td>\n",
       "      <td>NaN</td>\n",
       "      <td>посёлок Шушары</td>\n",
       "      <td>NaN</td>\n",
       "      <td>NaN</td>\n",
       "      <td>NaN</td>\n",
       "      <td>NaN</td>\n",
       "      <td>NaN</td>\n",
       "      <td>NaN</td>\n",
       "      <td>29.00</td>\n",
       "    </tr>\n",
       "    <tr>\n",
       "      <th>697</th>\n",
       "      <td>12</td>\n",
       "      <td>2,500,000.00</td>\n",
       "      <td>24.10</td>\n",
       "      <td>2017-12-01T00:00:00</td>\n",
       "      <td>0</td>\n",
       "      <td>2.75</td>\n",
       "      <td>25.00</td>\n",
       "      <td>17.50</td>\n",
       "      <td>21</td>\n",
       "      <td>NaN</td>\n",
       "      <td>True</td>\n",
       "      <td>False</td>\n",
       "      <td>NaN</td>\n",
       "      <td>NaN</td>\n",
       "      <td>деревня Кудрово</td>\n",
       "      <td>NaN</td>\n",
       "      <td>NaN</td>\n",
       "      <td>NaN</td>\n",
       "      <td>NaN</td>\n",
       "      <td>NaN</td>\n",
       "      <td>NaN</td>\n",
       "      <td>201.00</td>\n",
       "    </tr>\n",
       "    <tr>\n",
       "      <th>716</th>\n",
       "      <td>5</td>\n",
       "      <td>1,500,000.00</td>\n",
       "      <td>17.00</td>\n",
       "      <td>2017-06-07T00:00:00</td>\n",
       "      <td>0</td>\n",
       "      <td>2.70</td>\n",
       "      <td>9.00</td>\n",
       "      <td>12.00</td>\n",
       "      <td>1</td>\n",
       "      <td>NaN</td>\n",
       "      <td>True</td>\n",
       "      <td>False</td>\n",
       "      <td>NaN</td>\n",
       "      <td>0.00</td>\n",
       "      <td>посёлок Шушары</td>\n",
       "      <td>18,654.00</td>\n",
       "      <td>29,846.00</td>\n",
       "      <td>0.00</td>\n",
       "      <td>NaN</td>\n",
       "      <td>0.00</td>\n",
       "      <td>NaN</td>\n",
       "      <td>40.00</td>\n",
       "    </tr>\n",
       "    <tr>\n",
       "      <th>780</th>\n",
       "      <td>9</td>\n",
       "      <td>2,600,000.00</td>\n",
       "      <td>26.10</td>\n",
       "      <td>2018-02-20T00:00:00</td>\n",
       "      <td>0</td>\n",
       "      <td>NaN</td>\n",
       "      <td>18.00</td>\n",
       "      <td>18.00</td>\n",
       "      <td>8</td>\n",
       "      <td>NaN</td>\n",
       "      <td>False</td>\n",
       "      <td>True</td>\n",
       "      <td>NaN</td>\n",
       "      <td>1.00</td>\n",
       "      <td>посёлок Мурино</td>\n",
       "      <td>NaN</td>\n",
       "      <td>NaN</td>\n",
       "      <td>NaN</td>\n",
       "      <td>NaN</td>\n",
       "      <td>NaN</td>\n",
       "      <td>NaN</td>\n",
       "      <td>45.00</td>\n",
       "    </tr>\n",
       "    <tr>\n",
       "      <th>839</th>\n",
       "      <td>14</td>\n",
       "      <td>1,900,000.00</td>\n",
       "      <td>35.00</td>\n",
       "      <td>2017-04-14T00:00:00</td>\n",
       "      <td>0</td>\n",
       "      <td>2.70</td>\n",
       "      <td>5.00</td>\n",
       "      <td>15.00</td>\n",
       "      <td>3</td>\n",
       "      <td>False</td>\n",
       "      <td>False</td>\n",
       "      <td>True</td>\n",
       "      <td>NaN</td>\n",
       "      <td>1.00</td>\n",
       "      <td>поселок Новый Свет</td>\n",
       "      <td>NaN</td>\n",
       "      <td>NaN</td>\n",
       "      <td>NaN</td>\n",
       "      <td>NaN</td>\n",
       "      <td>NaN</td>\n",
       "      <td>NaN</td>\n",
       "      <td>7.00</td>\n",
       "    </tr>\n",
       "    <tr>\n",
       "      <th>946</th>\n",
       "      <td>5</td>\n",
       "      <td>2,200,000.00</td>\n",
       "      <td>23.00</td>\n",
       "      <td>2016-09-27T00:00:00</td>\n",
       "      <td>0</td>\n",
       "      <td>NaN</td>\n",
       "      <td>27.00</td>\n",
       "      <td>18.00</td>\n",
       "      <td>7</td>\n",
       "      <td>NaN</td>\n",
       "      <td>False</td>\n",
       "      <td>True</td>\n",
       "      <td>NaN</td>\n",
       "      <td>2.00</td>\n",
       "      <td>посёлок Мурино</td>\n",
       "      <td>NaN</td>\n",
       "      <td>NaN</td>\n",
       "      <td>NaN</td>\n",
       "      <td>NaN</td>\n",
       "      <td>NaN</td>\n",
       "      <td>NaN</td>\n",
       "      <td>483.00</td>\n",
       "    </tr>\n",
       "  </tbody>\n",
       "</table>\n",
       "</div>"
      ],
      "text/plain": [
       "     total_images   last_price  total_area first_day_exposition  rooms  \\\n",
       "144             1 2,450,000.00       27.00  2017-03-30T00:00:00      0   \n",
       "349             4 2,320,000.00       25.00  2017-09-27T00:00:00      0   \n",
       "440             8 2,480,000.00       27.11  2018-03-12T00:00:00      0   \n",
       "508             0 3,375,000.00       34.40  2017-03-28T00:00:00      0   \n",
       "608             2 1,850,000.00       25.00  2019-02-20T00:00:00      0   \n",
       "697            12 2,500,000.00       24.10  2017-12-01T00:00:00      0   \n",
       "716             5 1,500,000.00       17.00  2017-06-07T00:00:00      0   \n",
       "780             9 2,600,000.00       26.10  2018-02-20T00:00:00      0   \n",
       "839            14 1,900,000.00       35.00  2017-04-14T00:00:00      0   \n",
       "946             5 2,200,000.00       23.00  2016-09-27T00:00:00      0   \n",
       "\n",
       "     ceiling_height  floors_total  living_area  floor is_apartment  studio  \\\n",
       "144             NaN         24.00        15.50      2          NaN    True   \n",
       "349             NaN         14.00        17.00      1          NaN   False   \n",
       "440             NaN         17.00        24.75      4          NaN    True   \n",
       "508             NaN         26.00        24.30     19          NaN   False   \n",
       "608             NaN         10.00        18.00      7          NaN    True   \n",
       "697            2.75         25.00        17.50     21          NaN    True   \n",
       "716            2.70          9.00        12.00      1          NaN    True   \n",
       "780             NaN         18.00        18.00      8          NaN   False   \n",
       "839            2.70          5.00        15.00      3        False   False   \n",
       "946             NaN         27.00        18.00      7          NaN   False   \n",
       "\n",
       "     open_plan  kitchen_area  balcony       locality_name  airports_nearest  \\\n",
       "144      False           NaN     2.00      посёлок Мурино               NaN   \n",
       "349       True           NaN     0.00     деревня Кудрово               NaN   \n",
       "440      False           NaN     2.00     Санкт-Петербург         38,171.00   \n",
       "508       True           NaN     1.00   посёлок Парголово         53,115.00   \n",
       "608      False           NaN      NaN      посёлок Шушары               NaN   \n",
       "697      False           NaN      NaN     деревня Кудрово               NaN   \n",
       "716      False           NaN     0.00      посёлок Шушары         18,654.00   \n",
       "780       True           NaN     1.00      посёлок Мурино               NaN   \n",
       "839       True           NaN     1.00  поселок Новый Свет               NaN   \n",
       "946       True           NaN     2.00      посёлок Мурино               NaN   \n",
       "\n",
       "     cityCenters_nearest  parks_around3000  parks_nearest  ponds_around3000  \\\n",
       "144                  NaN               NaN            NaN               NaN   \n",
       "349                  NaN               NaN            NaN               NaN   \n",
       "440            15,015.00              0.00            NaN              2.00   \n",
       "508            19,292.00              0.00            NaN              1.00   \n",
       "608                  NaN               NaN            NaN               NaN   \n",
       "697                  NaN               NaN            NaN               NaN   \n",
       "716            29,846.00              0.00            NaN              0.00   \n",
       "780                  NaN               NaN            NaN               NaN   \n",
       "839                  NaN               NaN            NaN               NaN   \n",
       "946                  NaN               NaN            NaN               NaN   \n",
       "\n",
       "     ponds_nearest  days_exposition  \n",
       "144            NaN           181.00  \n",
       "349            NaN            45.00  \n",
       "440         982.00            64.00  \n",
       "508         593.00           430.00  \n",
       "608            NaN            29.00  \n",
       "697            NaN           201.00  \n",
       "716            NaN            40.00  \n",
       "780            NaN            45.00  \n",
       "839            NaN             7.00  \n",
       "946            NaN           483.00  "
      ]
     },
     "execution_count": 71,
     "metadata": {},
     "output_type": "execute_result"
    }
   ],
   "source": [
    "# подсчёт пропусков для столбца 'kitchen_area'\n",
    "df[df['kitchen_area'].isna()].head(10)"
   ]
  },
  {
   "cell_type": "markdown",
   "metadata": {},
   "source": [
    "В таблице, где отсутствует значения столбца 'kitchen_area', количество комнат равно нулю. Можно сделать вывод, что данные квартиры относят к студийным. Квартира-студия — тип квартиры, основным отличием которого является отсутствие внутренних перегородок между кухней и жилыми комнатами или комнатой. В данном случае логично заменить оставшиеся пустые значения столбца 'kitchen_area' медианой по всему набору данных."
   ]
  },
  {
   "cell_type": "code",
   "execution_count": 72,
   "metadata": {},
   "outputs": [
    {
     "name": "stdout",
     "output_type": "stream",
     "text": [
      "Пропуски до: 197\n",
      "Пропуски после: 0\n"
     ]
    }
   ],
   "source": [
    "# замена пустых значения столбца 'kitchen_area' медианой \n",
    "print('Пропуски до:', df['kitchen_area'].isna().sum())\n",
    "df['kitchen_area'] = df['kitchen_area'].fillna(df['kitchen_area'].median())\n",
    "print('Пропуски после:', df['kitchen_area'].isna().sum())"
   ]
  },
  {
   "cell_type": "markdown",
   "metadata": {},
   "source": [
    "Заменим пропущенные значения столбца 'is_apartment' на False, так как строки с пропущенными значениями столбца 'is_apartment' скорее всего относятся к клиентам, которые не знают что такое апартаменты, а следовательно ими не владеют."
   ]
  },
  {
   "cell_type": "code",
   "execution_count": 73,
   "metadata": {},
   "outputs": [
    {
     "name": "stdout",
     "output_type": "stream",
     "text": [
      "Пропуски до: 20924\n",
      "Пропуски после: 0\n"
     ]
    }
   ],
   "source": [
    "# замена пустых значения столбца 'is_apartment' на False\n",
    "print('Пропуски до:', df['is_apartment'].isna().sum())\n",
    "df['is_apartment'] = df['is_apartment'].fillna(False)\n",
    "print('Пропуски после:', df['is_apartment'].isna().sum())"
   ]
  },
  {
   "cell_type": "markdown",
   "metadata": {},
   "source": [
    "Наличие балкона в продаваемой квартире важный критерий при выставлении стоимости. Поэтому, если пользователь не вписал количество балконов, можно сделать вывод, что балкона в квартире нет. Заменим пропущенные значения столбца 'balcony' на ноль."
   ]
  },
  {
   "cell_type": "code",
   "execution_count": 74,
   "metadata": {},
   "outputs": [
    {
     "name": "stdout",
     "output_type": "stream",
     "text": [
      "Пропуски до: 11519\n",
      "Пропуски после: 0\n"
     ]
    }
   ],
   "source": [
    "# замена пустых значения столбца 'balcony' на ноль\n",
    "print('Пропуски до:', df['balcony'].isna().sum())\n",
    "df['balcony'] = df['balcony'].fillna(0)\n",
    "print('Пропуски после:', df['balcony'].isna().sum())"
   ]
  },
  {
   "cell_type": "markdown",
   "metadata": {},
   "source": [
    "Количество строк с незаполненными значениями столбца 'floors_total' составляет меньше 0.4% от общего количества строк таблицы. Значит следует их удалить. Аналогично поступим для стол столбца 'locality_name'."
   ]
  },
  {
   "cell_type": "code",
   "execution_count": 75,
   "metadata": {},
   "outputs": [],
   "source": [
    "# удаление строк с пустыми значениями столбца 'floors_total'\n",
    "df.dropna(subset = ['floors_total'], inplace = True)\n",
    "# удаление строк с пустыми значениями столбца 'locality_name'\n",
    "df.dropna(subset = ['locality_name'], inplace = True)"
   ]
  },
  {
   "cell_type": "markdown",
   "metadata": {},
   "source": [
    "Воспрользуемся методом describe и определим разброс значений для столбца 'ceiling_height'."
   ]
  },
  {
   "cell_type": "code",
   "execution_count": 76,
   "metadata": {},
   "outputs": [
    {
     "data": {
      "text/plain": [
       "count   14,481.00\n",
       "mean         2.77\n",
       "std          1.26\n",
       "min          1.00\n",
       "25%          2.51\n",
       "50%          2.65\n",
       "75%          2.80\n",
       "max        100.00\n",
       "Name: ceiling_height, dtype: float64"
      ]
     },
     "execution_count": 76,
     "metadata": {},
     "output_type": "execute_result"
    }
   ],
   "source": [
    "df['ceiling_height'].describe()"
   ]
  },
  {
   "cell_type": "markdown",
   "metadata": {},
   "source": [
    "Пропуски в столбце 'ceiling_height' следует заменить медианой, так как аномалии не влияют на медианные значения."
   ]
  },
  {
   "cell_type": "code",
   "execution_count": 77,
   "metadata": {},
   "outputs": [
    {
     "name": "stdout",
     "output_type": "stream",
     "text": [
      "Пропуски до: 9084\n",
      "Пропуски после: 0\n"
     ]
    }
   ],
   "source": [
    "# замена пустых значения столбца 'ceiling_height' медианой \n",
    "print('Пропуски до:', df['ceiling_height'].isna().sum())\n",
    "df['ceiling_height'] = df['ceiling_height'].fillna(df['ceiling_height'].median())\n",
    "print('Пропуски после:', df['ceiling_height'].isna().sum())"
   ]
  },
  {
   "cell_type": "markdown",
   "metadata": {},
   "source": [
    "Заполним пустые значения столбцов 'airports_nearest', 'cityCenters_nearest', 'parks_around3000', 'parks_nearest', 'ponds_around3000', 'ponds_nearest' медианой по всему набору данных. Для это перезапишем столбец 'locality_name', удалив типы населенных пунков."
   ]
  },
  {
   "cell_type": "code",
   "execution_count": 78,
   "metadata": {},
   "outputs": [],
   "source": [
    "# перебор ['type_locality_name'] в цикле и удаление типов населенных пунктов\n",
    "type_locality_name = ['посёлок ','городской посёлок ','деревня ','поселок городского типа ', 'поселок ','садовое товарищество ',\n",
    "                      'село ','городской поселок ','поселок станции ', 'посёлок городского типа ','коттеджный поселок ',\n",
    "                      'посёлок при железнодорожной станции ', ' ']\n",
    "for name in type_locality_name:\n",
    "    df['locality_name'] = df['locality_name'].str.replace(name, '')"
   ]
  },
  {
   "cell_type": "code",
   "execution_count": 79,
   "metadata": {},
   "outputs": [
    {
     "name": "stdout",
     "output_type": "stream",
     "text": [
      "airports_nearest\n",
      "Пропуски до: 5524\n",
      "Пропуски после: 5432\n",
      "cityCenters_nearest\n",
      "Пропуски до: 5501\n",
      "Пропуски после: 5432\n",
      "parks_around3000\n",
      "Пропуски до: 5500\n",
      "Пропуски после: 5432\n",
      "parks_nearest\n",
      "Пропуски до: 15535\n",
      "Пропуски после: 5986\n",
      "ponds_around3000\n",
      "Пропуски до: 5500\n",
      "Пропуски после: 5432\n",
      "ponds_nearest\n",
      "Пропуски до: 14529\n",
      "Пропуски после: 5517\n"
     ]
    }
   ],
   "source": [
    "columns_distance = ['airports_nearest', 'cityCenters_nearest', 'parks_around3000', 'parks_nearest', \n",
    "                    'ponds_around3000', 'ponds_nearest']\n",
    "# замена пустых значений столбцов из списка columns_distance медианой по сгруппированным уникальным значениям столбца \n",
    "# из списка columns_distance\n",
    "for col in columns_distance:\n",
    "    print(col)\n",
    "    print('Пропуски до:', df[col].isna().sum())\n",
    "    for item in df['locality_name'].unique():\n",
    "        median = df.loc[df['locality_name'] == item, col].median()\n",
    "        #print(item, median)\n",
    "        df.loc[(df[col].isna()) & (df['locality_name'] == item), col] = median\n",
    "    print('Пропуски после:', df[col].isna().sum())"
   ]
  },
  {
   "cell_type": "code",
   "execution_count": 80,
   "metadata": {},
   "outputs": [
    {
     "name": "stdout",
     "output_type": "stream",
     "text": [
      "Пропуски до: 5432\n",
      "Пропуски после: 0\n",
      "Пропуски до: 5432\n",
      "Пропуски после: 0\n",
      "Пропуски до: 5432\n",
      "Пропуски после: 0\n",
      "Пропуски до: 5986\n",
      "Пропуски после: 0\n",
      "Пропуски до: 5432\n",
      "Пропуски после: 0\n",
      "Пропуски до: 5517\n",
      "Пропуски после: 0\n"
     ]
    }
   ],
   "source": [
    "columns_distance = ['airports_nearest', 'cityCenters_nearest', 'parks_around3000', 'parks_nearest', \n",
    "                    'ponds_around3000', 'ponds_nearest']\n",
    "# замена пустых значения столбцов из списка columns_distance медианой по всему столбцу\n",
    "for col in columns_distance:\n",
    "    print('Пропуски до:', df[col].isna().sum())\n",
    "    df[col] = df[col].fillna(df[col].median())\n",
    "    print('Пропуски после:', df[col].isna().sum())"
   ]
  },
  {
   "cell_type": "markdown",
   "metadata": {},
   "source": [
    "Построим график зависимости числа пропусков в столбце 'days_exposition' от даты публикации объявления 'first_day_exposition'."
   ]
  },
  {
   "cell_type": "code",
   "execution_count": 81,
   "metadata": {},
   "outputs": [
    {
     "data": {
      "text/plain": [
       "<AxesSubplot:xlabel='first_day_exposition'>"
      ]
     },
     "execution_count": 81,
     "metadata": {},
     "output_type": "execute_result"
    },
    {
     "data": {
      "image/png": "[encoded data removed]",
      "text/plain": [
       "<Figure size 1080x360 with 1 Axes>"
      ]
     },
     "metadata": {
      "needs_background": "light"
     },
     "output_type": "display_data"
    }
   ],
   "source": [
    "df['first_day_exposition'] = pd.to_datetime(df['first_day_exposition'])\n",
    "# задаем новый столбец, где определяем пропущена ли дата в столбце 'days_exposition'\n",
    "df['days_exposition_missing'] = df['days_exposition'].isna().astype(int)\n",
    "# строим график зависимости значений 'first_day_exposition' от числа пропусков\n",
    "df.groupby('first_day_exposition').agg({'days_exposition_missing': 'sum'}).plot(grid=True, figsize=(15,5), legend=True)"
   ]
  },
  {
   "cell_type": "markdown",
   "metadata": {},
   "source": [
    "Количество пропущенных значений в столбце 'days_exposition' начинает расти ближе к последним датам таблицы (декабрь 2019 г.), поэтому можно сделать вывод, что строки с пропущенными значениями в столбце 'days_exposition' - это незавершенные объявления. Заполнять или удалять данные с пропущенными значениями столбца 'days_exposition' не нужно. "
   ]
  },
  {
   "cell_type": "code",
   "execution_count": 82,
   "metadata": {},
   "outputs": [
    {
     "data": {
      "text/plain": [
       "total_images                  0\n",
       "last_price                    0\n",
       "total_area                    0\n",
       "first_day_exposition          0\n",
       "rooms                         0\n",
       "ceiling_height                0\n",
       "floors_total                  0\n",
       "living_area                   0\n",
       "floor                         0\n",
       "is_apartment                  0\n",
       "studio                        0\n",
       "open_plan                     0\n",
       "kitchen_area                  0\n",
       "balcony                       0\n",
       "locality_name                 0\n",
       "airports_nearest              0\n",
       "cityCenters_nearest           0\n",
       "parks_around3000              0\n",
       "parks_nearest                 0\n",
       "ponds_around3000              0\n",
       "ponds_nearest                 0\n",
       "days_exposition            3171\n",
       "days_exposition_missing       0\n",
       "dtype: int64"
      ]
     },
     "execution_count": 82,
     "metadata": {},
     "output_type": "execute_result"
    }
   ],
   "source": [
    "# подсчёт пропусков\n",
    "df.isna().sum()"
   ]
  },
  {
   "cell_type": "markdown",
   "metadata": {},
   "source": [
    "Для подсчета и добавления в таблицу дня недели, месяца и года публикации объявления, необходимо перевести строки в даты, используем метод to_datetime()."
   ]
  },
  {
   "cell_type": "code",
   "execution_count": 83,
   "metadata": {},
   "outputs": [],
   "source": [
    "# преобразование столбца DataFrame в datetime \n",
    "df['first_day_exposition'] = pd.to_datetime(df['first_day_exposition'], format='%Y-%m-%dT%H:%M:%S')\n",
    "# преобразование столбца DataFrame в int\n",
    "df['balcony'] = df['balcony'].astype(int)"
   ]
  },
  {
   "cell_type": "markdown",
   "metadata": {},
   "source": [
    "**Вывод**"
   ]
  },
  {
   "cell_type": "markdown",
   "metadata": {},
   "source": [
    "В ходе предобработки данных были выявлены возможные причины возникновения пропущенных значений. Большинство из пропущенных значений удалось заменить подходящими. Всего 134 строки были удалены."
   ]
  },
  {
   "cell_type": "markdown",
   "metadata": {},
   "source": [
    "## Расчёты и добавление результатов в таблицу"
   ]
  },
  {
   "cell_type": "markdown",
   "metadata": {},
   "source": [
    "Посчитаем и добавим в таблицу цену квадратного метра."
   ]
  },
  {
   "cell_type": "code",
   "execution_count": 84,
   "metadata": {},
   "outputs": [],
   "source": [
    "# добавление нового столбеца 'price_per_square_meter' в таблицу df\n",
    "df['price_per_square_meter'] = df['last_price']/df['total_area']"
   ]
  },
  {
   "cell_type": "markdown",
   "metadata": {},
   "source": [
    "Посчитаем и добавим в таблицу день недели, месяц и год публикации объявления."
   ]
  },
  {
   "cell_type": "code",
   "execution_count": 85,
   "metadata": {},
   "outputs": [],
   "source": [
    "# добавление нового столбеца 'weekday', 'month', 'year' в таблицу df\n",
    "df['weekday'] = df['first_day_exposition'].dt.weekday\n",
    "df['month'] = df['first_day_exposition'].dt.month\n",
    "df['year'] = df['first_day_exposition'].dt.year"
   ]
  },
  {
   "cell_type": "markdown",
   "metadata": {},
   "source": [
    "Посчитаем и добавим в таблицу этаж квартиры. Для это сгруппируем этажи на 'первый', 'последний' и 'другой'."
   ]
  },
  {
   "cell_type": "code",
   "execution_count": 86,
   "metadata": {},
   "outputs": [],
   "source": [
    "# функция группировки этажей\n",
    "def floors(row):\n",
    "    if row['floor'] == 1:\n",
    "        return 1\n",
    "    elif row['floor'] == row['floors_total']:\n",
    "        return 3\n",
    "    else:\n",
    "        return 2\n",
    "# добавление нового столбеца 'floors_group' в таблицу df, где 1- первый этаж, 2-другой, 3-последний\n",
    "df['floors_group'] = df.apply(floors, axis=1)"
   ]
  },
  {
   "cell_type": "markdown",
   "metadata": {},
   "source": [
    "Посчитаем и добавим в таблицу соотношение жилой и общей площади, а также отношение площади кухни к общей."
   ]
  },
  {
   "cell_type": "code",
   "execution_count": 87,
   "metadata": {},
   "outputs": [],
   "source": [
    "# добавление нового столбеца 'ratio_living_to_total' в таблицу df\n",
    "df['ratio_living_to_total'] = df['living_area']/df['total_area']\n",
    "# добавление нового столбеца 'ratio_kitchen_to_total' в таблицу df\n",
    "df['ratio_kitchen_to_total'] = df['kitchen_area']/df['total_area']"
   ]
  },
  {
   "cell_type": "markdown",
   "metadata": {},
   "source": [
    "Проверим выполнение операций по расчету и добавлению результатов в таблицу."
   ]
  },
  {
   "cell_type": "code",
   "execution_count": 88,
   "metadata": {},
   "outputs": [
    {
     "data": {
      "text/html": [
       "<div>\n",
       "<style scoped>\n",
       "    .dataframe tbody tr th:only-of-type {\n",
       "        vertical-align: middle;\n",
       "    }\n",
       "\n",
       "    .dataframe tbody tr th {\n",
       "        vertical-align: top;\n",
       "    }\n",
       "\n",
       "    .dataframe thead th {\n",
       "        text-align: right;\n",
       "    }\n",
       "</style>\n",
       "<table border=\"1\" class=\"dataframe\">\n",
       "  <thead>\n",
       "    <tr style=\"text-align: right;\">\n",
       "      <th></th>\n",
       "      <th>total_images</th>\n",
       "      <th>last_price</th>\n",
       "      <th>total_area</th>\n",
       "      <th>first_day_exposition</th>\n",
       "      <th>rooms</th>\n",
       "      <th>ceiling_height</th>\n",
       "      <th>floors_total</th>\n",
       "      <th>living_area</th>\n",
       "      <th>floor</th>\n",
       "      <th>is_apartment</th>\n",
       "      <th>studio</th>\n",
       "      <th>open_plan</th>\n",
       "      <th>kitchen_area</th>\n",
       "      <th>balcony</th>\n",
       "      <th>locality_name</th>\n",
       "      <th>airports_nearest</th>\n",
       "      <th>cityCenters_nearest</th>\n",
       "      <th>parks_around3000</th>\n",
       "      <th>parks_nearest</th>\n",
       "      <th>ponds_around3000</th>\n",
       "      <th>ponds_nearest</th>\n",
       "      <th>days_exposition</th>\n",
       "      <th>days_exposition_missing</th>\n",
       "      <th>price_per_square_meter</th>\n",
       "      <th>weekday</th>\n",
       "      <th>month</th>\n",
       "      <th>year</th>\n",
       "      <th>floors_group</th>\n",
       "      <th>ratio_living_to_total</th>\n",
       "      <th>ratio_kitchen_to_total</th>\n",
       "    </tr>\n",
       "  </thead>\n",
       "  <tbody>\n",
       "    <tr>\n",
       "      <th>0</th>\n",
       "      <td>20</td>\n",
       "      <td>13,000,000.00</td>\n",
       "      <td>108.00</td>\n",
       "      <td>2019-03-07</td>\n",
       "      <td>3</td>\n",
       "      <td>2.70</td>\n",
       "      <td>16.00</td>\n",
       "      <td>51.00</td>\n",
       "      <td>8</td>\n",
       "      <td>False</td>\n",
       "      <td>False</td>\n",
       "      <td>False</td>\n",
       "      <td>25.00</td>\n",
       "      <td>0</td>\n",
       "      <td>Санкт-Петербург</td>\n",
       "      <td>18,863.00</td>\n",
       "      <td>16,028.00</td>\n",
       "      <td>1.00</td>\n",
       "      <td>482.00</td>\n",
       "      <td>2.00</td>\n",
       "      <td>755.00</td>\n",
       "      <td>NaN</td>\n",
       "      <td>1</td>\n",
       "      <td>120,370.37</td>\n",
       "      <td>3</td>\n",
       "      <td>3</td>\n",
       "      <td>2019</td>\n",
       "      <td>2</td>\n",
       "      <td>0.47</td>\n",
       "      <td>0.23</td>\n",
       "    </tr>\n",
       "    <tr>\n",
       "      <th>1</th>\n",
       "      <td>7</td>\n",
       "      <td>3,350,000.00</td>\n",
       "      <td>40.40</td>\n",
       "      <td>2018-12-04</td>\n",
       "      <td>1</td>\n",
       "      <td>2.65</td>\n",
       "      <td>11.00</td>\n",
       "      <td>18.60</td>\n",
       "      <td>1</td>\n",
       "      <td>False</td>\n",
       "      <td>False</td>\n",
       "      <td>False</td>\n",
       "      <td>11.00</td>\n",
       "      <td>2</td>\n",
       "      <td>Шушары</td>\n",
       "      <td>12,817.00</td>\n",
       "      <td>18,603.00</td>\n",
       "      <td>0.00</td>\n",
       "      <td>460.00</td>\n",
       "      <td>0.00</td>\n",
       "      <td>584.50</td>\n",
       "      <td>81.00</td>\n",
       "      <td>0</td>\n",
       "      <td>82,920.79</td>\n",
       "      <td>1</td>\n",
       "      <td>12</td>\n",
       "      <td>2018</td>\n",
       "      <td>1</td>\n",
       "      <td>0.46</td>\n",
       "      <td>0.27</td>\n",
       "    </tr>\n",
       "    <tr>\n",
       "      <th>2</th>\n",
       "      <td>10</td>\n",
       "      <td>5,196,000.00</td>\n",
       "      <td>56.00</td>\n",
       "      <td>2015-08-20</td>\n",
       "      <td>2</td>\n",
       "      <td>2.65</td>\n",
       "      <td>5.00</td>\n",
       "      <td>34.30</td>\n",
       "      <td>4</td>\n",
       "      <td>False</td>\n",
       "      <td>False</td>\n",
       "      <td>False</td>\n",
       "      <td>8.30</td>\n",
       "      <td>0</td>\n",
       "      <td>Санкт-Петербург</td>\n",
       "      <td>21,741.00</td>\n",
       "      <td>13,933.00</td>\n",
       "      <td>1.00</td>\n",
       "      <td>90.00</td>\n",
       "      <td>2.00</td>\n",
       "      <td>574.00</td>\n",
       "      <td>558.00</td>\n",
       "      <td>0</td>\n",
       "      <td>92,785.71</td>\n",
       "      <td>3</td>\n",
       "      <td>8</td>\n",
       "      <td>2015</td>\n",
       "      <td>2</td>\n",
       "      <td>0.61</td>\n",
       "      <td>0.15</td>\n",
       "    </tr>\n",
       "    <tr>\n",
       "      <th>3</th>\n",
       "      <td>0</td>\n",
       "      <td>64,900,000.00</td>\n",
       "      <td>159.00</td>\n",
       "      <td>2015-07-24</td>\n",
       "      <td>3</td>\n",
       "      <td>2.65</td>\n",
       "      <td>14.00</td>\n",
       "      <td>45.00</td>\n",
       "      <td>9</td>\n",
       "      <td>False</td>\n",
       "      <td>False</td>\n",
       "      <td>False</td>\n",
       "      <td>9.50</td>\n",
       "      <td>0</td>\n",
       "      <td>Санкт-Петербург</td>\n",
       "      <td>28,098.00</td>\n",
       "      <td>6,800.00</td>\n",
       "      <td>2.00</td>\n",
       "      <td>84.00</td>\n",
       "      <td>3.00</td>\n",
       "      <td>234.00</td>\n",
       "      <td>424.00</td>\n",
       "      <td>0</td>\n",
       "      <td>408,176.10</td>\n",
       "      <td>4</td>\n",
       "      <td>7</td>\n",
       "      <td>2015</td>\n",
       "      <td>2</td>\n",
       "      <td>0.28</td>\n",
       "      <td>0.06</td>\n",
       "    </tr>\n",
       "    <tr>\n",
       "      <th>4</th>\n",
       "      <td>2</td>\n",
       "      <td>10,000,000.00</td>\n",
       "      <td>100.00</td>\n",
       "      <td>2018-06-19</td>\n",
       "      <td>2</td>\n",
       "      <td>3.03</td>\n",
       "      <td>14.00</td>\n",
       "      <td>32.00</td>\n",
       "      <td>13</td>\n",
       "      <td>False</td>\n",
       "      <td>False</td>\n",
       "      <td>False</td>\n",
       "      <td>41.00</td>\n",
       "      <td>0</td>\n",
       "      <td>Санкт-Петербург</td>\n",
       "      <td>31,856.00</td>\n",
       "      <td>8,098.00</td>\n",
       "      <td>2.00</td>\n",
       "      <td>112.00</td>\n",
       "      <td>1.00</td>\n",
       "      <td>48.00</td>\n",
       "      <td>121.00</td>\n",
       "      <td>0</td>\n",
       "      <td>100,000.00</td>\n",
       "      <td>1</td>\n",
       "      <td>6</td>\n",
       "      <td>2018</td>\n",
       "      <td>2</td>\n",
       "      <td>0.32</td>\n",
       "      <td>0.41</td>\n",
       "    </tr>\n",
       "  </tbody>\n",
       "</table>\n",
       "</div>"
      ],
      "text/plain": [
       "   total_images    last_price  total_area first_day_exposition  rooms  \\\n",
       "0            20 13,000,000.00      108.00           2019-03-07      3   \n",
       "1             7  3,350,000.00       40.40           2018-12-04      1   \n",
       "2            10  5,196,000.00       56.00           2015-08-20      2   \n",
       "3             0 64,900,000.00      159.00           2015-07-24      3   \n",
       "4             2 10,000,000.00      100.00           2018-06-19      2   \n",
       "\n",
       "   ceiling_height  floors_total  living_area  floor  is_apartment  studio  \\\n",
       "0            2.70         16.00        51.00      8         False   False   \n",
       "1            2.65         11.00        18.60      1         False   False   \n",
       "2            2.65          5.00        34.30      4         False   False   \n",
       "3            2.65         14.00        45.00      9         False   False   \n",
       "4            3.03         14.00        32.00     13         False   False   \n",
       "\n",
       "   open_plan  kitchen_area  balcony    locality_name  airports_nearest  \\\n",
       "0      False         25.00        0  Санкт-Петербург         18,863.00   \n",
       "1      False         11.00        2           Шушары         12,817.00   \n",
       "2      False          8.30        0  Санкт-Петербург         21,741.00   \n",
       "3      False          9.50        0  Санкт-Петербург         28,098.00   \n",
       "4      False         41.00        0  Санкт-Петербург         31,856.00   \n",
       "\n",
       "   cityCenters_nearest  parks_around3000  parks_nearest  ponds_around3000  \\\n",
       "0            16,028.00              1.00         482.00              2.00   \n",
       "1            18,603.00              0.00         460.00              0.00   \n",
       "2            13,933.00              1.00          90.00              2.00   \n",
       "3             6,800.00              2.00          84.00              3.00   \n",
       "4             8,098.00              2.00         112.00              1.00   \n",
       "\n",
       "   ponds_nearest  days_exposition  days_exposition_missing  \\\n",
       "0         755.00              NaN                        1   \n",
       "1         584.50            81.00                        0   \n",
       "2         574.00           558.00                        0   \n",
       "3         234.00           424.00                        0   \n",
       "4          48.00           121.00                        0   \n",
       "\n",
       "   price_per_square_meter  weekday  month  year  floors_group  \\\n",
       "0              120,370.37        3      3  2019             2   \n",
       "1               82,920.79        1     12  2018             1   \n",
       "2               92,785.71        3      8  2015             2   \n",
       "3              408,176.10        4      7  2015             2   \n",
       "4              100,000.00        1      6  2018             2   \n",
       "\n",
       "   ratio_living_to_total  ratio_kitchen_to_total  \n",
       "0                   0.47                    0.23  \n",
       "1                   0.46                    0.27  \n",
       "2                   0.61                    0.15  \n",
       "3                   0.28                    0.06  \n",
       "4                   0.32                    0.41  "
      ]
     },
     "execution_count": 88,
     "metadata": {},
     "output_type": "execute_result"
    }
   ],
   "source": [
    "# вывод первых пяти строк таблицы df\n",
    "df.head(5)"
   ]
  },
  {
   "cell_type": "markdown",
   "metadata": {},
   "source": [
    "**Вывод**"
   ]
  },
  {
   "cell_type": "markdown",
   "metadata": {},
   "source": [
    "На данном этапе были посчитаны и добавлены в таблицу цена квадратного метра, день недели, месяц и год публикации объявления, этаж квартиры (варианты — первый (1), последний (3), другой (2)), соотношение жилой и общей площади, а также отношение площади кухни к общей."
   ]
  },
  {
   "cell_type": "markdown",
   "metadata": {},
   "source": [
    "## Исследовательский анализ данных"
   ]
  },
  {
   "cell_type": "markdown",
   "metadata": {},
   "source": [
    "###  Исследование площади, цены, числа комнат, высоты потолков"
   ]
  },
  {
   "cell_type": "code",
   "execution_count": 89,
   "metadata": {},
   "outputs": [],
   "source": [
    "# импорт модуля pyplot библиотеки matplotlib\n",
    "import matplotlib.pyplot as plt "
   ]
  },
  {
   "cell_type": "markdown",
   "metadata": {},
   "source": [
    "Изучим следующие параметры: площадь, цена, число комнат, высота потолков. Построим гистограммы для каждого параметра."
   ]
  },
  {
   "cell_type": "code",
   "execution_count": 90,
   "metadata": {},
   "outputs": [
    {
     "data": {
      "image/png": "[encoded data removed]",
      "text/plain": [
       "<Figure size 720x360 with 1 Axes>"
      ]
     },
     "metadata": {
      "needs_background": "light"
     },
     "output_type": "display_data"
    },
    {
     "data": {
      "image/png": "[encoded data removed]",
      "text/plain": [
       "<Figure size 720x360 with 1 Axes>"
      ]
     },
     "metadata": {
      "needs_background": "light"
     },
     "output_type": "display_data"
    },
    {
     "data": {
      "image/png": "[encoded data removed]",
      "text/plain": [
       "<Figure size 720x360 with 1 Axes>"
      ]
     },
     "metadata": {
      "needs_background": "light"
     },
     "output_type": "display_data"
    },
    {
     "data": {
      "image/png": "[encoded data removed]",
      "text/plain": [
       "<Figure size 720x360 with 1 Axes>"
      ]
     },
     "metadata": {
      "needs_background": "light"
     },
     "output_type": "display_data"
    }
   ],
   "source": [
    "columns = ['total_area', 'last_price', 'rooms', 'ceiling_height']\n",
    "unit_dict = {'total_area' : 'м2', 'last_price': 'руб.', 'rooms': 'шт.', 'ceiling_height':'м'}\n",
    "for item in columns:\n",
    "    df[item].plot(kind='hist', grid=True, figsize=(10,5))\n",
    "    plt.xlabel(f'{item}, {unit_dict[item]}')\n",
    "    plt.ylabel('Количество квартир')\n",
    "    plt.show()\n",
    "    "
   ]
  },
  {
   "cell_type": "code",
   "execution_count": 91,
   "metadata": {},
   "outputs": [
    {
     "name": "stdout",
     "output_type": "stream",
     "text": [
      "total_area\n",
      "count   23,565.00\n",
      "mean        60.32\n",
      "std         35.66\n",
      "min         12.00\n",
      "25%         40.00\n",
      "50%         52.00\n",
      "75%         69.70\n",
      "max        900.00\n",
      "Name: total_area, dtype: float64\n",
      "\n",
      "last_price\n",
      "count        23,565.00\n",
      "mean      6,540,058.26\n",
      "std      10,910,934.72\n",
      "min          12,190.00\n",
      "25%       3,400,000.00\n",
      "50%       4,646,000.00\n",
      "75%       6,790,000.00\n",
      "max     763,000,000.00\n",
      "Name: last_price, dtype: float64\n",
      "\n",
      "rooms\n",
      "count   23,565.00\n",
      "mean         2.07\n",
      "std          1.08\n",
      "min          0.00\n",
      "25%          1.00\n",
      "50%          2.00\n",
      "75%          3.00\n",
      "max         19.00\n",
      "Name: rooms, dtype: float64\n",
      "\n",
      "ceiling_height\n",
      "count   23,565.00\n",
      "mean         2.72\n",
      "std          0.99\n",
      "min          1.00\n",
      "25%          2.60\n",
      "50%          2.65\n",
      "75%          2.70\n",
      "max        100.00\n",
      "Name: ceiling_height, dtype: float64\n",
      "\n"
     ]
    }
   ],
   "source": [
    "# получение списока характерных значений, дающий представление о выборке, используя метод describe\n",
    "columns = ['total_area', 'last_price', 'rooms', 'ceiling_height']\n",
    "for item in columns:\n",
    "    print(item)\n",
    "    print(df[item].describe())\n",
    "    print()"
   ]
  },
  {
   "cell_type": "markdown",
   "metadata": {},
   "source": [
    "**Вывод**"
   ]
  },
  {
   "cell_type": "markdown",
   "metadata": {},
   "source": [
    "Исследуя гистограммы и списоки характерных значений, имеем: \n",
    "1. В среднем квартиры, высталенные на продажу, имеют площадь примерно 50-60 квадратных метров; \n",
    "2. Средняя цена квратиры сильно отличнается от медианной, что свидетельсвтует, о большом разбросе цен; \n",
    "3. Более однородные данные в столбце 'rooms' и 'ceiling_height', но существует квартира с 19 комнатами и квартира с высотой потолка 100 м, что для исследования считается выбросомами, которые необходимо удалить."
   ]
  },
  {
   "cell_type": "markdown",
   "metadata": {},
   "source": [
    "###  Исследование времени продажи квартиры"
   ]
  },
  {
   "cell_type": "markdown",
   "metadata": {},
   "source": [
    "Построим гистограмму времени продажи квартиры и посчитаем среднее и медиану."
   ]
  },
  {
   "cell_type": "code",
   "execution_count": 92,
   "metadata": {},
   "outputs": [
    {
     "data": {
      "text/plain": [
       "<AxesSubplot:>"
      ]
     },
     "execution_count": 92,
     "metadata": {},
     "output_type": "execute_result"
    },
    {
     "data": {
      "image/png": "[encoded data removed]",
      "text/plain": [
       "<Figure size 720x360 with 1 Axes>"
      ]
     },
     "metadata": {
      "needs_background": "light"
     },
     "output_type": "display_data"
    }
   ],
   "source": [
    "# гистограмма распределения объявлений по длительности экспозиции\n",
    "df['days_exposition'].hist(bins=50, grid=True, figsize=(10,5))"
   ]
  },
  {
   "cell_type": "code",
   "execution_count": 93,
   "metadata": {},
   "outputs": [
    {
     "data": {
      "image/png": "[encoded data removed]",
      "text/plain": [
       "<Figure size 720x360 with 1 Axes>"
      ]
     },
     "metadata": {
      "needs_background": "light"
     },
     "output_type": "display_data"
    }
   ],
   "source": [
    "# отображение диаграммы ящик с усами\n",
    "df.boxplot('days_exposition', figsize=(10,5))\n",
    "plt.show()"
   ]
  },
  {
   "cell_type": "code",
   "execution_count": 94,
   "metadata": {},
   "outputs": [
    {
     "data": {
      "text/plain": [
       "count   20,394.00\n",
       "mean       180.74\n",
       "std        219.73\n",
       "min          1.00\n",
       "25%         45.00\n",
       "50%         95.00\n",
       "75%        231.00\n",
       "max      1,580.00\n",
       "Name: days_exposition, dtype: float64"
      ]
     },
     "execution_count": 94,
     "metadata": {},
     "output_type": "execute_result"
    }
   ],
   "source": [
    "# подсчет среднего значения и медианы методом describe\n",
    "df['days_exposition'].describe()"
   ]
  },
  {
   "cell_type": "code",
   "execution_count": 95,
   "metadata": {},
   "outputs": [
    {
     "data": {
      "text/plain": [
       "1067.1399999999994"
      ]
     },
     "execution_count": 95,
     "metadata": {},
     "output_type": "execute_result"
    }
   ],
   "source": [
    "# подсчет верхней границы для столбца 'days_exposition'\n",
    "df['days_exposition'].quantile(0.99)"
   ]
  },
  {
   "cell_type": "code",
   "execution_count": 96,
   "metadata": {},
   "outputs": [
    {
     "data": {
      "text/plain": [
       "4.0"
      ]
     },
     "execution_count": 96,
     "metadata": {},
     "output_type": "execute_result"
    }
   ],
   "source": [
    "# подсчет нижней границы для столбца 'days_exposition'\n",
    "df['days_exposition'].quantile(0.01)"
   ]
  },
  {
   "cell_type": "markdown",
   "metadata": {},
   "source": [
    "Использовав метод describe получили среднее значение, медиану, количество наблюдений в выборке и разброс их значений. \n",
    "Обычно продажа занимает примерно 95 дней. На диаграмме, построенной методом boxplot, видно, что есть выбросы.\n",
    "«Усы» простираются верх от границ ящика на расстояние, равное 1,5 межквартильного размаха, а вниз меньше, чем расстояние, равное 1,5 межквартильного размаха. В размах «усов» попадают нормальные значения, а за пределами находятся выбросы, изображённые точками. Поэтому необходимо удалить выбросы, то есть продажи, длительность которых осуществилась за 1067 дней и более. Можно считать, что продажа прошла быстро, если ее длительность составляет меньше 4 дней."
   ]
  },
  {
   "cell_type": "markdown",
   "metadata": {},
   "source": [
    "###  Удаление редких и выбивающиеся значения"
   ]
  },
  {
   "cell_type": "markdown",
   "metadata": {},
   "source": [
    "Изучим разброс значений столбцов 'total_area', 'last_price', 'rooms', 'ceiling_height' при помощи метода boxplot."
   ]
  },
  {
   "cell_type": "code",
   "execution_count": 97,
   "metadata": {},
   "outputs": [
    {
     "data": {
      "image/png": "[encoded data removed]",
      "text/plain": [
       "<Figure size 720x360 with 1 Axes>"
      ]
     },
     "metadata": {
      "needs_background": "light"
     },
     "output_type": "display_data"
    },
    {
     "data": {
      "image/png": "[encoded data removed]",
      "text/plain": [
       "<Figure size 720x360 with 1 Axes>"
      ]
     },
     "metadata": {
      "needs_background": "light"
     },
     "output_type": "display_data"
    },
    {
     "data": {
      "image/png": "[encoded data removed]",
      "text/plain": [
       "<Figure size 720x360 with 1 Axes>"
      ]
     },
     "metadata": {
      "needs_background": "light"
     },
     "output_type": "display_data"
    },
    {
     "data": {
      "image/png": "[encoded data removed]",
      "text/plain": [
       "<Figure size 720x360 with 1 Axes>"
      ]
     },
     "metadata": {
      "needs_background": "light"
     },
     "output_type": "display_data"
    }
   ],
   "source": [
    "columns = ['total_area', 'last_price', 'rooms', 'ceiling_height']\n",
    "for item in columns:\n",
    "    df.boxplot(item, figsize=(10,5))\n",
    "    plt.ylabel('Количество квартир')\n",
    "    plt.show()"
   ]
  },
  {
   "cell_type": "markdown",
   "metadata": {},
   "source": [
    "В данных распределения несимметричные, поэтому более точным будет искать границу через перцентили. На диаграммах видно, что выбросы сверху и снизу распределены только для столбца 'ceiling_height', поэтому установим верхнюю границу для столбцов 'total_area', 'last_price', 'rooms', 'ceiling_height' на уровне 99% перцентиль, а для столбца 'ceiling_height' еще и нижнюю границу на уровне 1%."
   ]
  },
  {
   "cell_type": "code",
   "execution_count": 98,
   "metadata": {},
   "outputs": [],
   "source": [
    "# удаление выбросов в столбах 'days_exposition', 'total_area', 'last_price', 'rooms', 'ceiling_height'\n",
    "df_new = df[(df['days_exposition'] < df['days_exposition'].quantile(0.99)) & \n",
    "            (df['total_area'] < df['total_area'].quantile(0.99)) &\n",
    "           (df['last_price'] < df['last_price'].quantile(0.99)) &\n",
    "           (df['rooms'] < df['rooms'].quantile(0.99)) &\n",
    "           (df['ceiling_height'] < df['ceiling_height'].quantile(0.99)) &\n",
    "           (df['ceiling_height'] > df['ceiling_height'].quantile(0.01))]"
   ]
  },
  {
   "cell_type": "code",
   "execution_count": 99,
   "metadata": {},
   "outputs": [
    {
     "name": "stdout",
     "output_type": "stream",
     "text": [
      "total_area\n",
      "count   16,619.00\n",
      "mean        56.45\n",
      "std         23.28\n",
      "min         12.00\n",
      "25%         39.55\n",
      "50%         51.00\n",
      "75%         68.00\n",
      "max        197.00\n",
      "Name: total_area, dtype: float64\n",
      "\n",
      "last_price\n",
      "count       16,619.00\n",
      "mean     5,612,924.98\n",
      "std      3,788,857.02\n",
      "min         12,190.00\n",
      "25%      3,450,000.00\n",
      "50%      4,600,000.00\n",
      "75%      6,500,000.00\n",
      "max     35,900,000.00\n",
      "Name: last_price, dtype: float64\n",
      "\n",
      "rooms\n",
      "count   16,619.00\n",
      "mean         1.93\n",
      "std          0.90\n",
      "min          0.00\n",
      "25%          1.00\n",
      "50%          2.00\n",
      "75%          3.00\n",
      "max          4.00\n",
      "Name: rooms, dtype: float64\n",
      "\n",
      "ceiling_height\n",
      "count   16,619.00\n",
      "mean         2.70\n",
      "std          0.15\n",
      "min          2.51\n",
      "25%          2.65\n",
      "50%          2.65\n",
      "75%          2.70\n",
      "max          3.59\n",
      "Name: ceiling_height, dtype: float64\n",
      "\n",
      "days_exposition\n",
      "count   16,619.00\n",
      "mean       169.37\n",
      "std        192.93\n",
      "min          2.00\n",
      "25%         45.00\n",
      "50%         93.00\n",
      "75%        222.00\n",
      "max      1,066.00\n",
      "Name: days_exposition, dtype: float64\n",
      "\n"
     ]
    }
   ],
   "source": [
    "# получение списока характерных значений, дающий представление о выборке, используя метод describe\n",
    "columns = ['total_area', 'last_price', 'rooms', 'ceiling_height', 'days_exposition']\n",
    "for item in columns:\n",
    "    print(item)\n",
    "    print(df_new[item].describe())\n",
    "    print()"
   ]
  },
  {
   "cell_type": "code",
   "execution_count": 100,
   "metadata": {},
   "outputs": [
    {
     "data": {
      "text/html": [
       "<div>\n",
       "<style scoped>\n",
       "    .dataframe tbody tr th:only-of-type {\n",
       "        vertical-align: middle;\n",
       "    }\n",
       "\n",
       "    .dataframe tbody tr th {\n",
       "        vertical-align: top;\n",
       "    }\n",
       "\n",
       "    .dataframe thead th {\n",
       "        text-align: right;\n",
       "    }\n",
       "</style>\n",
       "<table border=\"1\" class=\"dataframe\">\n",
       "  <thead>\n",
       "    <tr style=\"text-align: right;\">\n",
       "      <th></th>\n",
       "      <th>total_area</th>\n",
       "      <th>last_price</th>\n",
       "      <th>rooms</th>\n",
       "      <th>ceiling_height</th>\n",
       "      <th>days_exposition</th>\n",
       "    </tr>\n",
       "  </thead>\n",
       "  <tbody>\n",
       "    <tr>\n",
       "      <th>0</th>\n",
       "      <td>35.66</td>\n",
       "      <td>10,910,930.00</td>\n",
       "      <td>1.08</td>\n",
       "      <td>0.99</td>\n",
       "      <td>219.73</td>\n",
       "    </tr>\n",
       "    <tr>\n",
       "      <th>1</th>\n",
       "      <td>23.28</td>\n",
       "      <td>3,788,857.00</td>\n",
       "      <td>0.90</td>\n",
       "      <td>0.15</td>\n",
       "      <td>192.93</td>\n",
       "    </tr>\n",
       "  </tbody>\n",
       "</table>\n",
       "</div>"
      ],
      "text/plain": [
       "   total_area    last_price  rooms  ceiling_height  days_exposition\n",
       "0       35.66 10,910,930.00   1.08            0.99           219.73\n",
       "1       23.28  3,788,857.00   0.90            0.15           192.93"
      ]
     },
     "metadata": {},
     "output_type": "display_data"
    }
   ],
   "source": [
    "# Таблица с результатами до обработки выбросов и после по значению стандартного отклонения\n",
    "columns = ['total_area', 'last_price', 'rooms', 'ceiling_height', 'days_exposition']\n",
    "data = [[35.657060, 1.091093e+07, 1.078591, 0.991026, 219.732782],\n",
    "        [23.279033, 3.788857e+06, 0.904739, 0.154513, 192.930572]]\n",
    "new_std= pd.DataFrame(data = data, columns = columns)\n",
    "display(new_std)"
   ]
  },
  {
   "cell_type": "code",
   "execution_count": 101,
   "metadata": {},
   "outputs": [
    {
     "name": "stdout",
     "output_type": "stream",
     "text": [
      "total_area\n",
      "         before     after\n",
      "count 23,565.00 16,619.00\n",
      "mean      60.32     56.45\n",
      "std       35.66     23.28\n",
      "min       12.00     12.00\n",
      "25%       40.00     39.55\n",
      "50%       52.00     51.00\n",
      "75%       69.70     68.00\n",
      "max      900.00    197.00\n",
      "\n",
      "last_price\n",
      "              before         after\n",
      "count      23,565.00     16,619.00\n",
      "mean    6,540,058.26  5,612,924.98\n",
      "std    10,910,934.72  3,788,857.02\n",
      "min        12,190.00     12,190.00\n",
      "25%     3,400,000.00  3,450,000.00\n",
      "50%     4,646,000.00  4,600,000.00\n",
      "75%     6,790,000.00  6,500,000.00\n",
      "max   763,000,000.00 35,900,000.00\n",
      "\n",
      "rooms\n",
      "         before     after\n",
      "count 23,565.00 16,619.00\n",
      "mean       2.07      1.93\n",
      "std        1.08      0.90\n",
      "min        0.00      0.00\n",
      "25%        1.00      1.00\n",
      "50%        2.00      2.00\n",
      "75%        3.00      3.00\n",
      "max       19.00      4.00\n",
      "\n",
      "ceiling_height\n",
      "         before     after\n",
      "count 23,565.00 16,619.00\n",
      "mean       2.72      2.70\n",
      "std        0.99      0.15\n",
      "min        1.00      2.51\n",
      "25%        2.60      2.65\n",
      "50%        2.65      2.65\n",
      "75%        2.70      2.70\n",
      "max      100.00      3.59\n",
      "\n",
      "days_exposition\n",
      "         before     after\n",
      "count 20,394.00 16,619.00\n",
      "mean     180.74    169.37\n",
      "std      219.73    192.93\n",
      "min        1.00      2.00\n",
      "25%       45.00     45.00\n",
      "50%       95.00     93.00\n",
      "75%      231.00    222.00\n",
      "max    1,580.00  1,066.00\n",
      "\n"
     ]
    }
   ],
   "source": [
    "# получение характерных значений, дающий представление о выборке до обработки выбросов и после\n",
    "columns = ['total_area', 'last_price', 'rooms', 'ceiling_height', 'days_exposition']\n",
    "for item in columns:\n",
    "    print(item)\n",
    "    before = df[[item]].describe().rename(columns={item: 'before'})\n",
    "    after = df_new[[item]].describe().rename(columns={item: 'after'})\n",
    "    print(before.join(after))\n",
    "    print()"
   ]
  },
  {
   "cell_type": "markdown",
   "metadata": {},
   "source": [
    "**Вывод**"
   ]
  },
  {
   "cell_type": "markdown",
   "metadata": {},
   "source": [
    "При анализе данных в столбцах 'total_area', 'last_price', 'rooms', 'ceiling_height', 'days_exposition' были обнаружены большие по значению стандартные отклонения. Стандартное отклонение — значение, характеризующее разброс величин и показывающее, насколько значения в выборке отличаются от среднего арифметического. Если же стандартное отклонение велико, в наборе данных могут быть серьёзные аномалии или выбросы. После удаления выбросов в данных значения охарактеризованы более малым стандартным отклонением, что позволяет сделать вывод, что значения стали однороднее."
   ]
  },
  {
   "cell_type": "markdown",
   "metadata": {},
   "source": [
    "###  Факторы, влияющие на стоимость квартиры"
   ]
  },
  {
   "cell_type": "markdown",
   "metadata": {},
   "source": [
    " Определим факторы, которые больше всего влияют на стоимость квартиры."
   ]
  },
  {
   "cell_type": "code",
   "execution_count": 102,
   "metadata": {},
   "outputs": [
    {
     "data": {
      "text/html": [
       "<div>\n",
       "<style scoped>\n",
       "    .dataframe tbody tr th:only-of-type {\n",
       "        vertical-align: middle;\n",
       "    }\n",
       "\n",
       "    .dataframe tbody tr th {\n",
       "        vertical-align: top;\n",
       "    }\n",
       "\n",
       "    .dataframe thead th {\n",
       "        text-align: right;\n",
       "    }\n",
       "</style>\n",
       "<table border=\"1\" class=\"dataframe\">\n",
       "  <thead>\n",
       "    <tr style=\"text-align: right;\">\n",
       "      <th></th>\n",
       "      <th>price_per_square_meter</th>\n",
       "      <th>total_area</th>\n",
       "      <th>rooms</th>\n",
       "      <th>cityCenters_nearest</th>\n",
       "    </tr>\n",
       "  </thead>\n",
       "  <tbody>\n",
       "    <tr>\n",
       "      <th>price_per_square_meter</th>\n",
       "      <td>1.00</td>\n",
       "      <td>0.16</td>\n",
       "      <td>-0.07</td>\n",
       "      <td>-0.27</td>\n",
       "    </tr>\n",
       "    <tr>\n",
       "      <th>total_area</th>\n",
       "      <td>0.16</td>\n",
       "      <td>1.00</td>\n",
       "      <td>0.79</td>\n",
       "      <td>-0.17</td>\n",
       "    </tr>\n",
       "    <tr>\n",
       "      <th>rooms</th>\n",
       "      <td>-0.07</td>\n",
       "      <td>0.79</td>\n",
       "      <td>1.00</td>\n",
       "      <td>-0.12</td>\n",
       "    </tr>\n",
       "    <tr>\n",
       "      <th>cityCenters_nearest</th>\n",
       "      <td>-0.27</td>\n",
       "      <td>-0.17</td>\n",
       "      <td>-0.12</td>\n",
       "      <td>1.00</td>\n",
       "    </tr>\n",
       "  </tbody>\n",
       "</table>\n",
       "</div>"
      ],
      "text/plain": [
       "                        price_per_square_meter  total_area  rooms  \\\n",
       "price_per_square_meter                    1.00        0.16  -0.07   \n",
       "total_area                                0.16        1.00   0.79   \n",
       "rooms                                    -0.07        0.79   1.00   \n",
       "cityCenters_nearest                      -0.27       -0.17  -0.12   \n",
       "\n",
       "                        cityCenters_nearest  \n",
       "price_per_square_meter                -0.27  \n",
       "total_area                            -0.17  \n",
       "rooms                                 -0.12  \n",
       "cityCenters_nearest                    1.00  "
      ]
     },
     "execution_count": 102,
     "metadata": {},
     "output_type": "execute_result"
    }
   ],
   "source": [
    "# корреляция столбцов 'price_per_square_meter', 'total_area', 'rooms', 'cityCenters_nearest'\n",
    "df_new[['price_per_square_meter', 'total_area', 'rooms', 'cityCenters_nearest']].corr()"
   ]
  },
  {
   "cell_type": "markdown",
   "metadata": {},
   "source": [
    "Определим взаимосвязь цены квадратного метра от площади."
   ]
  },
  {
   "cell_type": "code",
   "execution_count": 103,
   "metadata": {},
   "outputs": [
    {
     "data": {
      "image/png": "[encoded data removed]",
      "text/plain": [
       "<Figure size 432x288 with 2 Axes>"
      ]
     },
     "metadata": {
      "needs_background": "light"
     },
     "output_type": "display_data"
    }
   ],
   "source": [
    "# диаграмма рассеяния 'total_area' и 'price_per_square_meter'\n",
    "df_new.plot(x='total_area', y='price_per_square_meter', kind='hexbin', gridsize=35, sharex=False, grid=True)\n",
    "plt.xlim(1,130)\n",
    "plt.ylim(1,300000)\n",
    "plt.show()"
   ]
  },
  {
   "cell_type": "markdown",
   "metadata": {},
   "source": [
    "На графике видно, что между общей площадью и стоимостью квадратного метра существует обратная зависимость. Интенсивность зоны графика убывает в сторону больших значений общей площади. А значит, чем больше площадь квартиры, тем дешевле стоит квадратный метр."
   ]
  },
  {
   "cell_type": "markdown",
   "metadata": {},
   "source": [
    "Определим взаимосвязь цены квадратного метра от количества комнат."
   ]
  },
  {
   "cell_type": "code",
   "execution_count": 104,
   "metadata": {},
   "outputs": [
    {
     "data": {
      "image/png": "[encoded data removed]",
      "text/plain": [
       "<Figure size 720x432 with 1 Axes>"
      ]
     },
     "metadata": {
      "needs_background": "light"
     },
     "output_type": "display_data"
    }
   ],
   "source": [
    "# диаграмма размаха для цены квадратного метра по сгруппированным количествам комнат \n",
    "df_new.boxplot(column='price_per_square_meter', by='rooms', figsize=(10, 6))\n",
    "plt.ylim(1,250000)\n",
    "plt.show()"
   ]
  },
  {
   "cell_type": "markdown",
   "metadata": {},
   "source": [
    "Средняя цена за квадратный метр зависит от количества комнат. Наибольшая цена за квадратный метр составляет в однокомнатной квартире. Самый дешевый квадратный метр стоит в многокомнатных квартирах. Следовательно, чем больше комнат в квартире, тем дешевле квадратный метр."
   ]
  },
  {
   "cell_type": "markdown",
   "metadata": {},
   "source": [
    "Определим взаимосвязь цены квадратного метра от удалённости от центра."
   ]
  },
  {
   "cell_type": "code",
   "execution_count": 105,
   "metadata": {},
   "outputs": [],
   "source": [
    "# перевод 'cityCenters_nearest' в км и округление до целых значений\n",
    "df_new['cityCenters_nearest'] = (df_new['cityCenters_nearest']/1000).round().astype(int)"
   ]
  },
  {
   "cell_type": "code",
   "execution_count": 106,
   "metadata": {},
   "outputs": [
    {
     "data": {
      "text/html": [
       "<div>\n",
       "<style scoped>\n",
       "    .dataframe tbody tr th:only-of-type {\n",
       "        vertical-align: middle;\n",
       "    }\n",
       "\n",
       "    .dataframe tbody tr th {\n",
       "        vertical-align: top;\n",
       "    }\n",
       "\n",
       "    .dataframe thead th {\n",
       "        text-align: right;\n",
       "    }\n",
       "</style>\n",
       "<table border=\"1\" class=\"dataframe\">\n",
       "  <thead>\n",
       "    <tr style=\"text-align: right;\">\n",
       "      <th></th>\n",
       "      <th>price_per_square_meter</th>\n",
       "    </tr>\n",
       "    <tr>\n",
       "      <th>cityCenters_nearest</th>\n",
       "      <th></th>\n",
       "    </tr>\n",
       "  </thead>\n",
       "  <tbody>\n",
       "    <tr>\n",
       "      <th>0</th>\n",
       "      <td>126,685.27</td>\n",
       "    </tr>\n",
       "    <tr>\n",
       "      <th>1</th>\n",
       "      <td>133,184.33</td>\n",
       "    </tr>\n",
       "    <tr>\n",
       "      <th>2</th>\n",
       "      <td>127,563.76</td>\n",
       "    </tr>\n",
       "    <tr>\n",
       "      <th>3</th>\n",
       "      <td>112,501.88</td>\n",
       "    </tr>\n",
       "    <tr>\n",
       "      <th>4</th>\n",
       "      <td>126,380.08</td>\n",
       "    </tr>\n",
       "  </tbody>\n",
       "</table>\n",
       "</div>"
      ],
      "text/plain": [
       "                     price_per_square_meter\n",
       "cityCenters_nearest                        \n",
       "0                                126,685.27\n",
       "1                                133,184.33\n",
       "2                                127,563.76\n",
       "3                                112,501.88\n",
       "4                                126,380.08"
      ]
     },
     "execution_count": 106,
     "metadata": {},
     "output_type": "execute_result"
    }
   ],
   "source": [
    "# подсчет средней цены для каждого километра\n",
    "df_price_per_km = df_new.pivot_table(index='cityCenters_nearest', values='price_per_square_meter')\n",
    "df_price_per_km.head()"
   ]
  },
  {
   "cell_type": "code",
   "execution_count": 107,
   "metadata": {},
   "outputs": [
    {
     "data": {
      "text/plain": [
       "<AxesSubplot:xlabel='cityCenters_nearest'>"
      ]
     },
     "execution_count": 107,
     "metadata": {},
     "output_type": "execute_result"
    },
    {
     "data": {
      "image/png": "[encoded data removed]",
      "text/plain": [
       "<Figure size 432x288 with 1 Axes>"
      ]
     },
     "metadata": {
      "needs_background": "light"
     },
     "output_type": "display_data"
    }
   ],
   "source": [
    "# демонстрация графика, показывающего зависимость цены от удалённости от центра\n",
    "df_price_per_km.plot()"
   ]
  },
  {
   "cell_type": "markdown",
   "metadata": {},
   "source": [
    "На графике наблюдается тренд к уменьшению стоимости квадратного метра при удалении от центра города."
   ]
  },
  {
   "cell_type": "markdown",
   "metadata": {},
   "source": [
    "Определим зависимость цены от того, на каком этаже расположена квартира: первом(1), последнем(3) или другом(2)."
   ]
  },
  {
   "cell_type": "code",
   "execution_count": 108,
   "metadata": {},
   "outputs": [
    {
     "data": {
      "image/png": "[encoded data removed]",
      "text/plain": [
       "<Figure size 720x432 with 1 Axes>"
      ]
     },
     "metadata": {
      "needs_background": "light"
     },
     "output_type": "display_data"
    }
   ],
   "source": [
    "# характеристики распределения для столбца 'floors_group'\n",
    "df_new.boxplot(column='price_per_square_meter', by='floors_group', figsize=(10, 6))\n",
    "plt.ylim(1,250000)\n",
    "plt.show()"
   ]
  },
  {
   "cell_type": "markdown",
   "metadata": {},
   "source": [
    "Из диаграммы размаха следует, что самые дешевые квартиры предлагаются на первых этажах и последних. Наибольшую стоимость за квадратный метр имеют остальные варианты. "
   ]
  },
  {
   "cell_type": "markdown",
   "metadata": {},
   "source": [
    "Определим зависимость цены от даты размещения: дня недели, месяца и года."
   ]
  },
  {
   "cell_type": "code",
   "execution_count": 109,
   "metadata": {},
   "outputs": [
    {
     "data": {
      "image/png": "[encoded data removed]",
      "text/plain": [
       "<Figure size 720x432 with 1 Axes>"
      ]
     },
     "metadata": {
      "needs_background": "light"
     },
     "output_type": "display_data"
    }
   ],
   "source": [
    "# характеристики распределения для столбца 'weekday'\n",
    "df_new.boxplot(column='price_per_square_meter', by='weekday', figsize=(10, 6))\n",
    "plt.ylim(1,250000)\n",
    "plt.show()"
   ]
  },
  {
   "cell_type": "markdown",
   "metadata": {},
   "source": [
    "Анализируя распределения для столбца 'weekday' можно сделать вывод, что день недели размещения объявления не влияет на стоимость квартиры. Медианные значения по сгруппированным дням недели находятся практически на одном уровне."
   ]
  },
  {
   "cell_type": "code",
   "execution_count": 110,
   "metadata": {},
   "outputs": [
    {
     "data": {
      "image/png": "[encoded data removed]",
      "text/plain": [
       "<Figure size 720x432 with 1 Axes>"
      ]
     },
     "metadata": {
      "needs_background": "light"
     },
     "output_type": "display_data"
    }
   ],
   "source": [
    "# характеристики распределения для столбца 'month'\n",
    "df_new.boxplot(column='price_per_square_meter', by='month', figsize=(10, 6))\n",
    "plt.ylim(1,250000)\n",
    "plt.show()"
   ]
  },
  {
   "cell_type": "markdown",
   "metadata": {},
   "source": [
    "С начала года наблюдается отрицательный тренд по средней стоимости квадратного метра до начала лета. С июня по сентябрь средняя стоимость квадратного метра растет. После сентября вновь наблюдается снижение стоимости до конца года. Можно сделать вывод, что самые дорогие квадратные метры под конец лета."
   ]
  },
  {
   "cell_type": "code",
   "execution_count": 111,
   "metadata": {},
   "outputs": [
    {
     "data": {
      "image/png": "[encoded data removed]",
      "text/plain": [
       "<Figure size 720x432 with 1 Axes>"
      ]
     },
     "metadata": {
      "needs_background": "light"
     },
     "output_type": "display_data"
    }
   ],
   "source": [
    "# характеристики распределения для столбца 'year'\n",
    "df_new.boxplot(column='price_per_square_meter', by='year', figsize=(10, 6))\n",
    "plt.ylim(1,250000)\n",
    "plt.show()"
   ]
  },
  {
   "cell_type": "markdown",
   "metadata": {},
   "source": [
    "По сравнению с 2014 г. средняя цена квадратного метра 2015 г. снизилась. В период 2015-2019 г. стоимость квадратного метра расла. И лишь в 2019 г. привысила  отметку 2014 г."
   ]
  },
  {
   "cell_type": "markdown",
   "metadata": {},
   "source": [
    "**Вывод**"
   ]
  },
  {
   "cell_type": "markdown",
   "metadata": {},
   "source": [
    "Факторы, которые больше всего влияют на стоимость квартиры: \n",
    "1.\tПлощадь квартиры (чем больше площадь квартиры, тем дешевле стоит квадратный метр)\n",
    "2.\tЧисло комнат (чем больше комнат в квартире, тем дешевле квадратный метр)\n",
    "3.\tУдаленность от центра города (чем дальше от центра квартира, тем меньше стоимости квадратного метра)\n",
    "4.\tЭтаж квартиры (наименьшую стоимость за квадратный метр имеют квартиры на первом и последнем этаже)\n",
    "5.\tМесяц публикации объявления (самые дорогие квадратные метры выставлены под конец лета)"
   ]
  },
  {
   "cell_type": "markdown",
   "metadata": {},
   "source": [
    "###  Подсчет средней цены квадратного метра в 10 населённых пунктов с наибольшим числом объявлений"
   ]
  },
  {
   "cell_type": "code",
   "execution_count": 112,
   "metadata": {},
   "outputs": [],
   "source": [
    "# отбор населённых пунктов с наибольшим числом объявлений\n",
    "top_10 = df_new['locality_name'].value_counts().head(10).index\n",
    "# создание df населённых пунктов с наибольшим числом объявлений\n",
    "df_top_10 = df_new.query('locality_name in @top_10')"
   ]
  },
  {
   "cell_type": "code",
   "execution_count": 113,
   "metadata": {},
   "outputs": [
    {
     "data": {
      "text/html": [
       "<div>\n",
       "<style scoped>\n",
       "    .dataframe tbody tr th:only-of-type {\n",
       "        vertical-align: middle;\n",
       "    }\n",
       "\n",
       "    .dataframe tbody tr th {\n",
       "        vertical-align: top;\n",
       "    }\n",
       "\n",
       "    .dataframe thead th {\n",
       "        text-align: right;\n",
       "    }\n",
       "</style>\n",
       "<table border=\"1\" class=\"dataframe\">\n",
       "  <thead>\n",
       "    <tr style=\"text-align: right;\">\n",
       "      <th></th>\n",
       "      <th>price_per_square_meter</th>\n",
       "    </tr>\n",
       "    <tr>\n",
       "      <th>locality_name</th>\n",
       "      <th></th>\n",
       "    </tr>\n",
       "  </thead>\n",
       "  <tbody>\n",
       "    <tr>\n",
       "      <th>Санкт-Петербург</th>\n",
       "      <td>110,404.36</td>\n",
       "    </tr>\n",
       "    <tr>\n",
       "      <th>Пушкин</th>\n",
       "      <td>103,535.58</td>\n",
       "    </tr>\n",
       "    <tr>\n",
       "      <th>Кудрово</th>\n",
       "      <td>94,270.85</td>\n",
       "    </tr>\n",
       "    <tr>\n",
       "      <th>Парголово</th>\n",
       "      <td>89,627.04</td>\n",
       "    </tr>\n",
       "    <tr>\n",
       "      <th>Мурино</th>\n",
       "      <td>85,685.26</td>\n",
       "    </tr>\n",
       "    <tr>\n",
       "      <th>Шушары</th>\n",
       "      <td>77,739.19</td>\n",
       "    </tr>\n",
       "    <tr>\n",
       "      <th>Колпино</th>\n",
       "      <td>74,713.64</td>\n",
       "    </tr>\n",
       "    <tr>\n",
       "      <th>Всеволожск</th>\n",
       "      <td>68,805.37</td>\n",
       "    </tr>\n",
       "    <tr>\n",
       "      <th>Гатчина</th>\n",
       "      <td>68,141.79</td>\n",
       "    </tr>\n",
       "    <tr>\n",
       "      <th>Выборг</th>\n",
       "      <td>57,677.45</td>\n",
       "    </tr>\n",
       "  </tbody>\n",
       "</table>\n",
       "</div>"
      ],
      "text/plain": [
       "                 price_per_square_meter\n",
       "locality_name                          \n",
       "Санкт-Петербург              110,404.36\n",
       "Пушкин                       103,535.58\n",
       "Кудрово                       94,270.85\n",
       "Парголово                     89,627.04\n",
       "Мурино                        85,685.26\n",
       "Шушары                        77,739.19\n",
       "Колпино                       74,713.64\n",
       "Всеволожск                    68,805.37\n",
       "Гатчина                       68,141.79\n",
       "Выборг                        57,677.45"
      ]
     },
     "execution_count": 113,
     "metadata": {},
     "output_type": "execute_result"
    }
   ],
   "source": [
    "# создание сводной таблицы по средней стоимости квадратного метра в населенных пунках\n",
    "df_top_10_stat = df_top_10.pivot_table(index='locality_name', values='price_per_square_meter')\n",
    "# сортировка сводной таблицы по столбцу 'price_per_square_meter' в убывающем порядке\n",
    "df_top_10_stat.sort_values(by = 'price_per_square_meter', ascending = False)"
   ]
  },
  {
   "cell_type": "markdown",
   "metadata": {},
   "source": [
    "**Вывод**"
   ]
  },
  {
   "cell_type": "markdown",
   "metadata": {},
   "source": [
    "Максимальная цена квадратного метра в г. Санкт-Петербург, самая низкая цена квадратного метра из 10 населённых пунктов с наибольшим числом объявлений в г. Выборг."
   ]
  },
  {
   "cell_type": "markdown",
   "metadata": {},
   "source": [
    "###  Определение центральной зоны г. Санкт-Петербург"
   ]
  },
  {
   "cell_type": "code",
   "execution_count": 114,
   "metadata": {},
   "outputs": [],
   "source": [
    "# выделение квартир в Санкт-Петербурге\n",
    "df_spb = df_new[df_new['locality_name'] == 'Санкт-Петербург']"
   ]
  },
  {
   "cell_type": "code",
   "execution_count": 115,
   "metadata": {},
   "outputs": [],
   "source": [
    "# округление столбца 'cityCenters_nearest' до целых значений\n",
    "df_spb['cityCenters_nearest_km'] = (df_spb['cityCenters_nearest']).round().astype(int)"
   ]
  },
  {
   "cell_type": "code",
   "execution_count": 116,
   "metadata": {},
   "outputs": [
    {
     "data": {
      "text/html": [
       "<div>\n",
       "<style scoped>\n",
       "    .dataframe tbody tr th:only-of-type {\n",
       "        vertical-align: middle;\n",
       "    }\n",
       "\n",
       "    .dataframe tbody tr th {\n",
       "        vertical-align: top;\n",
       "    }\n",
       "\n",
       "    .dataframe thead th {\n",
       "        text-align: right;\n",
       "    }\n",
       "</style>\n",
       "<table border=\"1\" class=\"dataframe\">\n",
       "  <thead>\n",
       "    <tr style=\"text-align: right;\">\n",
       "      <th></th>\n",
       "      <th>price_per_square_meter</th>\n",
       "    </tr>\n",
       "    <tr>\n",
       "      <th>cityCenters_nearest_km</th>\n",
       "      <th></th>\n",
       "    </tr>\n",
       "  </thead>\n",
       "  <tbody>\n",
       "    <tr>\n",
       "      <th>0</th>\n",
       "      <td>126,685.27</td>\n",
       "    </tr>\n",
       "    <tr>\n",
       "      <th>1</th>\n",
       "      <td>133,184.33</td>\n",
       "    </tr>\n",
       "    <tr>\n",
       "      <th>2</th>\n",
       "      <td>127,563.76</td>\n",
       "    </tr>\n",
       "    <tr>\n",
       "      <th>3</th>\n",
       "      <td>112,501.88</td>\n",
       "    </tr>\n",
       "    <tr>\n",
       "      <th>4</th>\n",
       "      <td>126,380.08</td>\n",
       "    </tr>\n",
       "  </tbody>\n",
       "</table>\n",
       "</div>"
      ],
      "text/plain": [
       "                        price_per_square_meter\n",
       "cityCenters_nearest_km                        \n",
       "0                                   126,685.27\n",
       "1                                   133,184.33\n",
       "2                                   127,563.76\n",
       "3                                   112,501.88\n",
       "4                                   126,380.08"
      ]
     },
     "execution_count": 116,
     "metadata": {},
     "output_type": "execute_result"
    }
   ],
   "source": [
    "# подсчет средней цены для каждого километра\n",
    "df_spb_price_per_kilometer = df_spb.pivot_table(index='cityCenters_nearest_km', values='price_per_square_meter')\n",
    "df_spb_price_per_kilometer.head()"
   ]
  },
  {
   "cell_type": "code",
   "execution_count": 117,
   "metadata": {},
   "outputs": [
    {
     "data": {
      "text/plain": [
       "<AxesSubplot:xlabel='cityCenters_nearest_km'>"
      ]
     },
     "execution_count": 117,
     "metadata": {},
     "output_type": "execute_result"
    },
    {
     "data": {
      "image/png": "[encoded data removed]",
      "text/plain": [
       "<Figure size 432x288 with 1 Axes>"
      ]
     },
     "metadata": {
      "needs_background": "light"
     },
     "output_type": "display_data"
    }
   ],
   "source": [
    "# демонстрация графика, показывающего зависимость цены от удалённости от центра\n",
    "df_spb_price_per_kilometer.plot()"
   ]
  },
  {
   "cell_type": "markdown",
   "metadata": {},
   "source": [
    "**Вывод**"
   ]
  },
  {
   "cell_type": "markdown",
   "metadata": {},
   "source": [
    "На графике видно, что резкий спад начинается после 7 км, следовательно, территория в радиусе 7 км от центра г. Санкт-Петербург является центральная зоной."
   ]
  },
  {
   "cell_type": "markdown",
   "metadata": {},
   "source": [
    "* Проанализируем центральную территорию и изучим следующие параметры: площадь, цена, число комнат, высота потолков. "
   ]
  },
  {
   "cell_type": "code",
   "execution_count": 118,
   "metadata": {},
   "outputs": [
    {
     "data": {
      "text/html": [
       "<div>\n",
       "<style scoped>\n",
       "    .dataframe tbody tr th:only-of-type {\n",
       "        vertical-align: middle;\n",
       "    }\n",
       "\n",
       "    .dataframe tbody tr th {\n",
       "        vertical-align: top;\n",
       "    }\n",
       "\n",
       "    .dataframe thead th {\n",
       "        text-align: right;\n",
       "    }\n",
       "</style>\n",
       "<table border=\"1\" class=\"dataframe\">\n",
       "  <thead>\n",
       "    <tr style=\"text-align: right;\">\n",
       "      <th></th>\n",
       "      <th>price_per_square_meter</th>\n",
       "      <th>total_area</th>\n",
       "      <th>rooms</th>\n",
       "      <th>ceiling_height</th>\n",
       "    </tr>\n",
       "  </thead>\n",
       "  <tbody>\n",
       "    <tr>\n",
       "      <th>price_per_square_meter</th>\n",
       "      <td>1.00</td>\n",
       "      <td>-0.04</td>\n",
       "      <td>-0.25</td>\n",
       "      <td>-0.01</td>\n",
       "    </tr>\n",
       "    <tr>\n",
       "      <th>total_area</th>\n",
       "      <td>-0.04</td>\n",
       "      <td>1.00</td>\n",
       "      <td>0.73</td>\n",
       "      <td>0.19</td>\n",
       "    </tr>\n",
       "    <tr>\n",
       "      <th>rooms</th>\n",
       "      <td>-0.25</td>\n",
       "      <td>0.73</td>\n",
       "      <td>1.00</td>\n",
       "      <td>0.19</td>\n",
       "    </tr>\n",
       "    <tr>\n",
       "      <th>ceiling_height</th>\n",
       "      <td>-0.01</td>\n",
       "      <td>0.19</td>\n",
       "      <td>0.19</td>\n",
       "      <td>1.00</td>\n",
       "    </tr>\n",
       "  </tbody>\n",
       "</table>\n",
       "</div>"
      ],
      "text/plain": [
       "                        price_per_square_meter  total_area  rooms  \\\n",
       "price_per_square_meter                    1.00       -0.04  -0.25   \n",
       "total_area                               -0.04        1.00   0.73   \n",
       "rooms                                    -0.25        0.73   1.00   \n",
       "ceiling_height                           -0.01        0.19   0.19   \n",
       "\n",
       "                        ceiling_height  \n",
       "price_per_square_meter           -0.01  \n",
       "total_area                        0.19  \n",
       "rooms                             0.19  \n",
       "ceiling_height                    1.00  "
      ]
     },
     "execution_count": 118,
     "metadata": {},
     "output_type": "execute_result"
    }
   ],
   "source": [
    "# корреляция столбцов 'price_per_square_meter', 'total_area', 'rooms', 'cityCenters_nearest' для центральной зоны\n",
    "df_spb.query('cityCenters_nearest_km < 7')[['price_per_square_meter', 'total_area', 'rooms', 'ceiling_height']].corr()"
   ]
  },
  {
   "cell_type": "markdown",
   "metadata": {},
   "source": [
    "Выделим сегмент квартир в центре, расстояние которых меньше 7 км от центра г. Санкт-Петербург, и определим взаимосвязь цены квадратного метра от площади центральной зоне."
   ]
  },
  {
   "cell_type": "code",
   "execution_count": 119,
   "metadata": {},
   "outputs": [
    {
     "data": {
      "image/png": "[encoded data removed]",
      "text/plain": [
       "<Figure size 432x288 with 2 Axes>"
      ]
     },
     "metadata": {
      "needs_background": "light"
     },
     "output_type": "display_data"
    }
   ],
   "source": [
    "# диаграмма рассеяния 'total_area' и 'price_per_square_meter' для центральной зоны\n",
    "df_spb.query('cityCenters_nearest_km < 7').plot(x='total_area', y='price_per_square_meter', kind='hexbin', \n",
    "                                                gridsize=35, sharex=False, grid=True)\n",
    "plt.xlim(1,130)\n",
    "plt.ylim(1,300000)\n",
    "plt.show()"
   ]
  },
  {
   "cell_type": "markdown",
   "metadata": {},
   "source": [
    "В центре сохраняется тенденция снижения стоимости квадратного при увеличении общей площади."
   ]
  },
  {
   "cell_type": "markdown",
   "metadata": {},
   "source": [
    "Определим взаимосвязь цены квадратного метра от количества комнат центральной зоне."
   ]
  },
  {
   "cell_type": "code",
   "execution_count": 120,
   "metadata": {},
   "outputs": [
    {
     "data": {
      "image/png": "[encoded data removed]",
      "text/plain": [
       "<Figure size 720x432 with 1 Axes>"
      ]
     },
     "metadata": {
      "needs_background": "light"
     },
     "output_type": "display_data"
    }
   ],
   "source": [
    "# диаграмма размаха для цены квадратного метра по сгруппированным количествам комнат в центральной зоне\n",
    "df_spb.query('cityCenters_nearest_km < 7').boxplot(column='price_per_square_meter', by='rooms', figsize=(10, 6))\n",
    "plt.ylim(1,250000)\n",
    "plt.show()"
   ]
  },
  {
   "cell_type": "markdown",
   "metadata": {},
   "source": [
    "В центре стоимость квадратного метра студии меньше, чем у однокомнатной квартиры, в отличие от общей статистики. Наибольшая цена за квадратный метр составляет в однокомнатной квартире. Самый дешевый квадратный метр стоит в многокомнатных квартирах. В центральной зоне наблюдается более выраженный спад стоимости квадратного метра с увеличением количества комнат."
   ]
  },
  {
   "cell_type": "markdown",
   "metadata": {},
   "source": [
    "Определим взаимосвязь цены квадратного метра от этажа квартиры."
   ]
  },
  {
   "cell_type": "code",
   "execution_count": 121,
   "metadata": {},
   "outputs": [
    {
     "data": {
      "image/png": "[encoded data removed]",
      "text/plain": [
       "<Figure size 720x432 with 1 Axes>"
      ]
     },
     "metadata": {
      "needs_background": "light"
     },
     "output_type": "display_data"
    }
   ],
   "source": [
    "# характеристики распределения для столбца 'floors_group' для центральной зоны\n",
    "df_spb.query('cityCenters_nearest_km < 7').boxplot(column='price_per_square_meter', by='floors_group', figsize=(10, 6))\n",
    "plt.ylim(1,250000)\n",
    "plt.show()"
   ]
  },
  {
   "cell_type": "markdown",
   "metadata": {},
   "source": [
    "Из диаграммы размаха следует, что самые дешевые квартиры на первых этажах и последних. Зависимость стоимости квадратного метра совпадает с общей статистикой."
   ]
  },
  {
   "cell_type": "code",
   "execution_count": 122,
   "metadata": {},
   "outputs": [
    {
     "data": {
      "image/png": "[encoded data removed]",
      "text/plain": [
       "<Figure size 432x288 with 1 Axes>"
      ]
     },
     "metadata": {
      "needs_background": "light"
     },
     "output_type": "display_data"
    }
   ],
   "source": [
    "# диаграмма рассеяния 'ceiling_height' и 'price_per_square_meter' для центральной зоны\n",
    "df_spb.query('cityCenters_nearest_km < 7').plot(x='ceiling_height', y='price_per_square_meter', kind='scatter')\n",
    "plt.xlim(2,4)\n",
    "plt.ylim(1,400000)\n",
    "plt.show()"
   ]
  },
  {
   "cell_type": "markdown",
   "metadata": {},
   "source": [
    "На графике виден тренд уменьшения стоимости квадратного метра с увеличением высоты потолков, возможно, такое явление связано с тем, что в данных в столбце 'ceiling_height' изначально было обнаружено 9195 пропусков из 23699 строк и, заполнив пустые значения столбца 'ceiling_height' медианой по всему набору данных, медиана высоты потолка в центральной зоне г. Санкт-Петербург сместилась ниже реальных значений."
   ]
  },
  {
   "cell_type": "markdown",
   "metadata": {},
   "source": [
    "* Проанализируем факторы, которые влияют на стоимость квартиры в центральной зоне (число комнат, этаж, удалённость от центра, дата размещения объявления)."
   ]
  },
  {
   "cell_type": "code",
   "execution_count": 123,
   "metadata": {},
   "outputs": [
    {
     "data": {
      "image/png": "[encoded data removed]",
      "text/plain": [
       "<Figure size 720x432 with 1 Axes>"
      ]
     },
     "metadata": {
      "needs_background": "light"
     },
     "output_type": "display_data"
    }
   ],
   "source": [
    "# диаграмма размаха для цены квадратного метра по сгруппированным километрам в центральной зоне\n",
    "df_spb.query('cityCenters_nearest_km < 7').boxplot(column='price_per_square_meter', by='cityCenters_nearest_km', \n",
    "                                                   figsize=(10, 6))\n",
    "plt.show()"
   ]
  },
  {
   "cell_type": "markdown",
   "metadata": {},
   "source": [
    "В центральной зоне цена квадратного метра находится на одном уровне. Исключение составляет область на расстоянии 3 км, которая обусловлена наличием промышленной зоны в центре г. Санкт-Петербург."
   ]
  },
  {
   "cell_type": "code",
   "execution_count": 124,
   "metadata": {},
   "outputs": [
    {
     "data": {
      "image/png": "[encoded data removed]",
      "text/plain": [
       "<Figure size 720x432 with 1 Axes>"
      ]
     },
     "metadata": {
      "needs_background": "light"
     },
     "output_type": "display_data"
    }
   ],
   "source": [
    "# характеристики распределения для столбца 'month' в центральной зоне\n",
    "df_spb.query('cityCenters_nearest_km < 7').boxplot(column='price_per_square_meter', by='month', figsize=(10, 6))\n",
    "plt.ylim(1,250000)\n",
    "plt.show()"
   ]
  },
  {
   "cell_type": "markdown",
   "metadata": {},
   "source": [
    "В начале года цена квадратного метра меняется более скачкообразно, однако, тенденция увеличения цены в период с июня по сентябрь и уменьшения цены с сентября по конец года сохраняется."
   ]
  },
  {
   "cell_type": "code",
   "execution_count": 125,
   "metadata": {},
   "outputs": [
    {
     "data": {
      "image/png": "[encoded data removed]",
      "text/plain": [
       "<Figure size 720x432 with 1 Axes>"
      ]
     },
     "metadata": {
      "needs_background": "light"
     },
     "output_type": "display_data"
    }
   ],
   "source": [
    "# характеристики распределения для столбца 'year' в центральной зоне\n",
    "df_spb.query('cityCenters_nearest_km < 7').boxplot(column='price_per_square_meter', by='year', figsize=(10, 6))\n",
    "plt.ylim(1,250000)\n",
    "plt.show()"
   ]
  },
  {
   "cell_type": "markdown",
   "metadata": {},
   "source": [
    "В отличие от общей статистики цена квадратного метра в центральной зоне постоянно растет. Рост цен в 2018 и 2019 г. более ярко выражен."
   ]
  },
  {
   "cell_type": "markdown",
   "metadata": {},
   "source": [
    "Факторы, которые больше всего влияют на стоимость квартиры в центральной зоне: \n",
    "1.\tПлощадь квартиры (чем больше площадь квартиры, тем дешевле стоит квадратный метр)\n",
    "2.\tЭтаж квартиры (наименьшую стоимость за квадратный метр имеют квартиры на первом и последнем этаже)\n",
    "3.\tМесяц публикации объявления (самые дорогие квадратные метры выставлены под конец лета)\n",
    "4. Год продажи (с каждым годоцены на квадратный метр увеличиваются)"
   ]
  },
  {
   "cell_type": "code",
   "execution_count": 126,
   "metadata": {},
   "outputs": [
    {
     "data": {
      "text/plain": [
       "<AxesSubplot:ylabel='Frequency'>"
      ]
     },
     "execution_count": 126,
     "metadata": {},
     "output_type": "execute_result"
    },
    {
     "data": {
      "image/png": "[encoded data removed]",
      "text/plain": [
       "<Figure size 432x288 with 1 Axes>"
      ]
     },
     "metadata": {
      "needs_background": "light"
     },
     "output_type": "display_data"
    }
   ],
   "source": [
    "df_new.query('locality_name == \"Санкт-Петербург\" & cityCenters_nearest < 7')['total_area'].plot(x='total_area', \n",
    "                                        y='price_per_square_meter', kind='hist', bins=50, range=(0, 200), grid=True, \n",
    "                                        density=True, label='центральная зона', legend=True)\n",
    "df_new['total_area'].plot(x='total_area', y='price_per_square_meter',  alpha=0.7,\n",
    "                          kind='hist', bins=50, range=(0, 200), grid=True, density=True, label='общая территория', legend=True)\n"
   ]
  },
  {
   "cell_type": "markdown",
   "metadata": {},
   "source": [
    "## Общий вывод"
   ]
  },
  {
   "cell_type": "markdown",
   "metadata": {},
   "source": [
    "В ходе анализа установлены следующие основные выводы:\n",
    "1. В центре сохраняется тенденция снижения стоимости квадратного при увеличении общей площади;\n",
    "2. В центральной зоне наблюдается более выраженный спад стоимости квадратного метра с увеличением количества комнат;\n",
    "3. Зависимость стоимости квадратного метра от этажа квартиры сохраняется на территории г. Санкт-Петербург и его пригородной области;\n",
    "4. Тенденция увеличения цены в период с июня по сентябрь и уменьшения цены с сентября по конец года также сохраняется в представленных статистических данных."
   ]
  }
 ],
 "metadata": {
  "ExecuteTimeLog": [
   {
    "duration": 625,
    "start_time": "2021-12-20T12:11:46.900Z"
   },
   {
    "duration": 92,
    "start_time": "2021-12-20T12:13:08.758Z"
   },
   {
    "duration": 11,
    "start_time": "2021-12-20T13:03:10.805Z"
   },
   {
    "duration": 9,
    "start_time": "2021-12-20T13:07:00.790Z"
   },
   {
    "duration": 61,
    "start_time": "2021-12-20T13:12:56.408Z"
   },
   {
    "duration": 237,
    "start_time": "2021-12-20T13:13:38.183Z"
   },
   {
    "duration": 55,
    "start_time": "2021-12-20T13:16:18.087Z"
   },
   {
    "duration": 10,
    "start_time": "2021-12-20T13:16:25.399Z"
   },
   {
    "duration": 61,
    "start_time": "2021-12-20T13:24:20.912Z"
   },
   {
    "duration": 66,
    "start_time": "2021-12-20T13:24:54.118Z"
   },
   {
    "duration": 87,
    "start_time": "2021-12-20T13:26:05.412Z"
   },
   {
    "duration": 12,
    "start_time": "2021-12-20T13:26:05.502Z"
   },
   {
    "duration": 20,
    "start_time": "2021-12-20T13:26:05.517Z"
   },
   {
    "duration": 66,
    "start_time": "2021-12-20T13:26:05.539Z"
   },
   {
    "duration": 55,
    "start_time": "2021-12-20T13:26:08.817Z"
   },
   {
    "duration": 65,
    "start_time": "2021-12-20T13:26:10.572Z"
   },
   {
    "duration": 24,
    "start_time": "2021-12-20T13:26:46.525Z"
   },
   {
    "duration": 26,
    "start_time": "2021-12-20T13:30:01.293Z"
   },
   {
    "duration": 29,
    "start_time": "2021-12-20T13:30:05.463Z"
   },
   {
    "duration": 10,
    "start_time": "2021-12-20T13:37:08.730Z"
   },
   {
    "duration": 28,
    "start_time": "2021-12-20T13:37:32.435Z"
   },
   {
    "duration": 4,
    "start_time": "2021-12-20T13:39:06.282Z"
   },
   {
    "duration": 15,
    "start_time": "2021-12-20T13:39:23.072Z"
   },
   {
    "duration": 9,
    "start_time": "2021-12-20T13:39:50.457Z"
   },
   {
    "duration": 17,
    "start_time": "2021-12-20T13:40:08.458Z"
   },
   {
    "duration": 10,
    "start_time": "2021-12-20T13:40:09.593Z"
   },
   {
    "duration": 6,
    "start_time": "2021-12-20T13:41:59.305Z"
   },
   {
    "duration": 9,
    "start_time": "2021-12-20T13:42:12.704Z"
   },
   {
    "duration": 4,
    "start_time": "2021-12-20T13:44:57.972Z"
   },
   {
    "duration": 9,
    "start_time": "2021-12-20T13:45:04.805Z"
   },
   {
    "duration": 911,
    "start_time": "2021-12-21T08:28:16.031Z"
   },
   {
    "duration": 14,
    "start_time": "2021-12-21T08:28:16.944Z"
   },
   {
    "duration": 22,
    "start_time": "2021-12-21T08:28:16.962Z"
   },
   {
    "duration": 102,
    "start_time": "2021-12-21T08:28:16.987Z"
   },
   {
    "duration": 114,
    "start_time": "2021-12-21T08:28:17.092Z"
   },
   {
    "duration": 53,
    "start_time": "2021-12-21T08:28:17.208Z"
   },
   {
    "duration": 11,
    "start_time": "2021-12-21T08:28:17.263Z"
   },
   {
    "duration": 45,
    "start_time": "2021-12-21T08:28:17.278Z"
   },
   {
    "duration": 12,
    "start_time": "2021-12-21T08:28:17.326Z"
   },
   {
    "duration": 20,
    "start_time": "2021-12-21T08:28:17.340Z"
   },
   {
    "duration": 25,
    "start_time": "2021-12-21T08:28:17.363Z"
   },
   {
    "duration": 35,
    "start_time": "2021-12-21T08:44:03.476Z"
   },
   {
    "duration": 1094,
    "start_time": "2021-12-21T09:11:10.808Z"
   },
   {
    "duration": 20,
    "start_time": "2021-12-21T09:11:11.905Z"
   },
   {
    "duration": 16,
    "start_time": "2021-12-21T09:11:11.929Z"
   },
   {
    "duration": 119,
    "start_time": "2021-12-21T09:11:11.948Z"
   },
   {
    "duration": 116,
    "start_time": "2021-12-21T09:11:12.070Z"
   },
   {
    "duration": 74,
    "start_time": "2021-12-21T09:11:12.189Z"
   },
   {
    "duration": 7,
    "start_time": "2021-12-21T09:11:12.265Z"
   },
   {
    "duration": 46,
    "start_time": "2021-12-21T09:11:12.275Z"
   },
   {
    "duration": 37,
    "start_time": "2021-12-21T09:11:12.324Z"
   },
   {
    "duration": 13,
    "start_time": "2021-12-21T09:11:12.364Z"
   },
   {
    "duration": 63,
    "start_time": "2021-12-21T09:11:12.380Z"
   },
   {
    "duration": 13,
    "start_time": "2021-12-21T09:11:12.445Z"
   },
   {
    "duration": 476,
    "start_time": "2021-12-21T09:22:30.642Z"
   },
   {
    "duration": -19,
    "start_time": "2021-12-21T09:22:31.139Z"
   },
   {
    "duration": 285,
    "start_time": "2021-12-21T09:22:33.912Z"
   },
   {
    "duration": 6,
    "start_time": "2021-12-21T09:23:34.663Z"
   },
   {
    "duration": 279,
    "start_time": "2021-12-21T09:28:42.346Z"
   },
   {
    "duration": 292,
    "start_time": "2021-12-21T09:29:42.642Z"
   },
   {
    "duration": 313,
    "start_time": "2021-12-21T09:30:03.102Z"
   },
   {
    "duration": 323,
    "start_time": "2021-12-21T09:30:10.967Z"
   },
   {
    "duration": 385,
    "start_time": "2021-12-21T09:30:28.980Z"
   },
   {
    "duration": 681,
    "start_time": "2021-12-21T09:30:54.007Z"
   },
   {
    "duration": 375,
    "start_time": "2021-12-21T09:31:00.452Z"
   },
   {
    "duration": 366,
    "start_time": "2021-12-21T09:31:09.668Z"
   },
   {
    "duration": 421,
    "start_time": "2021-12-21T09:31:37.881Z"
   },
   {
    "duration": 682,
    "start_time": "2021-12-21T09:36:19.873Z"
   },
   {
    "duration": 677,
    "start_time": "2021-12-21T09:36:30.632Z"
   },
   {
    "duration": 427,
    "start_time": "2021-12-21T09:36:40.532Z"
   },
   {
    "duration": 477,
    "start_time": "2021-12-21T09:38:20.584Z"
   },
   {
    "duration": 484,
    "start_time": "2021-12-21T09:38:51.833Z"
   },
   {
    "duration": 526,
    "start_time": "2021-12-21T09:45:07.745Z"
   },
   {
    "duration": 552,
    "start_time": "2021-12-21T09:46:31.454Z"
   },
   {
    "duration": 825,
    "start_time": "2021-12-21T09:47:19.109Z"
   },
   {
    "duration": 488,
    "start_time": "2021-12-21T09:48:03.807Z"
   },
   {
    "duration": 12,
    "start_time": "2021-12-21T10:18:19.796Z"
   },
   {
    "duration": 38,
    "start_time": "2021-12-21T10:39:24.560Z"
   },
   {
    "duration": 90,
    "start_time": "2021-12-21T10:44:36.579Z"
   },
   {
    "duration": 24,
    "start_time": "2021-12-21T10:44:50.125Z"
   },
   {
    "duration": 162,
    "start_time": "2021-12-21T10:44:55.693Z"
   },
   {
    "duration": 20,
    "start_time": "2021-12-21T10:44:55.859Z"
   },
   {
    "duration": 40,
    "start_time": "2021-12-21T10:44:55.883Z"
   },
   {
    "duration": 99,
    "start_time": "2021-12-21T10:44:55.926Z"
   },
   {
    "duration": 104,
    "start_time": "2021-12-21T10:44:56.027Z"
   },
   {
    "duration": 40,
    "start_time": "2021-12-21T10:44:56.134Z"
   },
   {
    "duration": 10,
    "start_time": "2021-12-21T10:44:56.177Z"
   },
   {
    "duration": 35,
    "start_time": "2021-12-21T10:44:56.191Z"
   },
   {
    "duration": 6,
    "start_time": "2021-12-21T10:44:56.228Z"
   },
   {
    "duration": 5,
    "start_time": "2021-12-21T10:54:41.148Z"
   },
   {
    "duration": 5,
    "start_time": "2021-12-21T10:57:46.340Z"
   },
   {
    "duration": 15,
    "start_time": "2021-12-21T10:58:02.434Z"
   },
   {
    "duration": 122,
    "start_time": "2021-12-21T11:01:33.465Z"
   },
   {
    "duration": 17,
    "start_time": "2021-12-21T11:01:33.590Z"
   },
   {
    "duration": 15,
    "start_time": "2021-12-21T11:01:33.625Z"
   },
   {
    "duration": 124,
    "start_time": "2021-12-21T11:01:33.644Z"
   },
   {
    "duration": 116,
    "start_time": "2021-12-21T11:01:33.770Z"
   },
   {
    "duration": 54,
    "start_time": "2021-12-21T11:01:33.889Z"
   },
   {
    "duration": 20,
    "start_time": "2021-12-21T11:01:33.945Z"
   },
   {
    "duration": 26,
    "start_time": "2021-12-21T11:01:33.968Z"
   },
   {
    "duration": 18,
    "start_time": "2021-12-21T11:01:33.998Z"
   },
   {
    "duration": 487,
    "start_time": "2021-12-21T11:01:34.019Z"
   },
   {
    "duration": 12,
    "start_time": "2021-12-21T11:01:37.470Z"
   },
   {
    "duration": 293,
    "start_time": "2021-12-21T11:03:07.513Z"
   },
   {
    "duration": 10,
    "start_time": "2021-12-21T11:03:15.298Z"
   },
   {
    "duration": 8,
    "start_time": "2021-12-21T11:03:32.394Z"
   },
   {
    "duration": 10,
    "start_time": "2021-12-21T11:04:03.801Z"
   },
   {
    "duration": 9,
    "start_time": "2021-12-21T11:13:56.650Z"
   },
   {
    "duration": 121,
    "start_time": "2021-12-21T11:14:35.295Z"
   },
   {
    "duration": 24,
    "start_time": "2021-12-21T11:14:35.419Z"
   },
   {
    "duration": 11,
    "start_time": "2021-12-21T11:14:35.447Z"
   },
   {
    "duration": 122,
    "start_time": "2021-12-21T11:14:35.462Z"
   },
   {
    "duration": 113,
    "start_time": "2021-12-21T11:14:35.586Z"
   },
   {
    "duration": 64,
    "start_time": "2021-12-21T11:14:35.701Z"
   },
   {
    "duration": 10,
    "start_time": "2021-12-21T11:14:35.768Z"
   },
   {
    "duration": 17,
    "start_time": "2021-12-21T11:14:35.780Z"
   },
   {
    "duration": 26,
    "start_time": "2021-12-21T11:14:35.802Z"
   },
   {
    "duration": 547,
    "start_time": "2021-12-21T11:14:35.833Z"
   },
   {
    "duration": 13,
    "start_time": "2021-12-21T11:14:36.383Z"
   },
   {
    "duration": 12,
    "start_time": "2021-12-21T11:14:39.088Z"
   },
   {
    "duration": 10,
    "start_time": "2021-12-21T11:14:40.650Z"
   },
   {
    "duration": 12,
    "start_time": "2021-12-21T11:26:13.156Z"
   },
   {
    "duration": 12,
    "start_time": "2021-12-21T11:26:20.630Z"
   },
   {
    "duration": 5,
    "start_time": "2021-12-21T11:26:37.650Z"
   },
   {
    "duration": 10,
    "start_time": "2021-12-21T11:26:38.555Z"
   },
   {
    "duration": 10,
    "start_time": "2021-12-21T11:27:22.709Z"
   },
   {
    "duration": 583,
    "start_time": "2021-12-21T11:30:30.561Z"
   },
   {
    "duration": 486,
    "start_time": "2021-12-21T11:30:47.947Z"
   },
   {
    "duration": 786,
    "start_time": "2021-12-21T11:32:38.266Z"
   },
   {
    "duration": 3182,
    "start_time": "2021-12-21T11:32:48.804Z"
   },
   {
    "duration": 7,
    "start_time": "2021-12-21T11:33:16.752Z"
   },
   {
    "duration": 18,
    "start_time": "2021-12-21T11:33:37.543Z"
   },
   {
    "duration": 13,
    "start_time": "2021-12-21T11:37:41.339Z"
   },
   {
    "duration": 9,
    "start_time": "2021-12-21T11:38:52.169Z"
   },
   {
    "duration": 11,
    "start_time": "2021-12-21T11:38:59.812Z"
   },
   {
    "duration": 2673,
    "start_time": "2021-12-21T11:41:17.208Z"
   },
   {
    "duration": 1757,
    "start_time": "2021-12-21T11:43:36.571Z"
   },
   {
    "duration": 428,
    "start_time": "2021-12-21T11:43:56.287Z"
   },
   {
    "duration": 660,
    "start_time": "2021-12-21T11:44:12.270Z"
   },
   {
    "duration": 286,
    "start_time": "2021-12-21T11:44:29.816Z"
   },
   {
    "duration": 320,
    "start_time": "2021-12-21T11:44:40.985Z"
   },
   {
    "duration": 272,
    "start_time": "2021-12-21T11:44:47.443Z"
   },
   {
    "duration": 294,
    "start_time": "2021-12-21T11:44:52.020Z"
   },
   {
    "duration": 11,
    "start_time": "2021-12-21T11:46:25.702Z"
   },
   {
    "duration": 11,
    "start_time": "2021-12-21T11:46:27.342Z"
   },
   {
    "duration": 9,
    "start_time": "2021-12-21T11:49:18.943Z"
   },
   {
    "duration": 11,
    "start_time": "2021-12-21T11:49:34.710Z"
   },
   {
    "duration": 9,
    "start_time": "2021-12-21T11:49:59.267Z"
   },
   {
    "duration": 9,
    "start_time": "2021-12-21T11:50:16.306Z"
   },
   {
    "duration": 10,
    "start_time": "2021-12-21T11:50:45.368Z"
   },
   {
    "duration": 11,
    "start_time": "2021-12-21T11:50:49.095Z"
   },
   {
    "duration": 126,
    "start_time": "2021-12-21T11:52:18.487Z"
   },
   {
    "duration": 15,
    "start_time": "2021-12-21T11:52:18.624Z"
   },
   {
    "duration": 28,
    "start_time": "2021-12-21T11:52:18.643Z"
   },
   {
    "duration": 162,
    "start_time": "2021-12-21T11:52:18.675Z"
   },
   {
    "duration": 142,
    "start_time": "2021-12-21T11:52:18.841Z"
   },
   {
    "duration": 54,
    "start_time": "2021-12-21T11:52:18.986Z"
   },
   {
    "duration": 11,
    "start_time": "2021-12-21T11:52:19.046Z"
   },
   {
    "duration": 18,
    "start_time": "2021-12-21T11:52:19.060Z"
   },
   {
    "duration": 15,
    "start_time": "2021-12-21T11:52:19.081Z"
   },
   {
    "duration": 23,
    "start_time": "2021-12-21T11:52:19.124Z"
   },
   {
    "duration": 25,
    "start_time": "2021-12-21T11:52:19.150Z"
   },
   {
    "duration": 18,
    "start_time": "2021-12-21T11:52:19.178Z"
   },
   {
    "duration": 29,
    "start_time": "2021-12-21T11:52:19.199Z"
   },
   {
    "duration": 17,
    "start_time": "2021-12-21T11:52:19.232Z"
   },
   {
    "duration": 30,
    "start_time": "2021-12-21T11:52:19.252Z"
   },
   {
    "duration": 29,
    "start_time": "2021-12-21T11:52:19.284Z"
   },
   {
    "duration": 34,
    "start_time": "2021-12-21T11:52:19.316Z"
   },
   {
    "duration": 27,
    "start_time": "2021-12-21T11:52:19.353Z"
   },
   {
    "duration": 13,
    "start_time": "2021-12-21T11:52:20.908Z"
   },
   {
    "duration": 18,
    "start_time": "2021-12-21T11:52:22.636Z"
   },
   {
    "duration": 10,
    "start_time": "2021-12-21T11:54:05.971Z"
   },
   {
    "duration": 113,
    "start_time": "2021-12-21T11:54:11.391Z"
   },
   {
    "duration": 27,
    "start_time": "2021-12-21T11:54:11.507Z"
   },
   {
    "duration": 11,
    "start_time": "2021-12-21T11:54:11.537Z"
   },
   {
    "duration": 124,
    "start_time": "2021-12-21T11:54:11.551Z"
   },
   {
    "duration": 160,
    "start_time": "2021-12-21T11:54:11.679Z"
   },
   {
    "duration": 65,
    "start_time": "2021-12-21T11:54:11.842Z"
   },
   {
    "duration": 9,
    "start_time": "2021-12-21T11:54:11.924Z"
   },
   {
    "duration": 13,
    "start_time": "2021-12-21T11:54:24.031Z"
   },
   {
    "duration": 13,
    "start_time": "2021-12-21T11:54:59.733Z"
   },
   {
    "duration": 21,
    "start_time": "2021-12-21T11:55:11.846Z"
   },
   {
    "duration": 12,
    "start_time": "2021-12-21T11:55:14.666Z"
   },
   {
    "duration": 13,
    "start_time": "2021-12-21T11:55:21.815Z"
   },
   {
    "duration": 96,
    "start_time": "2021-12-21T11:56:16.448Z"
   },
   {
    "duration": 12,
    "start_time": "2021-12-21T11:57:19.877Z"
   },
   {
    "duration": 171,
    "start_time": "2021-12-21T11:57:24.915Z"
   },
   {
    "duration": 35,
    "start_time": "2021-12-21T11:57:25.089Z"
   },
   {
    "duration": 14,
    "start_time": "2021-12-21T11:57:25.128Z"
   },
   {
    "duration": 154,
    "start_time": "2021-12-21T11:57:25.146Z"
   },
   {
    "duration": 166,
    "start_time": "2021-12-21T11:57:25.304Z"
   },
   {
    "duration": 64,
    "start_time": "2021-12-21T11:57:25.473Z"
   },
   {
    "duration": 20,
    "start_time": "2021-12-21T11:57:25.540Z"
   },
   {
    "duration": 24,
    "start_time": "2021-12-21T11:57:25.563Z"
   },
   {
    "duration": 16,
    "start_time": "2021-12-21T11:57:25.591Z"
   },
   {
    "duration": 26,
    "start_time": "2021-12-21T11:57:25.625Z"
   },
   {
    "duration": 13,
    "start_time": "2021-12-21T11:57:25.654Z"
   },
   {
    "duration": 16,
    "start_time": "2021-12-21T11:57:25.669Z"
   },
   {
    "duration": 46,
    "start_time": "2021-12-21T11:57:25.688Z"
   },
   {
    "duration": 16,
    "start_time": "2021-12-21T11:57:25.737Z"
   },
   {
    "duration": 17,
    "start_time": "2021-12-21T11:57:25.756Z"
   },
   {
    "duration": 30,
    "start_time": "2021-12-21T11:57:25.775Z"
   },
   {
    "duration": 24,
    "start_time": "2021-12-21T11:57:25.808Z"
   },
   {
    "duration": 17,
    "start_time": "2021-12-21T11:57:25.834Z"
   },
   {
    "duration": 515,
    "start_time": "2021-12-21T11:57:25.854Z"
   },
   {
    "duration": 10,
    "start_time": "2021-12-21T11:57:26.372Z"
   },
   {
    "duration": 14,
    "start_time": "2021-12-21T11:58:53.742Z"
   },
   {
    "duration": 120,
    "start_time": "2021-12-21T12:00:16.556Z"
   },
   {
    "duration": 14,
    "start_time": "2021-12-21T12:00:16.679Z"
   },
   {
    "duration": 29,
    "start_time": "2021-12-21T12:00:16.697Z"
   },
   {
    "duration": 121,
    "start_time": "2021-12-21T12:00:16.729Z"
   },
   {
    "duration": 120,
    "start_time": "2021-12-21T12:00:16.853Z"
   },
   {
    "duration": 62,
    "start_time": "2021-12-21T12:00:16.975Z"
   },
   {
    "duration": 9,
    "start_time": "2021-12-21T12:00:17.041Z"
   },
   {
    "duration": 12,
    "start_time": "2021-12-21T12:00:17.054Z"
   },
   {
    "duration": 8,
    "start_time": "2021-12-21T12:00:17.068Z"
   },
   {
    "duration": 68,
    "start_time": "2021-12-21T12:00:17.079Z"
   },
   {
    "duration": 12,
    "start_time": "2021-12-21T12:00:17.150Z"
   },
   {
    "duration": 23,
    "start_time": "2021-12-21T12:00:17.165Z"
   },
   {
    "duration": 33,
    "start_time": "2021-12-21T12:00:17.191Z"
   },
   {
    "duration": 30,
    "start_time": "2021-12-21T12:00:17.227Z"
   },
   {
    "duration": 18,
    "start_time": "2021-12-21T12:00:17.260Z"
   },
   {
    "duration": 16,
    "start_time": "2021-12-21T12:00:17.281Z"
   },
   {
    "duration": 29,
    "start_time": "2021-12-21T12:00:17.299Z"
   },
   {
    "duration": 28,
    "start_time": "2021-12-21T12:00:17.331Z"
   },
   {
    "duration": 529,
    "start_time": "2021-12-21T12:00:17.361Z"
   },
   {
    "duration": 10,
    "start_time": "2021-12-21T12:00:17.892Z"
   },
   {
    "duration": 31,
    "start_time": "2021-12-21T12:00:17.905Z"
   },
   {
    "duration": 604,
    "start_time": "2021-12-22T07:01:23.337Z"
   },
   {
    "duration": 10,
    "start_time": "2021-12-22T07:01:23.943Z"
   },
   {
    "duration": 7,
    "start_time": "2021-12-22T07:01:23.955Z"
   },
   {
    "duration": 72,
    "start_time": "2021-12-22T07:01:23.964Z"
   },
   {
    "duration": 72,
    "start_time": "2021-12-22T07:01:24.039Z"
   },
   {
    "duration": 25,
    "start_time": "2021-12-22T07:01:24.113Z"
   },
   {
    "duration": 7,
    "start_time": "2021-12-22T07:01:24.140Z"
   },
   {
    "duration": 9,
    "start_time": "2021-12-22T07:01:24.149Z"
   },
   {
    "duration": 34,
    "start_time": "2021-12-22T07:01:24.160Z"
   },
   {
    "duration": 18,
    "start_time": "2021-12-22T07:01:24.196Z"
   },
   {
    "duration": 9,
    "start_time": "2021-12-22T07:01:24.215Z"
   },
   {
    "duration": 7,
    "start_time": "2021-12-22T07:01:24.226Z"
   },
   {
    "duration": 7,
    "start_time": "2021-12-22T07:01:24.234Z"
   },
   {
    "duration": 7,
    "start_time": "2021-12-22T07:01:24.242Z"
   },
   {
    "duration": 45,
    "start_time": "2021-12-22T07:01:24.250Z"
   },
   {
    "duration": 8,
    "start_time": "2021-12-22T07:01:24.296Z"
   },
   {
    "duration": 6,
    "start_time": "2021-12-22T07:01:24.306Z"
   },
   {
    "duration": 8,
    "start_time": "2021-12-22T07:01:24.313Z"
   },
   {
    "duration": 384,
    "start_time": "2021-12-22T07:01:24.323Z"
   },
   {
    "duration": 9,
    "start_time": "2021-12-22T07:01:24.709Z"
   },
   {
    "duration": 5,
    "start_time": "2021-12-22T07:01:24.720Z"
   },
   {
    "duration": -844,
    "start_time": "2021-12-22T07:01:30.112Z"
   },
   {
    "duration": 692,
    "start_time": "2021-12-22T07:04:26.701Z"
   },
   {
    "duration": 90,
    "start_time": "2021-12-22T07:09:57.942Z"
   },
   {
    "duration": 9,
    "start_time": "2021-12-22T07:09:58.034Z"
   },
   {
    "duration": 7,
    "start_time": "2021-12-22T07:09:58.045Z"
   },
   {
    "duration": 79,
    "start_time": "2021-12-22T07:09:58.054Z"
   },
   {
    "duration": 70,
    "start_time": "2021-12-22T07:09:58.135Z"
   },
   {
    "duration": 25,
    "start_time": "2021-12-22T07:09:58.207Z"
   },
   {
    "duration": 7,
    "start_time": "2021-12-22T07:09:58.234Z"
   },
   {
    "duration": 9,
    "start_time": "2021-12-22T07:09:58.244Z"
   },
   {
    "duration": 40,
    "start_time": "2021-12-22T07:09:58.255Z"
   },
   {
    "duration": 15,
    "start_time": "2021-12-22T07:09:58.297Z"
   },
   {
    "duration": 10,
    "start_time": "2021-12-22T07:09:58.313Z"
   },
   {
    "duration": 6,
    "start_time": "2021-12-22T07:09:58.324Z"
   },
   {
    "duration": 11,
    "start_time": "2021-12-22T07:09:58.332Z"
   },
   {
    "duration": 50,
    "start_time": "2021-12-22T07:09:58.344Z"
   },
   {
    "duration": 6,
    "start_time": "2021-12-22T07:09:58.396Z"
   },
   {
    "duration": 6,
    "start_time": "2021-12-22T07:09:58.404Z"
   },
   {
    "duration": 5,
    "start_time": "2021-12-22T07:09:58.412Z"
   },
   {
    "duration": 7,
    "start_time": "2021-12-22T07:09:58.419Z"
   },
   {
    "duration": 331,
    "start_time": "2021-12-22T07:09:58.427Z"
   },
   {
    "duration": 7,
    "start_time": "2021-12-22T07:09:58.760Z"
   },
   {
    "duration": 10,
    "start_time": "2021-12-22T07:11:03.264Z"
   },
   {
    "duration": 27,
    "start_time": "2021-12-22T07:33:34.221Z"
   },
   {
    "duration": 464,
    "start_time": "2021-12-22T07:34:08.177Z"
   },
   {
    "duration": 24,
    "start_time": "2021-12-22T07:34:21.029Z"
   },
   {
    "duration": 24,
    "start_time": "2021-12-22T07:35:14.523Z"
   },
   {
    "duration": 4,
    "start_time": "2021-12-22T07:36:10.574Z"
   },
   {
    "duration": 3,
    "start_time": "2021-12-22T07:36:26.669Z"
   },
   {
    "duration": 4,
    "start_time": "2021-12-22T07:37:31.302Z"
   },
   {
    "duration": 88,
    "start_time": "2021-12-22T07:43:09.729Z"
   },
   {
    "duration": 10,
    "start_time": "2021-12-22T07:43:09.818Z"
   },
   {
    "duration": 7,
    "start_time": "2021-12-22T07:43:09.830Z"
   },
   {
    "duration": 80,
    "start_time": "2021-12-22T07:43:09.839Z"
   },
   {
    "duration": 54,
    "start_time": "2021-12-22T07:43:09.920Z"
   },
   {
    "duration": 39,
    "start_time": "2021-12-22T07:43:09.976Z"
   },
   {
    "duration": 6,
    "start_time": "2021-12-22T07:43:10.017Z"
   },
   {
    "duration": 9,
    "start_time": "2021-12-22T07:43:10.025Z"
   },
   {
    "duration": 11,
    "start_time": "2021-12-22T07:43:10.037Z"
   },
   {
    "duration": 42,
    "start_time": "2021-12-22T07:43:10.050Z"
   },
   {
    "duration": 10,
    "start_time": "2021-12-22T07:43:10.093Z"
   },
   {
    "duration": 7,
    "start_time": "2021-12-22T07:43:10.104Z"
   },
   {
    "duration": 6,
    "start_time": "2021-12-22T07:43:10.112Z"
   },
   {
    "duration": 6,
    "start_time": "2021-12-22T07:43:10.119Z"
   },
   {
    "duration": 7,
    "start_time": "2021-12-22T07:43:10.127Z"
   },
   {
    "duration": 9,
    "start_time": "2021-12-22T07:43:10.135Z"
   },
   {
    "duration": 47,
    "start_time": "2021-12-22T07:43:10.146Z"
   },
   {
    "duration": 7,
    "start_time": "2021-12-22T07:43:10.195Z"
   },
   {
    "duration": 313,
    "start_time": "2021-12-22T07:43:10.204Z"
   },
   {
    "duration": 9,
    "start_time": "2021-12-22T07:43:10.519Z"
   },
   {
    "duration": 5,
    "start_time": "2021-12-22T07:46:10.499Z"
   },
   {
    "duration": 9,
    "start_time": "2021-12-22T07:46:25.311Z"
   },
   {
    "duration": 5,
    "start_time": "2021-12-22T07:49:52.649Z"
   },
   {
    "duration": 7,
    "start_time": "2021-12-22T07:51:05.469Z"
   },
   {
    "duration": 42,
    "start_time": "2021-12-22T07:51:32.290Z"
   },
   {
    "duration": 2,
    "start_time": "2021-12-22T07:51:40.851Z"
   },
   {
    "duration": 7,
    "start_time": "2021-12-22T07:52:02.974Z"
   },
   {
    "duration": 3,
    "start_time": "2021-12-22T07:52:04.540Z"
   },
   {
    "duration": 42,
    "start_time": "2021-12-22T07:52:05.125Z"
   },
   {
    "duration": 7,
    "start_time": "2021-12-22T08:05:36.312Z"
   },
   {
    "duration": 3,
    "start_time": "2021-12-22T08:05:37.159Z"
   },
   {
    "duration": 92,
    "start_time": "2021-12-22T08:05:37.752Z"
   },
   {
    "duration": 43,
    "start_time": "2021-12-22T08:15:45.890Z"
   },
   {
    "duration": 93,
    "start_time": "2021-12-22T08:16:09.453Z"
   },
   {
    "duration": 90,
    "start_time": "2021-12-22T08:16:15.294Z"
   },
   {
    "duration": 10,
    "start_time": "2021-12-22T08:16:37.356Z"
   },
   {
    "duration": 8,
    "start_time": "2021-12-22T08:16:45.690Z"
   },
   {
    "duration": 182,
    "start_time": "2021-12-22T08:17:01.702Z"
   },
   {
    "duration": 7,
    "start_time": "2021-12-22T08:17:06.152Z"
   },
   {
    "duration": 6,
    "start_time": "2021-12-22T08:18:17.680Z"
   },
   {
    "duration": 2,
    "start_time": "2021-12-22T08:18:21.163Z"
   },
   {
    "duration": 36,
    "start_time": "2021-12-22T08:18:21.824Z"
   },
   {
    "duration": 84,
    "start_time": "2021-12-22T08:18:33.752Z"
   },
   {
    "duration": 9,
    "start_time": "2021-12-22T08:18:33.838Z"
   },
   {
    "duration": 8,
    "start_time": "2021-12-22T08:18:33.849Z"
   },
   {
    "duration": 83,
    "start_time": "2021-12-22T08:18:33.859Z"
   },
   {
    "duration": 73,
    "start_time": "2021-12-22T08:18:33.944Z"
   },
   {
    "duration": 26,
    "start_time": "2021-12-22T08:18:34.019Z"
   },
   {
    "duration": 6,
    "start_time": "2021-12-22T08:18:34.047Z"
   },
   {
    "duration": 39,
    "start_time": "2021-12-22T08:18:34.055Z"
   },
   {
    "duration": 6,
    "start_time": "2021-12-22T08:18:34.097Z"
   },
   {
    "duration": 13,
    "start_time": "2021-12-22T08:18:34.105Z"
   },
   {
    "duration": 8,
    "start_time": "2021-12-22T08:18:34.119Z"
   },
   {
    "duration": 6,
    "start_time": "2021-12-22T08:18:34.128Z"
   },
   {
    "duration": 6,
    "start_time": "2021-12-22T08:18:34.136Z"
   },
   {
    "duration": 52,
    "start_time": "2021-12-22T08:18:34.143Z"
   },
   {
    "duration": 6,
    "start_time": "2021-12-22T08:18:34.197Z"
   },
   {
    "duration": 9,
    "start_time": "2021-12-22T08:18:34.204Z"
   },
   {
    "duration": 7,
    "start_time": "2021-12-22T08:18:34.214Z"
   },
   {
    "duration": 6,
    "start_time": "2021-12-22T08:18:34.222Z"
   },
   {
    "duration": 346,
    "start_time": "2021-12-22T08:18:34.230Z"
   },
   {
    "duration": 15,
    "start_time": "2021-12-22T08:18:34.577Z"
   },
   {
    "duration": 19,
    "start_time": "2021-12-22T08:18:34.594Z"
   },
   {
    "duration": 7,
    "start_time": "2021-12-22T08:18:34.615Z"
   },
   {
    "duration": 19,
    "start_time": "2021-12-22T08:18:34.624Z"
   },
   {
    "duration": 25,
    "start_time": "2021-12-22T08:18:34.645Z"
   },
   {
    "duration": 2,
    "start_time": "2021-12-22T08:18:36.279Z"
   },
   {
    "duration": 43,
    "start_time": "2021-12-22T08:18:36.531Z"
   },
   {
    "duration": 7,
    "start_time": "2021-12-22T08:26:42.081Z"
   },
   {
    "duration": 4,
    "start_time": "2021-12-22T08:26:46.639Z"
   },
   {
    "duration": 11,
    "start_time": "2021-12-22T08:33:33.415Z"
   },
   {
    "duration": 552,
    "start_time": "2021-12-22T08:36:15.062Z"
   },
   {
    "duration": 17,
    "start_time": "2021-12-22T08:36:24.196Z"
   },
   {
    "duration": 47,
    "start_time": "2021-12-22T08:36:29.241Z"
   },
   {
    "duration": 546,
    "start_time": "2021-12-22T08:38:43.996Z"
   },
   {
    "duration": 34,
    "start_time": "2021-12-22T08:38:44.799Z"
   },
   {
    "duration": 11,
    "start_time": "2021-12-22T08:41:34.165Z"
   },
   {
    "duration": 5,
    "start_time": "2021-12-22T08:42:26.112Z"
   },
   {
    "duration": 24,
    "start_time": "2021-12-22T08:42:31.952Z"
   },
   {
    "duration": 5,
    "start_time": "2021-12-22T08:44:27.914Z"
   },
   {
    "duration": 26,
    "start_time": "2021-12-22T08:44:28.608Z"
   },
   {
    "duration": 6,
    "start_time": "2021-12-22T08:45:00.144Z"
   },
   {
    "duration": 554,
    "start_time": "2021-12-22T08:45:09.919Z"
   },
   {
    "duration": 4,
    "start_time": "2021-12-22T08:45:10.564Z"
   },
   {
    "duration": 26,
    "start_time": "2021-12-22T08:45:11.309Z"
   },
   {
    "duration": 179,
    "start_time": "2021-12-22T08:45:17.951Z"
   },
   {
    "duration": 36,
    "start_time": "2021-12-22T08:55:41.614Z"
   },
   {
    "duration": 13,
    "start_time": "2021-12-22T08:55:45.647Z"
   },
   {
    "duration": 541,
    "start_time": "2021-12-22T08:56:21.990Z"
   },
   {
    "duration": 171,
    "start_time": "2021-12-22T08:56:43.655Z"
   },
   {
    "duration": 174,
    "start_time": "2021-12-22T08:57:38.799Z"
   },
   {
    "duration": 3,
    "start_time": "2021-12-22T09:01:08.822Z"
   },
   {
    "duration": 175,
    "start_time": "2021-12-22T09:02:35.122Z"
   },
   {
    "duration": 10,
    "start_time": "2021-12-22T09:02:52.464Z"
   },
   {
    "duration": 174,
    "start_time": "2021-12-22T09:03:13.717Z"
   },
   {
    "duration": 9,
    "start_time": "2021-12-22T09:03:53.695Z"
   },
   {
    "duration": 7515,
    "start_time": "2021-12-22T09:04:03.169Z"
   },
   {
    "duration": 57,
    "start_time": "2021-12-22T09:04:38.349Z"
   },
   {
    "duration": 2187,
    "start_time": "2021-12-22T09:04:45.562Z"
   },
   {
    "duration": 7003,
    "start_time": "2021-12-22T09:04:53.640Z"
   },
   {
    "duration": 353,
    "start_time": "2021-12-22T09:07:06.556Z"
   },
   {
    "duration": 474,
    "start_time": "2021-12-22T09:07:26.958Z"
   },
   {
    "duration": 3,
    "start_time": "2021-12-22T09:08:38.487Z"
   },
   {
    "duration": 9,
    "start_time": "2021-12-22T09:08:39.422Z"
   },
   {
    "duration": 7024,
    "start_time": "2021-12-22T09:08:41.800Z"
   },
   {
    "duration": 11,
    "start_time": "2021-12-22T09:08:48.825Z"
   },
   {
    "duration": 322,
    "start_time": "2021-12-22T09:08:48.838Z"
   },
   {
    "duration": 9,
    "start_time": "2021-12-22T09:09:14.743Z"
   },
   {
    "duration": 218,
    "start_time": "2021-12-22T09:09:31.107Z"
   },
   {
    "duration": 211,
    "start_time": "2021-12-22T09:09:43.726Z"
   },
   {
    "duration": 215,
    "start_time": "2021-12-22T09:10:21.835Z"
   },
   {
    "duration": 214,
    "start_time": "2021-12-22T09:10:26.998Z"
   },
   {
    "duration": 210,
    "start_time": "2021-12-22T09:11:29.142Z"
   },
   {
    "duration": 849,
    "start_time": "2021-12-22T09:14:24.294Z"
   },
   {
    "duration": 203,
    "start_time": "2021-12-22T09:14:36.757Z"
   },
   {
    "duration": 176,
    "start_time": "2021-12-22T09:14:42.951Z"
   },
   {
    "duration": 865,
    "start_time": "2021-12-22T09:14:51.168Z"
   },
   {
    "duration": 244,
    "start_time": "2021-12-22T09:14:58.747Z"
   },
   {
    "duration": 858,
    "start_time": "2021-12-22T09:15:24.322Z"
   },
   {
    "duration": 173,
    "start_time": "2021-12-22T09:20:06.449Z"
   },
   {
    "duration": 819,
    "start_time": "2021-12-22T09:20:17.840Z"
   },
   {
    "duration": 7301,
    "start_time": "2021-12-22T09:20:26.292Z"
   },
   {
    "duration": 863,
    "start_time": "2021-12-22T09:21:35.182Z"
   },
   {
    "duration": 9,
    "start_time": "2021-12-22T09:23:40.843Z"
   },
   {
    "duration": 5,
    "start_time": "2021-12-22T09:23:51.735Z"
   },
   {
    "duration": 4,
    "start_time": "2021-12-22T09:23:59.243Z"
   },
   {
    "duration": 4,
    "start_time": "2021-12-22T09:24:04.711Z"
   },
   {
    "duration": 5,
    "start_time": "2021-12-22T09:24:09.768Z"
   },
   {
    "duration": 214,
    "start_time": "2021-12-22T09:28:21.498Z"
   },
   {
    "duration": 167,
    "start_time": "2021-12-22T09:28:29.282Z"
   },
   {
    "duration": 640,
    "start_time": "2021-12-22T09:28:33.037Z"
   },
   {
    "duration": 12,
    "start_time": "2021-12-22T09:28:33.679Z"
   },
   {
    "duration": 14,
    "start_time": "2021-12-22T09:28:33.693Z"
   },
   {
    "duration": 64,
    "start_time": "2021-12-22T09:28:33.709Z"
   },
   {
    "duration": 62,
    "start_time": "2021-12-22T09:28:33.775Z"
   },
   {
    "duration": 26,
    "start_time": "2021-12-22T09:28:33.838Z"
   },
   {
    "duration": 29,
    "start_time": "2021-12-22T09:28:33.865Z"
   },
   {
    "duration": 21,
    "start_time": "2021-12-22T09:28:33.896Z"
   },
   {
    "duration": 12,
    "start_time": "2021-12-22T09:28:33.919Z"
   },
   {
    "duration": 39,
    "start_time": "2021-12-22T09:28:33.932Z"
   },
   {
    "duration": 28,
    "start_time": "2021-12-22T09:28:33.972Z"
   },
   {
    "duration": 13,
    "start_time": "2021-12-22T09:28:34.001Z"
   },
   {
    "duration": 29,
    "start_time": "2021-12-22T09:28:34.015Z"
   },
   {
    "duration": 14,
    "start_time": "2021-12-22T09:28:34.045Z"
   },
   {
    "duration": 36,
    "start_time": "2021-12-22T09:28:34.061Z"
   },
   {
    "duration": 13,
    "start_time": "2021-12-22T09:28:34.100Z"
   },
   {
    "duration": 28,
    "start_time": "2021-12-22T09:28:34.115Z"
   },
   {
    "duration": 8,
    "start_time": "2021-12-22T09:28:34.145Z"
   },
   {
    "duration": 379,
    "start_time": "2021-12-22T09:28:34.155Z"
   },
   {
    "duration": 7,
    "start_time": "2021-12-22T09:28:34.536Z"
   },
   {
    "duration": 5,
    "start_time": "2021-12-22T09:28:34.544Z"
   },
   {
    "duration": 6,
    "start_time": "2021-12-22T09:28:34.550Z"
   },
   {
    "duration": 6,
    "start_time": "2021-12-22T09:28:34.559Z"
   },
   {
    "duration": 607,
    "start_time": "2021-12-22T09:28:34.590Z"
   },
   {
    "duration": 5,
    "start_time": "2021-12-22T09:28:35.198Z"
   },
   {
    "duration": 27,
    "start_time": "2021-12-22T09:28:35.205Z"
   },
   {
    "duration": 2,
    "start_time": "2021-12-22T09:28:35.234Z"
   },
   {
    "duration": 13,
    "start_time": "2021-12-22T09:28:35.238Z"
   },
   {
    "duration": 878,
    "start_time": "2021-12-22T09:28:35.252Z"
   },
   {
    "duration": 4,
    "start_time": "2021-12-22T09:28:36.132Z"
   },
   {
    "duration": 6,
    "start_time": "2021-12-22T09:28:36.137Z"
   },
   {
    "duration": 757,
    "start_time": "2021-12-22T09:28:36.145Z"
   },
   {
    "duration": 16,
    "start_time": "2021-12-22T09:28:36.904Z"
   },
   {
    "duration": 10,
    "start_time": "2021-12-22T09:28:36.921Z"
   },
   {
    "duration": 10,
    "start_time": "2021-12-22T09:29:16.362Z"
   },
   {
    "duration": 220,
    "start_time": "2021-12-22T09:29:19.701Z"
   },
   {
    "duration": 8,
    "start_time": "2021-12-22T09:29:29.904Z"
   },
   {
    "duration": 239,
    "start_time": "2021-12-22T09:29:52.332Z"
   },
   {
    "duration": 900,
    "start_time": "2021-12-22T09:29:58.818Z"
   },
   {
    "duration": 147,
    "start_time": "2021-12-22T09:30:15.754Z"
   },
   {
    "duration": 177,
    "start_time": "2021-12-22T09:30:46.761Z"
   },
   {
    "duration": 236,
    "start_time": "2021-12-22T09:31:11.845Z"
   },
   {
    "duration": 93,
    "start_time": "2021-12-22T09:32:15.333Z"
   },
   {
    "duration": 10,
    "start_time": "2021-12-22T09:32:15.428Z"
   },
   {
    "duration": 8,
    "start_time": "2021-12-22T09:32:15.441Z"
   },
   {
    "duration": 88,
    "start_time": "2021-12-22T09:32:15.451Z"
   },
   {
    "duration": 69,
    "start_time": "2021-12-22T09:32:15.541Z"
   },
   {
    "duration": 27,
    "start_time": "2021-12-22T09:32:15.611Z"
   },
   {
    "duration": 8,
    "start_time": "2021-12-22T09:32:15.640Z"
   },
   {
    "duration": 8,
    "start_time": "2021-12-22T09:32:15.650Z"
   },
   {
    "duration": 6,
    "start_time": "2021-12-22T09:32:15.693Z"
   },
   {
    "duration": 17,
    "start_time": "2021-12-22T09:32:15.702Z"
   },
   {
    "duration": 8,
    "start_time": "2021-12-22T09:32:15.720Z"
   },
   {
    "duration": 6,
    "start_time": "2021-12-22T09:32:15.730Z"
   },
   {
    "duration": 6,
    "start_time": "2021-12-22T09:32:15.737Z"
   },
   {
    "duration": 50,
    "start_time": "2021-12-22T09:32:15.745Z"
   },
   {
    "duration": 7,
    "start_time": "2021-12-22T09:32:15.797Z"
   },
   {
    "duration": 9,
    "start_time": "2021-12-22T09:32:15.805Z"
   },
   {
    "duration": 7,
    "start_time": "2021-12-22T09:32:15.815Z"
   },
   {
    "duration": 7,
    "start_time": "2021-12-22T09:32:15.823Z"
   },
   {
    "duration": 339,
    "start_time": "2021-12-22T09:32:15.832Z"
   },
   {
    "duration": 19,
    "start_time": "2021-12-22T09:32:16.173Z"
   },
   {
    "duration": 4,
    "start_time": "2021-12-22T09:32:16.193Z"
   },
   {
    "duration": 5,
    "start_time": "2021-12-22T09:32:16.199Z"
   },
   {
    "duration": 11,
    "start_time": "2021-12-22T09:32:16.206Z"
   },
   {
    "duration": 572,
    "start_time": "2021-12-22T09:32:16.219Z"
   },
   {
    "duration": 6,
    "start_time": "2021-12-22T09:32:16.793Z"
   },
   {
    "duration": 28,
    "start_time": "2021-12-22T09:32:16.800Z"
   },
   {
    "duration": 2,
    "start_time": "2021-12-22T09:32:16.831Z"
   },
   {
    "duration": 11,
    "start_time": "2021-12-22T09:32:16.835Z"
   },
   {
    "duration": 870,
    "start_time": "2021-12-22T09:32:16.848Z"
   },
   {
    "duration": 4,
    "start_time": "2021-12-22T09:32:17.719Z"
   },
   {
    "duration": 14,
    "start_time": "2021-12-22T09:32:17.724Z"
   },
   {
    "duration": 760,
    "start_time": "2021-12-22T09:32:17.739Z"
   },
   {
    "duration": 9,
    "start_time": "2021-12-22T09:32:18.501Z"
   },
   {
    "duration": 235,
    "start_time": "2021-12-22T09:32:18.511Z"
   },
   {
    "duration": 9,
    "start_time": "2021-12-22T09:32:18.748Z"
   },
   {
    "duration": 209,
    "start_time": "2021-12-22T09:32:22.060Z"
   },
   {
    "duration": 380,
    "start_time": "2021-12-22T09:44:22.587Z"
   },
   {
    "duration": 184,
    "start_time": "2021-12-22T09:44:22.969Z"
   },
   {
    "duration": 730,
    "start_time": "2021-12-22T12:16:37.582Z"
   },
   {
    "duration": 1206,
    "start_time": "2021-12-22T12:16:40.950Z"
   },
   {
    "duration": 28,
    "start_time": "2021-12-22T12:16:42.159Z"
   },
   {
    "duration": 14,
    "start_time": "2021-12-22T12:16:42.193Z"
   },
   {
    "duration": 136,
    "start_time": "2021-12-22T12:16:42.211Z"
   },
   {
    "duration": 129,
    "start_time": "2021-12-22T12:16:42.350Z"
   },
   {
    "duration": 56,
    "start_time": "2021-12-22T12:16:42.482Z"
   },
   {
    "duration": 30,
    "start_time": "2021-12-22T12:16:42.541Z"
   },
   {
    "duration": 16,
    "start_time": "2021-12-22T12:16:42.573Z"
   },
   {
    "duration": 9,
    "start_time": "2021-12-22T12:16:42.596Z"
   },
   {
    "duration": 68,
    "start_time": "2021-12-22T12:16:42.609Z"
   },
   {
    "duration": 16,
    "start_time": "2021-12-22T12:16:42.680Z"
   },
   {
    "duration": 10,
    "start_time": "2021-12-22T12:16:42.699Z"
   },
   {
    "duration": 18,
    "start_time": "2021-12-22T12:16:42.712Z"
   },
   {
    "duration": 41,
    "start_time": "2021-12-22T12:16:42.733Z"
   },
   {
    "duration": 17,
    "start_time": "2021-12-22T12:16:42.776Z"
   },
   {
    "duration": 22,
    "start_time": "2021-12-22T12:16:42.796Z"
   },
   {
    "duration": 10,
    "start_time": "2021-12-22T12:16:42.821Z"
   },
   {
    "duration": 39,
    "start_time": "2021-12-22T12:16:42.834Z"
   },
   {
    "duration": 680,
    "start_time": "2021-12-22T12:16:42.875Z"
   },
   {
    "duration": 24,
    "start_time": "2021-12-22T12:16:43.562Z"
   },
   {
    "duration": 7,
    "start_time": "2021-12-22T12:16:43.588Z"
   },
   {
    "duration": 6,
    "start_time": "2021-12-22T12:16:43.598Z"
   },
   {
    "duration": 8,
    "start_time": "2021-12-22T12:16:43.607Z"
   },
   {
    "duration": 1648,
    "start_time": "2021-12-22T12:16:43.618Z"
   },
   {
    "duration": 12,
    "start_time": "2021-12-22T12:16:45.268Z"
   },
   {
    "duration": 21,
    "start_time": "2021-12-22T12:17:46.789Z"
   },
   {
    "duration": 1305,
    "start_time": "2021-12-22T12:17:49.655Z"
   },
   {
    "duration": 7,
    "start_time": "2021-12-22T12:17:50.964Z"
   },
   {
    "duration": 40,
    "start_time": "2021-12-22T12:17:52.010Z"
   },
   {
    "duration": 132,
    "start_time": "2021-12-22T12:18:03.395Z"
   },
   {
    "duration": 16,
    "start_time": "2021-12-22T12:18:03.530Z"
   },
   {
    "duration": 15,
    "start_time": "2021-12-22T12:18:03.563Z"
   },
   {
    "duration": 111,
    "start_time": "2021-12-22T12:18:03.582Z"
   },
   {
    "duration": 142,
    "start_time": "2021-12-22T12:18:03.696Z"
   },
   {
    "duration": 82,
    "start_time": "2021-12-22T12:18:03.842Z"
   },
   {
    "duration": 11,
    "start_time": "2021-12-22T12:18:03.927Z"
   },
   {
    "duration": 37,
    "start_time": "2021-12-22T12:18:03.941Z"
   },
   {
    "duration": 7,
    "start_time": "2021-12-22T12:18:03.988Z"
   },
   {
    "duration": 16,
    "start_time": "2021-12-22T12:18:03.999Z"
   },
   {
    "duration": 53,
    "start_time": "2021-12-22T12:18:04.017Z"
   },
   {
    "duration": 12,
    "start_time": "2021-12-22T12:18:04.073Z"
   },
   {
    "duration": 11,
    "start_time": "2021-12-22T12:18:04.087Z"
   },
   {
    "duration": 10,
    "start_time": "2021-12-22T12:18:04.100Z"
   },
   {
    "duration": 52,
    "start_time": "2021-12-22T12:18:04.113Z"
   },
   {
    "duration": 15,
    "start_time": "2021-12-22T12:18:04.168Z"
   },
   {
    "duration": 13,
    "start_time": "2021-12-22T12:18:04.186Z"
   },
   {
    "duration": 12,
    "start_time": "2021-12-22T12:18:04.202Z"
   },
   {
    "duration": 868,
    "start_time": "2021-12-22T12:18:04.217Z"
   },
   {
    "duration": 15,
    "start_time": "2021-12-22T12:18:05.087Z"
   },
   {
    "duration": 14,
    "start_time": "2021-12-22T12:18:05.105Z"
   },
   {
    "duration": 7,
    "start_time": "2021-12-22T12:18:05.122Z"
   },
   {
    "duration": 49,
    "start_time": "2021-12-22T12:18:05.131Z"
   },
   {
    "duration": 1305,
    "start_time": "2021-12-22T12:18:05.183Z"
   },
   {
    "duration": 10,
    "start_time": "2021-12-22T12:18:06.493Z"
   },
   {
    "duration": 72,
    "start_time": "2021-12-22T12:18:06.506Z"
   },
   {
    "duration": 292,
    "start_time": "2021-12-22T12:19:33.581Z"
   },
   {
    "duration": 618,
    "start_time": "2021-12-22T12:20:18.490Z"
   },
   {
    "duration": 129,
    "start_time": "2021-12-22T12:20:36.972Z"
   },
   {
    "duration": 15,
    "start_time": "2021-12-22T12:20:37.104Z"
   },
   {
    "duration": 41,
    "start_time": "2021-12-22T12:20:37.123Z"
   },
   {
    "duration": 140,
    "start_time": "2021-12-22T12:20:37.167Z"
   },
   {
    "duration": 130,
    "start_time": "2021-12-22T12:20:37.310Z"
   },
   {
    "duration": 66,
    "start_time": "2021-12-22T12:20:37.443Z"
   },
   {
    "duration": 11,
    "start_time": "2021-12-22T12:20:37.512Z"
   },
   {
    "duration": 46,
    "start_time": "2021-12-22T12:20:37.529Z"
   },
   {
    "duration": 13,
    "start_time": "2021-12-22T12:20:37.579Z"
   },
   {
    "duration": 20,
    "start_time": "2021-12-22T12:20:37.595Z"
   },
   {
    "duration": 48,
    "start_time": "2021-12-22T12:20:37.618Z"
   },
   {
    "duration": 13,
    "start_time": "2021-12-22T12:20:37.669Z"
   },
   {
    "duration": 16,
    "start_time": "2021-12-22T12:20:37.686Z"
   },
   {
    "duration": 20,
    "start_time": "2021-12-22T12:20:37.705Z"
   },
   {
    "duration": 47,
    "start_time": "2021-12-22T12:20:37.728Z"
   },
   {
    "duration": 13,
    "start_time": "2021-12-22T12:20:37.779Z"
   },
   {
    "duration": 21,
    "start_time": "2021-12-22T12:20:37.795Z"
   },
   {
    "duration": 12,
    "start_time": "2021-12-22T12:20:37.819Z"
   },
   {
    "duration": 538,
    "start_time": "2021-12-22T12:20:37.863Z"
   },
   {
    "duration": 11,
    "start_time": "2021-12-22T12:20:38.403Z"
   },
   {
    "duration": 6,
    "start_time": "2021-12-22T12:20:38.416Z"
   },
   {
    "duration": 44,
    "start_time": "2021-12-22T12:20:38.424Z"
   },
   {
    "duration": 19,
    "start_time": "2021-12-22T12:20:38.474Z"
   },
   {
    "duration": 1210,
    "start_time": "2021-12-22T12:20:38.495Z"
   },
   {
    "duration": 9,
    "start_time": "2021-12-22T12:20:39.708Z"
   },
   {
    "duration": 72,
    "start_time": "2021-12-22T12:20:39.719Z"
   },
   {
    "duration": 3,
    "start_time": "2021-12-22T12:20:39.794Z"
   },
   {
    "duration": 14,
    "start_time": "2021-12-22T12:20:39.800Z"
   },
   {
    "duration": 323,
    "start_time": "2021-12-22T12:20:39.817Z"
   },
   {
    "duration": 20,
    "start_time": "2021-12-22T12:20:40.143Z"
   },
   {
    "duration": 11,
    "start_time": "2021-12-22T12:20:40.165Z"
   },
   {
    "duration": 625,
    "start_time": "2021-12-22T12:20:40.178Z"
   },
   {
    "duration": 295,
    "start_time": "2021-12-22T12:20:40.806Z"
   },
   {
    "duration": 13,
    "start_time": "2021-12-22T12:20:41.104Z"
   },
   {
    "duration": 385,
    "start_time": "2021-12-22T12:20:41.120Z"
   },
   {
    "duration": 14,
    "start_time": "2021-12-22T12:20:41.508Z"
   },
   {
    "duration": 14,
    "start_time": "2021-12-22T12:20:42.809Z"
   },
   {
    "duration": 307,
    "start_time": "2021-12-22T12:20:43.246Z"
   },
   {
    "duration": 324,
    "start_time": "2021-12-22T12:21:08.411Z"
   },
   {
    "duration": 343,
    "start_time": "2021-12-22T12:23:08.054Z"
   },
   {
    "duration": 12,
    "start_time": "2021-12-22T12:23:28.317Z"
   },
   {
    "duration": 539,
    "start_time": "2021-12-22T12:23:28.795Z"
   },
   {
    "duration": 141,
    "start_time": "2021-12-22T15:16:32.243Z"
   },
   {
    "duration": 62,
    "start_time": "2021-12-22T15:16:32.387Z"
   },
   {
    "duration": 12,
    "start_time": "2021-12-22T15:16:32.453Z"
   },
   {
    "duration": 109,
    "start_time": "2021-12-22T15:16:32.468Z"
   },
   {
    "duration": 111,
    "start_time": "2021-12-22T15:16:32.580Z"
   },
   {
    "duration": 79,
    "start_time": "2021-12-22T15:16:32.694Z"
   },
   {
    "duration": 10,
    "start_time": "2021-12-22T15:16:32.777Z"
   },
   {
    "duration": 25,
    "start_time": "2021-12-22T15:16:32.790Z"
   },
   {
    "duration": 9,
    "start_time": "2021-12-22T15:16:32.821Z"
   },
   {
    "duration": 20,
    "start_time": "2021-12-22T15:16:32.865Z"
   },
   {
    "duration": 12,
    "start_time": "2021-12-22T15:16:32.887Z"
   },
   {
    "duration": 8,
    "start_time": "2021-12-22T15:16:32.902Z"
   },
   {
    "duration": 16,
    "start_time": "2021-12-22T15:16:32.912Z"
   },
   {
    "duration": 38,
    "start_time": "2021-12-22T15:16:32.930Z"
   },
   {
    "duration": 11,
    "start_time": "2021-12-22T15:16:32.970Z"
   },
   {
    "duration": 8,
    "start_time": "2021-12-22T15:16:32.984Z"
   },
   {
    "duration": 9,
    "start_time": "2021-12-22T15:16:32.995Z"
   },
   {
    "duration": 9,
    "start_time": "2021-12-22T15:16:33.007Z"
   },
   {
    "duration": 501,
    "start_time": "2021-12-22T15:16:33.064Z"
   },
   {
    "duration": 13,
    "start_time": "2021-12-22T15:16:33.568Z"
   },
   {
    "duration": 6,
    "start_time": "2021-12-22T15:16:33.584Z"
   },
   {
    "duration": 9,
    "start_time": "2021-12-22T15:16:33.593Z"
   },
   {
    "duration": 18,
    "start_time": "2021-12-22T15:16:33.604Z"
   },
   {
    "duration": 1041,
    "start_time": "2021-12-22T15:16:33.625Z"
   },
   {
    "duration": 6,
    "start_time": "2021-12-22T15:16:34.669Z"
   },
   {
    "duration": 41,
    "start_time": "2021-12-22T15:16:34.677Z"
   },
   {
    "duration": 3,
    "start_time": "2021-12-22T15:16:34.722Z"
   },
   {
    "duration": 41,
    "start_time": "2021-12-22T15:16:34.728Z"
   },
   {
    "duration": 335,
    "start_time": "2021-12-22T15:16:34.771Z"
   },
   {
    "duration": 6,
    "start_time": "2021-12-22T15:16:35.108Z"
   },
   {
    "duration": 6,
    "start_time": "2021-12-22T15:16:35.117Z"
   },
   {
    "duration": 342,
    "start_time": "2021-12-22T15:16:35.126Z"
   },
   {
    "duration": 11,
    "start_time": "2021-12-22T15:16:35.471Z"
   },
   {
    "duration": 343,
    "start_time": "2021-12-22T15:16:35.484Z"
   },
   {
    "duration": 13,
    "start_time": "2021-12-22T15:16:35.829Z"
   },
   {
    "duration": 18,
    "start_time": "2021-12-22T15:18:20.879Z"
   },
   {
    "duration": 385,
    "start_time": "2021-12-22T15:20:31.426Z"
   },
   {
    "duration": 338,
    "start_time": "2021-12-22T15:20:47.268Z"
   },
   {
    "duration": 378,
    "start_time": "2021-12-22T15:21:06.218Z"
   },
   {
    "duration": 409,
    "start_time": "2021-12-22T15:21:10.582Z"
   },
   {
    "duration": 327,
    "start_time": "2021-12-22T15:21:16.628Z"
   },
   {
    "duration": 480,
    "start_time": "2021-12-22T15:22:57.386Z"
   },
   {
    "duration": 522,
    "start_time": "2021-12-22T15:30:45.808Z"
   },
   {
    "duration": 12,
    "start_time": "2021-12-22T15:31:39.123Z"
   },
   {
    "duration": 14,
    "start_time": "2021-12-22T15:32:27.184Z"
   },
   {
    "duration": 418,
    "start_time": "2021-12-22T15:40:26.643Z"
   },
   {
    "duration": 1642,
    "start_time": "2021-12-22T15:43:41.047Z"
   },
   {
    "duration": 232,
    "start_time": "2021-12-22T15:55:58.739Z"
   },
   {
    "duration": 274,
    "start_time": "2021-12-22T15:56:13.466Z"
   },
   {
    "duration": 437,
    "start_time": "2021-12-22T15:56:20.086Z"
   },
   {
    "duration": 444,
    "start_time": "2021-12-22T15:56:25.564Z"
   },
   {
    "duration": 268,
    "start_time": "2021-12-22T15:56:32.032Z"
   },
   {
    "duration": 267,
    "start_time": "2021-12-22T15:57:18.829Z"
   },
   {
    "duration": 476,
    "start_time": "2021-12-22T15:59:41.348Z"
   },
   {
    "duration": 339,
    "start_time": "2021-12-22T15:59:48.444Z"
   },
   {
    "duration": 378,
    "start_time": "2021-12-22T15:59:55.126Z"
   },
   {
    "duration": 355,
    "start_time": "2021-12-22T16:00:01.029Z"
   },
   {
    "duration": 351,
    "start_time": "2021-12-22T16:00:06.612Z"
   },
   {
    "duration": 3,
    "start_time": "2021-12-22T16:10:41.770Z"
   },
   {
    "duration": 61,
    "start_time": "2021-12-22T16:10:42.240Z"
   },
   {
    "duration": 69,
    "start_time": "2021-12-22T16:32:24.150Z"
   },
   {
    "duration": 60,
    "start_time": "2021-12-22T16:35:12.166Z"
   },
   {
    "duration": 304,
    "start_time": "2021-12-22T16:35:34.747Z"
   },
   {
    "duration": 247,
    "start_time": "2021-12-22T16:36:50.215Z"
   },
   {
    "duration": 337,
    "start_time": "2021-12-22T16:37:26.126Z"
   },
   {
    "duration": 294,
    "start_time": "2021-12-22T16:37:42.828Z"
   },
   {
    "duration": 10,
    "start_time": "2021-12-22T16:37:43.125Z"
   },
   {
    "duration": 240,
    "start_time": "2021-12-22T16:38:20.593Z"
   },
   {
    "duration": 274,
    "start_time": "2021-12-22T16:38:34.120Z"
   },
   {
    "duration": 253,
    "start_time": "2021-12-22T16:39:11.876Z"
   },
   {
    "duration": 250,
    "start_time": "2021-12-22T16:39:19.504Z"
   },
   {
    "duration": 259,
    "start_time": "2021-12-22T16:39:25.045Z"
   },
   {
    "duration": 245,
    "start_time": "2021-12-22T16:39:30.675Z"
   },
   {
    "duration": 243,
    "start_time": "2021-12-22T16:39:34.649Z"
   },
   {
    "duration": 249,
    "start_time": "2021-12-22T16:39:37.608Z"
   },
   {
    "duration": 246,
    "start_time": "2021-12-22T16:39:40.877Z"
   },
   {
    "duration": 244,
    "start_time": "2021-12-22T16:39:44.089Z"
   },
   {
    "duration": 308,
    "start_time": "2021-12-22T16:39:50.196Z"
   },
   {
    "duration": 260,
    "start_time": "2021-12-22T16:40:16.965Z"
   },
   {
    "duration": 266,
    "start_time": "2021-12-22T16:40:49.743Z"
   },
   {
    "duration": 355,
    "start_time": "2021-12-22T16:41:39.764Z"
   },
   {
    "duration": 258,
    "start_time": "2021-12-22T16:41:43.082Z"
   },
   {
    "duration": 259,
    "start_time": "2021-12-22T16:41:48.640Z"
   },
   {
    "duration": 261,
    "start_time": "2021-12-22T16:41:53.004Z"
   },
   {
    "duration": 253,
    "start_time": "2021-12-22T16:41:57.213Z"
   },
   {
    "duration": 261,
    "start_time": "2021-12-22T16:42:03.069Z"
   },
   {
    "duration": 343,
    "start_time": "2021-12-23T07:21:31.394Z"
   },
   {
    "duration": 284,
    "start_time": "2021-12-23T07:21:36.598Z"
   },
   {
    "duration": 927,
    "start_time": "2021-12-23T07:21:43.152Z"
   },
   {
    "duration": 15,
    "start_time": "2021-12-23T07:21:44.081Z"
   },
   {
    "duration": 11,
    "start_time": "2021-12-23T07:21:44.099Z"
   },
   {
    "duration": 152,
    "start_time": "2021-12-23T07:21:44.112Z"
   },
   {
    "duration": 148,
    "start_time": "2021-12-23T07:21:44.267Z"
   },
   {
    "duration": 69,
    "start_time": "2021-12-23T07:21:44.418Z"
   },
   {
    "duration": 10,
    "start_time": "2021-12-23T07:21:44.491Z"
   },
   {
    "duration": 16,
    "start_time": "2021-12-23T07:21:44.504Z"
   },
   {
    "duration": 43,
    "start_time": "2021-12-23T07:21:44.525Z"
   },
   {
    "duration": 23,
    "start_time": "2021-12-23T07:21:44.572Z"
   },
   {
    "duration": 12,
    "start_time": "2021-12-23T07:21:44.598Z"
   },
   {
    "duration": 9,
    "start_time": "2021-12-23T07:21:44.612Z"
   },
   {
    "duration": 9,
    "start_time": "2021-12-23T07:21:44.663Z"
   },
   {
    "duration": 8,
    "start_time": "2021-12-23T07:21:44.674Z"
   },
   {
    "duration": 9,
    "start_time": "2021-12-23T07:21:44.684Z"
   },
   {
    "duration": 9,
    "start_time": "2021-12-23T07:21:44.696Z"
   },
   {
    "duration": 58,
    "start_time": "2021-12-23T07:21:44.707Z"
   },
   {
    "duration": 10,
    "start_time": "2021-12-23T07:21:44.767Z"
   },
   {
    "duration": 602,
    "start_time": "2021-12-23T07:21:44.780Z"
   },
   {
    "duration": 14,
    "start_time": "2021-12-23T07:21:45.385Z"
   },
   {
    "duration": 7,
    "start_time": "2021-12-23T07:21:45.402Z"
   },
   {
    "duration": 11,
    "start_time": "2021-12-23T07:21:45.411Z"
   },
   {
    "duration": 46,
    "start_time": "2021-12-23T07:21:45.425Z"
   },
   {
    "duration": 1026,
    "start_time": "2021-12-23T07:21:45.474Z"
   },
   {
    "duration": 8,
    "start_time": "2021-12-23T07:21:46.502Z"
   },
   {
    "duration": 57,
    "start_time": "2021-12-23T07:21:46.512Z"
   },
   {
    "duration": 3,
    "start_time": "2021-12-23T07:21:46.574Z"
   },
   {
    "duration": 15,
    "start_time": "2021-12-23T07:21:46.580Z"
   },
   {
    "duration": 355,
    "start_time": "2021-12-23T07:21:46.597Z"
   },
   {
    "duration": 267,
    "start_time": "2021-12-23T07:21:46.954Z"
   },
   {
    "duration": 6,
    "start_time": "2021-12-23T07:21:47.224Z"
   },
   {
    "duration": 6,
    "start_time": "2021-12-23T07:21:47.232Z"
   },
   {
    "duration": 375,
    "start_time": "2021-12-23T07:21:47.263Z"
   },
   {
    "duration": 285,
    "start_time": "2021-12-23T07:21:47.640Z"
   },
   {
    "duration": 12,
    "start_time": "2021-12-23T07:21:47.927Z"
   },
   {
    "duration": 403,
    "start_time": "2021-12-23T07:21:47.941Z"
   },
   {
    "duration": 374,
    "start_time": "2021-12-23T07:21:48.347Z"
   },
   {
    "duration": 13,
    "start_time": "2021-12-23T07:21:48.724Z"
   },
   {
    "duration": 505,
    "start_time": "2021-12-23T07:21:48.740Z"
   },
   {
    "duration": 325,
    "start_time": "2021-12-23T07:21:49.248Z"
   },
   {
    "duration": 481,
    "start_time": "2021-12-23T07:21:49.575Z"
   },
   {
    "duration": 335,
    "start_time": "2021-12-23T07:21:50.058Z"
   },
   {
    "duration": 15,
    "start_time": "2021-12-23T07:21:50.396Z"
   },
   {
    "duration": 59,
    "start_time": "2021-12-23T07:21:53.230Z"
   },
   {
    "duration": 239,
    "start_time": "2021-12-23T07:28:38.640Z"
   },
   {
    "duration": 101,
    "start_time": "2021-12-23T07:36:39.162Z"
   },
   {
    "duration": 8,
    "start_time": "2021-12-23T07:36:58.452Z"
   },
   {
    "duration": 10,
    "start_time": "2021-12-23T07:37:06.409Z"
   },
   {
    "duration": 66,
    "start_time": "2021-12-23T07:37:10.222Z"
   },
   {
    "duration": 281,
    "start_time": "2021-12-23T07:39:26.072Z"
   },
   {
    "duration": 11,
    "start_time": "2021-12-23T07:41:45.850Z"
   },
   {
    "duration": 7,
    "start_time": "2021-12-23T07:41:55.024Z"
   },
   {
    "duration": 4,
    "start_time": "2021-12-23T07:42:08.969Z"
   },
   {
    "duration": 18,
    "start_time": "2021-12-23T07:42:09.375Z"
   },
   {
    "duration": 13,
    "start_time": "2021-12-23T07:42:10.779Z"
   },
   {
    "duration": 142,
    "start_time": "2021-12-23T07:42:14.706Z"
   },
   {
    "duration": 26,
    "start_time": "2021-12-23T07:42:14.865Z"
   },
   {
    "duration": 15,
    "start_time": "2021-12-23T07:42:14.894Z"
   },
   {
    "duration": 130,
    "start_time": "2021-12-23T07:42:14.912Z"
   },
   {
    "duration": 111,
    "start_time": "2021-12-23T07:42:15.045Z"
   },
   {
    "duration": 55,
    "start_time": "2021-12-23T07:42:15.165Z"
   },
   {
    "duration": 9,
    "start_time": "2021-12-23T07:42:15.222Z"
   },
   {
    "duration": 37,
    "start_time": "2021-12-23T07:42:15.234Z"
   },
   {
    "duration": 16,
    "start_time": "2021-12-23T07:42:15.275Z"
   },
   {
    "duration": 20,
    "start_time": "2021-12-23T07:42:15.294Z"
   },
   {
    "duration": 18,
    "start_time": "2021-12-23T07:42:15.317Z"
   },
   {
    "duration": 32,
    "start_time": "2021-12-23T07:42:15.338Z"
   },
   {
    "duration": 10,
    "start_time": "2021-12-23T07:42:15.373Z"
   },
   {
    "duration": 14,
    "start_time": "2021-12-23T07:42:15.385Z"
   },
   {
    "duration": 16,
    "start_time": "2021-12-23T07:42:15.402Z"
   },
   {
    "duration": 69,
    "start_time": "2021-12-23T07:42:15.421Z"
   },
   {
    "duration": 12,
    "start_time": "2021-12-23T07:42:15.499Z"
   },
   {
    "duration": 12,
    "start_time": "2021-12-23T07:42:15.514Z"
   },
   {
    "duration": 566,
    "start_time": "2021-12-23T07:42:15.528Z"
   },
   {
    "duration": 11,
    "start_time": "2021-12-23T07:42:16.097Z"
   },
   {
    "duration": 6,
    "start_time": "2021-12-23T07:42:16.110Z"
   },
   {
    "duration": 9,
    "start_time": "2021-12-23T07:42:16.119Z"
   },
   {
    "duration": 55,
    "start_time": "2021-12-23T07:42:16.130Z"
   },
   {
    "duration": 1097,
    "start_time": "2021-12-23T07:42:16.188Z"
   },
   {
    "duration": 9,
    "start_time": "2021-12-23T07:42:17.288Z"
   },
   {
    "duration": 49,
    "start_time": "2021-12-23T07:42:17.300Z"
   },
   {
    "duration": 4,
    "start_time": "2021-12-23T07:42:17.366Z"
   },
   {
    "duration": 20,
    "start_time": "2021-12-23T07:42:17.373Z"
   },
   {
    "duration": 420,
    "start_time": "2021-12-23T07:42:17.396Z"
   },
   {
    "duration": 7,
    "start_time": "2021-12-23T07:42:17.819Z"
   },
   {
    "duration": 7,
    "start_time": "2021-12-23T07:42:17.829Z"
   },
   {
    "duration": 411,
    "start_time": "2021-12-23T07:42:17.871Z"
   },
   {
    "duration": 13,
    "start_time": "2021-12-23T07:42:18.287Z"
   },
   {
    "duration": 424,
    "start_time": "2021-12-23T07:42:18.303Z"
   },
   {
    "duration": 297,
    "start_time": "2021-12-23T07:42:18.730Z"
   },
   {
    "duration": 13,
    "start_time": "2021-12-23T07:42:19.030Z"
   },
   {
    "duration": 541,
    "start_time": "2021-12-23T07:42:19.063Z"
   },
   {
    "duration": 286,
    "start_time": "2021-12-23T07:42:19.607Z"
   },
   {
    "duration": 540,
    "start_time": "2021-12-23T07:42:19.896Z"
   },
   {
    "duration": 324,
    "start_time": "2021-12-23T07:42:20.439Z"
   },
   {
    "duration": 19,
    "start_time": "2021-12-23T07:42:20.773Z"
   },
   {
    "duration": 9,
    "start_time": "2021-12-23T07:42:20.795Z"
   },
   {
    "duration": 290,
    "start_time": "2021-12-23T07:42:20.806Z"
   },
   {
    "duration": 8,
    "start_time": "2021-12-23T07:42:21.098Z"
   },
   {
    "duration": 296,
    "start_time": "2021-12-23T07:42:21.108Z"
   },
   {
    "duration": 4,
    "start_time": "2021-12-23T07:42:21.407Z"
   },
   {
    "duration": 16,
    "start_time": "2021-12-23T07:42:21.413Z"
   },
   {
    "duration": 5,
    "start_time": "2021-12-23T07:42:21.432Z"
   },
   {
    "duration": 11,
    "start_time": "2021-12-23T07:48:56.077Z"
   },
   {
    "duration": 11,
    "start_time": "2021-12-23T07:48:58.018Z"
   },
   {
    "duration": 6,
    "start_time": "2021-12-23T07:49:04.949Z"
   },
   {
    "duration": 272,
    "start_time": "2021-12-23T07:51:24.651Z"
   },
   {
    "duration": 11,
    "start_time": "2021-12-23T07:51:25.202Z"
   },
   {
    "duration": 6,
    "start_time": "2021-12-23T07:52:31.511Z"
   },
   {
    "duration": 286,
    "start_time": "2021-12-23T07:53:18.324Z"
   },
   {
    "duration": 10,
    "start_time": "2021-12-23T07:53:18.704Z"
   },
   {
    "duration": 7,
    "start_time": "2021-12-23T07:53:42.791Z"
   },
   {
    "duration": 319,
    "start_time": "2021-12-23T07:53:43.756Z"
   },
   {
    "duration": 10,
    "start_time": "2021-12-23T07:53:51.685Z"
   },
   {
    "duration": 10,
    "start_time": "2021-12-23T07:54:21.344Z"
   },
   {
    "duration": 3,
    "start_time": "2021-12-23T07:55:17.625Z"
   },
   {
    "duration": 10,
    "start_time": "2021-12-23T07:55:18.146Z"
   },
   {
    "duration": 299,
    "start_time": "2021-12-23T07:55:25.325Z"
   },
   {
    "duration": 11,
    "start_time": "2021-12-23T07:55:26.493Z"
   },
   {
    "duration": 161,
    "start_time": "2021-12-23T07:55:32.459Z"
   },
   {
    "duration": 14,
    "start_time": "2021-12-23T07:55:32.623Z"
   },
   {
    "duration": 35,
    "start_time": "2021-12-23T07:55:32.640Z"
   },
   {
    "duration": 195,
    "start_time": "2021-12-23T07:55:32.678Z"
   },
   {
    "duration": 108,
    "start_time": "2021-12-23T07:55:32.877Z"
   },
   {
    "duration": 44,
    "start_time": "2021-12-23T07:55:32.988Z"
   },
   {
    "duration": 30,
    "start_time": "2021-12-23T07:55:33.035Z"
   },
   {
    "duration": 16,
    "start_time": "2021-12-23T07:55:33.070Z"
   },
   {
    "duration": 11,
    "start_time": "2021-12-23T07:55:33.093Z"
   },
   {
    "duration": 65,
    "start_time": "2021-12-23T07:55:33.109Z"
   },
   {
    "duration": 16,
    "start_time": "2021-12-23T07:55:33.177Z"
   },
   {
    "duration": 8,
    "start_time": "2021-12-23T07:55:33.196Z"
   },
   {
    "duration": 18,
    "start_time": "2021-12-23T07:55:33.207Z"
   },
   {
    "duration": 43,
    "start_time": "2021-12-23T07:55:33.228Z"
   },
   {
    "duration": 12,
    "start_time": "2021-12-23T07:55:33.273Z"
   },
   {
    "duration": 10,
    "start_time": "2021-12-23T07:55:33.289Z"
   },
   {
    "duration": 11,
    "start_time": "2021-12-23T07:55:33.302Z"
   },
   {
    "duration": 63,
    "start_time": "2021-12-23T07:55:33.316Z"
   },
   {
    "duration": 518,
    "start_time": "2021-12-23T07:55:33.383Z"
   },
   {
    "duration": 12,
    "start_time": "2021-12-23T07:55:33.905Z"
   },
   {
    "duration": 5,
    "start_time": "2021-12-23T07:55:33.919Z"
   },
   {
    "duration": 38,
    "start_time": "2021-12-23T07:55:33.926Z"
   },
   {
    "duration": 21,
    "start_time": "2021-12-23T07:55:33.967Z"
   },
   {
    "duration": 1128,
    "start_time": "2021-12-23T07:55:33.991Z"
   },
   {
    "duration": 6,
    "start_time": "2021-12-23T07:55:35.122Z"
   },
   {
    "duration": 56,
    "start_time": "2021-12-23T07:55:35.131Z"
   },
   {
    "duration": 5,
    "start_time": "2021-12-23T07:55:35.198Z"
   },
   {
    "duration": 15,
    "start_time": "2021-12-23T07:55:35.206Z"
   },
   {
    "duration": 391,
    "start_time": "2021-12-23T07:55:35.223Z"
   },
   {
    "duration": 6,
    "start_time": "2021-12-23T07:55:35.617Z"
   },
   {
    "duration": 9,
    "start_time": "2021-12-23T07:55:35.625Z"
   },
   {
    "duration": 404,
    "start_time": "2021-12-23T07:55:35.636Z"
   },
   {
    "duration": 21,
    "start_time": "2021-12-23T07:55:36.043Z"
   },
   {
    "duration": 452,
    "start_time": "2021-12-23T07:55:36.067Z"
   },
   {
    "duration": 31,
    "start_time": "2021-12-23T07:55:36.522Z"
   },
   {
    "duration": 402,
    "start_time": "2021-12-23T07:55:36.555Z"
   },
   {
    "duration": 533,
    "start_time": "2021-12-23T07:55:36.959Z"
   },
   {
    "duration": 325,
    "start_time": "2021-12-23T07:55:37.495Z"
   },
   {
    "duration": 11,
    "start_time": "2021-12-23T07:55:37.822Z"
   },
   {
    "duration": 32,
    "start_time": "2021-12-23T07:55:37.835Z"
   },
   {
    "duration": 336,
    "start_time": "2021-12-23T07:55:37.870Z"
   },
   {
    "duration": 8,
    "start_time": "2021-12-23T07:55:38.208Z"
   },
   {
    "duration": 295,
    "start_time": "2021-12-23T07:55:38.218Z"
   },
   {
    "duration": 8,
    "start_time": "2021-12-23T07:55:38.515Z"
   },
   {
    "duration": 280,
    "start_time": "2021-12-23T07:55:38.525Z"
   },
   {
    "duration": 3,
    "start_time": "2021-12-23T07:55:38.807Z"
   },
   {
    "duration": 12,
    "start_time": "2021-12-23T07:55:38.812Z"
   },
   {
    "duration": 306,
    "start_time": "2021-12-23T07:55:38.826Z"
   },
   {
    "duration": 11,
    "start_time": "2021-12-23T07:55:39.134Z"
   },
   {
    "duration": 8,
    "start_time": "2021-12-23T07:55:47.135Z"
   },
   {
    "duration": 17,
    "start_time": "2021-12-23T07:55:48.055Z"
   },
   {
    "duration": 345,
    "start_time": "2021-12-23T07:55:51.449Z"
   },
   {
    "duration": 13,
    "start_time": "2021-12-23T07:55:52.892Z"
   },
   {
    "duration": 155,
    "start_time": "2021-12-23T07:55:56.840Z"
   },
   {
    "duration": 15,
    "start_time": "2021-12-23T07:55:56.999Z"
   },
   {
    "duration": 11,
    "start_time": "2021-12-23T07:55:57.017Z"
   },
   {
    "duration": 132,
    "start_time": "2021-12-23T07:55:57.063Z"
   },
   {
    "duration": 130,
    "start_time": "2021-12-23T07:55:57.198Z"
   },
   {
    "duration": 64,
    "start_time": "2021-12-23T07:55:57.330Z"
   },
   {
    "duration": 9,
    "start_time": "2021-12-23T07:55:57.397Z"
   },
   {
    "duration": 12,
    "start_time": "2021-12-23T07:55:57.411Z"
   },
   {
    "duration": 47,
    "start_time": "2021-12-23T07:55:57.427Z"
   },
   {
    "duration": 26,
    "start_time": "2021-12-23T07:55:57.479Z"
   },
   {
    "duration": 15,
    "start_time": "2021-12-23T07:55:57.508Z"
   },
   {
    "duration": 46,
    "start_time": "2021-12-23T07:55:57.526Z"
   },
   {
    "duration": 12,
    "start_time": "2021-12-23T07:55:57.577Z"
   },
   {
    "duration": 13,
    "start_time": "2021-12-23T07:55:57.592Z"
   },
   {
    "duration": 12,
    "start_time": "2021-12-23T07:55:57.609Z"
   },
   {
    "duration": 13,
    "start_time": "2021-12-23T07:55:57.680Z"
   },
   {
    "duration": 11,
    "start_time": "2021-12-23T07:55:57.696Z"
   },
   {
    "duration": 10,
    "start_time": "2021-12-23T07:55:57.710Z"
   },
   {
    "duration": 548,
    "start_time": "2021-12-23T07:55:57.722Z"
   },
   {
    "duration": 18,
    "start_time": "2021-12-23T07:55:58.273Z"
   },
   {
    "duration": 7,
    "start_time": "2021-12-23T07:55:58.294Z"
   },
   {
    "duration": 28,
    "start_time": "2021-12-23T07:55:58.304Z"
   },
   {
    "duration": 37,
    "start_time": "2021-12-23T07:55:58.348Z"
   },
   {
    "duration": 1123,
    "start_time": "2021-12-23T07:55:58.392Z"
   },
   {
    "duration": 7,
    "start_time": "2021-12-23T07:55:59.518Z"
   },
   {
    "duration": 73,
    "start_time": "2021-12-23T07:55:59.528Z"
   },
   {
    "duration": 4,
    "start_time": "2021-12-23T07:55:59.604Z"
   },
   {
    "duration": 13,
    "start_time": "2021-12-23T07:55:59.611Z"
   },
   {
    "duration": 407,
    "start_time": "2021-12-23T07:55:59.626Z"
   },
   {
    "duration": 6,
    "start_time": "2021-12-23T07:56:00.036Z"
   },
   {
    "duration": 19,
    "start_time": "2021-12-23T07:56:00.072Z"
   },
   {
    "duration": 412,
    "start_time": "2021-12-23T07:56:00.094Z"
   },
   {
    "duration": 11,
    "start_time": "2021-12-23T07:56:00.509Z"
   },
   {
    "duration": 566,
    "start_time": "2021-12-23T07:56:00.523Z"
   },
   {
    "duration": 13,
    "start_time": "2021-12-23T07:56:01.093Z"
   },
   {
    "duration": 420,
    "start_time": "2021-12-23T07:56:01.108Z"
   },
   {
    "duration": 528,
    "start_time": "2021-12-23T07:56:01.531Z"
   },
   {
    "duration": 317,
    "start_time": "2021-12-23T07:56:02.070Z"
   },
   {
    "duration": 19,
    "start_time": "2021-12-23T07:56:02.390Z"
   },
   {
    "duration": 16,
    "start_time": "2021-12-23T07:56:02.412Z"
   },
   {
    "duration": 287,
    "start_time": "2021-12-23T07:56:02.431Z"
   },
   {
    "duration": 8,
    "start_time": "2021-12-23T07:56:02.721Z"
   },
   {
    "duration": 296,
    "start_time": "2021-12-23T07:56:02.731Z"
   },
   {
    "duration": 8,
    "start_time": "2021-12-23T07:56:03.029Z"
   },
   {
    "duration": 285,
    "start_time": "2021-12-23T07:56:03.039Z"
   },
   {
    "duration": 7,
    "start_time": "2021-12-23T07:56:03.326Z"
   },
   {
    "duration": 36,
    "start_time": "2021-12-23T07:56:03.336Z"
   },
   {
    "duration": 396,
    "start_time": "2021-12-23T07:56:03.375Z"
   },
   {
    "duration": 12,
    "start_time": "2021-12-23T07:56:03.774Z"
   },
   {
    "duration": 8,
    "start_time": "2021-12-23T07:59:00.635Z"
   },
   {
    "duration": 12,
    "start_time": "2021-12-23T08:04:51.393Z"
   },
   {
    "duration": 12,
    "start_time": "2021-12-23T08:05:25.763Z"
   },
   {
    "duration": 11,
    "start_time": "2021-12-23T08:05:48.735Z"
   },
   {
    "duration": 11,
    "start_time": "2021-12-23T08:06:04.806Z"
   },
   {
    "duration": 21,
    "start_time": "2021-12-23T08:09:36.045Z"
   },
   {
    "duration": 7,
    "start_time": "2021-12-23T10:09:59.491Z"
   },
   {
    "duration": 8,
    "start_time": "2021-12-23T10:10:07.147Z"
   },
   {
    "duration": 7,
    "start_time": "2021-12-23T10:10:15.172Z"
   },
   {
    "duration": 7,
    "start_time": "2021-12-23T10:10:28.680Z"
   },
   {
    "duration": 11,
    "start_time": "2021-12-23T10:10:29.706Z"
   },
   {
    "duration": 9,
    "start_time": "2021-12-23T10:10:49.336Z"
   },
   {
    "duration": 11,
    "start_time": "2021-12-23T10:11:19.174Z"
   },
   {
    "duration": 11,
    "start_time": "2021-12-23T10:11:20.769Z"
   },
   {
    "duration": 11,
    "start_time": "2021-12-23T10:11:25.736Z"
   },
   {
    "duration": 147,
    "start_time": "2021-12-23T10:11:36.534Z"
   },
   {
    "duration": 15,
    "start_time": "2021-12-23T10:11:36.684Z"
   },
   {
    "duration": 11,
    "start_time": "2021-12-23T10:11:36.702Z"
   },
   {
    "duration": 124,
    "start_time": "2021-12-23T10:11:36.715Z"
   },
   {
    "duration": 107,
    "start_time": "2021-12-23T10:11:36.841Z"
   },
   {
    "duration": 44,
    "start_time": "2021-12-23T10:11:36.963Z"
   },
   {
    "duration": 10,
    "start_time": "2021-12-23T10:11:37.009Z"
   },
   {
    "duration": 47,
    "start_time": "2021-12-23T10:11:37.022Z"
   },
   {
    "duration": 8,
    "start_time": "2021-12-23T10:11:37.072Z"
   },
   {
    "duration": 25,
    "start_time": "2021-12-23T10:11:37.083Z"
   },
   {
    "duration": 11,
    "start_time": "2021-12-23T10:11:37.111Z"
   },
   {
    "duration": 19,
    "start_time": "2021-12-23T10:11:37.124Z"
   },
   {
    "duration": 12,
    "start_time": "2021-12-23T10:11:37.163Z"
   },
   {
    "duration": 12,
    "start_time": "2021-12-23T10:11:37.177Z"
   },
   {
    "duration": 18,
    "start_time": "2021-12-23T10:11:37.192Z"
   },
   {
    "duration": 17,
    "start_time": "2021-12-23T10:11:37.212Z"
   },
   {
    "duration": 32,
    "start_time": "2021-12-23T10:11:37.231Z"
   },
   {
    "duration": 9,
    "start_time": "2021-12-23T10:11:37.265Z"
   },
   {
    "duration": 495,
    "start_time": "2021-12-23T10:11:37.276Z"
   },
   {
    "duration": 10,
    "start_time": "2021-12-23T10:11:37.773Z"
   },
   {
    "duration": 5,
    "start_time": "2021-12-23T10:11:37.786Z"
   },
   {
    "duration": 6,
    "start_time": "2021-12-23T10:11:37.793Z"
   },
   {
    "duration": 18,
    "start_time": "2021-12-23T10:11:37.804Z"
   },
   {
    "duration": 1032,
    "start_time": "2021-12-23T10:11:37.862Z"
   },
   {
    "duration": 9,
    "start_time": "2021-12-23T10:11:38.897Z"
   },
   {
    "duration": 56,
    "start_time": "2021-12-23T10:11:38.908Z"
   },
   {
    "duration": 4,
    "start_time": "2021-12-23T10:11:38.967Z"
   },
   {
    "duration": 14,
    "start_time": "2021-12-23T10:11:38.974Z"
   },
   {
    "duration": 458,
    "start_time": "2021-12-23T10:11:38.991Z"
   },
   {
    "duration": 19,
    "start_time": "2021-12-23T10:11:39.453Z"
   },
   {
    "duration": 373,
    "start_time": "2021-12-23T10:11:39.475Z"
   },
   {
    "duration": 19,
    "start_time": "2021-12-23T10:11:39.851Z"
   },
   {
    "duration": 386,
    "start_time": "2021-12-23T10:11:39.872Z"
   },
   {
    "duration": 12,
    "start_time": "2021-12-23T10:11:40.260Z"
   },
   {
    "duration": 362,
    "start_time": "2021-12-23T10:11:40.274Z"
   },
   {
    "duration": 501,
    "start_time": "2021-12-23T10:11:40.638Z"
   },
   {
    "duration": 289,
    "start_time": "2021-12-23T10:11:41.141Z"
   },
   {
    "duration": 12,
    "start_time": "2021-12-23T10:11:41.433Z"
   },
   {
    "duration": 21,
    "start_time": "2021-12-23T10:11:41.447Z"
   },
   {
    "duration": 259,
    "start_time": "2021-12-23T10:11:41.470Z"
   },
   {
    "duration": 11,
    "start_time": "2021-12-23T10:11:41.731Z"
   },
   {
    "duration": 291,
    "start_time": "2021-12-23T10:11:41.744Z"
   },
   {
    "duration": 10,
    "start_time": "2021-12-23T10:11:42.037Z"
   },
   {
    "duration": 376,
    "start_time": "2021-12-23T10:11:42.049Z"
   },
   {
    "duration": 7,
    "start_time": "2021-12-23T10:11:42.428Z"
   },
   {
    "duration": 27,
    "start_time": "2021-12-23T10:11:42.438Z"
   },
   {
    "duration": 271,
    "start_time": "2021-12-23T10:11:42.468Z"
   },
   {
    "duration": 9,
    "start_time": "2021-12-23T10:11:42.741Z"
   },
   {
    "duration": 10,
    "start_time": "2021-12-23T10:11:42.762Z"
   },
   {
    "duration": 11,
    "start_time": "2021-12-23T10:16:33.683Z"
   },
   {
    "duration": 11,
    "start_time": "2021-12-23T10:16:34.073Z"
   },
   {
    "duration": 9,
    "start_time": "2021-12-23T10:42:28.189Z"
   },
   {
    "duration": 527,
    "start_time": "2021-12-23T10:42:30.714Z"
   },
   {
    "duration": 322,
    "start_time": "2021-12-23T12:51:06.420Z"
   },
   {
    "duration": 6,
    "start_time": "2021-12-23T12:51:34.005Z"
   },
   {
    "duration": 2439,
    "start_time": "2021-12-23T12:51:35.828Z"
   },
   {
    "duration": 10,
    "start_time": "2021-12-23T12:52:07.483Z"
   },
   {
    "duration": 1542,
    "start_time": "2021-12-23T12:53:13.815Z"
   },
   {
    "duration": 15,
    "start_time": "2021-12-23T12:54:17.148Z"
   },
   {
    "duration": 7,
    "start_time": "2021-12-23T12:55:19.396Z"
   },
   {
    "duration": 12,
    "start_time": "2021-12-23T12:55:19.878Z"
   },
   {
    "duration": 2027,
    "start_time": "2021-12-23T12:55:22.765Z"
   },
   {
    "duration": 6,
    "start_time": "2021-12-23T12:57:04.947Z"
   },
   {
    "duration": 14,
    "start_time": "2021-12-23T12:57:05.500Z"
   },
   {
    "duration": 7022,
    "start_time": "2021-12-23T12:57:07.922Z"
   },
   {
    "duration": 6607,
    "start_time": "2021-12-23T12:57:20.147Z"
   },
   {
    "duration": 6661,
    "start_time": "2021-12-23T12:57:33.670Z"
   },
   {
    "duration": 5,
    "start_time": "2021-12-23T12:59:27.363Z"
   },
   {
    "duration": 19,
    "start_time": "2021-12-23T12:59:27.736Z"
   },
   {
    "duration": 6789,
    "start_time": "2021-12-23T12:59:28.536Z"
   },
   {
    "duration": 6630,
    "start_time": "2021-12-23T13:00:43.996Z"
   },
   {
    "duration": 7,
    "start_time": "2021-12-23T13:01:01.979Z"
   },
   {
    "duration": 10,
    "start_time": "2021-12-23T13:01:02.650Z"
   },
   {
    "duration": 6,
    "start_time": "2021-12-23T13:01:12.772Z"
   },
   {
    "duration": 10,
    "start_time": "2021-12-23T13:01:13.120Z"
   },
   {
    "duration": 497,
    "start_time": "2021-12-23T13:01:13.579Z"
   },
   {
    "duration": 79,
    "start_time": "2021-12-23T13:01:56.912Z"
   },
   {
    "duration": 5,
    "start_time": "2021-12-23T13:04:10.780Z"
   },
   {
    "duration": 17,
    "start_time": "2021-12-23T13:04:11.384Z"
   },
   {
    "duration": 6929,
    "start_time": "2021-12-23T13:04:15.749Z"
   },
   {
    "duration": 7,
    "start_time": "2021-12-23T13:04:42.847Z"
   },
   {
    "duration": 10,
    "start_time": "2021-12-23T13:04:43.452Z"
   },
   {
    "duration": 15,
    "start_time": "2021-12-23T13:09:17.922Z"
   },
   {
    "duration": 6774,
    "start_time": "2021-12-23T13:09:42.711Z"
   },
   {
    "duration": 1109,
    "start_time": "2021-12-23T13:15:25.116Z"
   },
   {
    "duration": 7,
    "start_time": "2021-12-23T13:15:26.269Z"
   },
   {
    "duration": 57,
    "start_time": "2021-12-23T13:15:27.347Z"
   },
   {
    "duration": 208,
    "start_time": "2021-12-23T13:15:54.081Z"
   },
   {
    "duration": 23,
    "start_time": "2021-12-23T13:15:54.292Z"
   },
   {
    "duration": 46,
    "start_time": "2021-12-23T13:15:54.319Z"
   },
   {
    "duration": 103,
    "start_time": "2021-12-23T13:15:54.372Z"
   },
   {
    "duration": 145,
    "start_time": "2021-12-23T13:15:54.479Z"
   },
   {
    "duration": 65,
    "start_time": "2021-12-23T13:15:54.627Z"
   },
   {
    "duration": 11,
    "start_time": "2021-12-23T13:15:54.695Z"
   },
   {
    "duration": 13,
    "start_time": "2021-12-23T13:15:54.712Z"
   },
   {
    "duration": 44,
    "start_time": "2021-12-23T13:15:54.728Z"
   },
   {
    "duration": 22,
    "start_time": "2021-12-23T13:15:54.775Z"
   },
   {
    "duration": 16,
    "start_time": "2021-12-23T13:15:54.800Z"
   },
   {
    "duration": 47,
    "start_time": "2021-12-23T13:15:54.818Z"
   },
   {
    "duration": 12,
    "start_time": "2021-12-23T13:15:54.869Z"
   },
   {
    "duration": 10,
    "start_time": "2021-12-23T13:15:54.884Z"
   },
   {
    "duration": 9,
    "start_time": "2021-12-23T13:15:54.897Z"
   },
   {
    "duration": 55,
    "start_time": "2021-12-23T13:15:54.909Z"
   },
   {
    "duration": 13,
    "start_time": "2021-12-23T13:15:54.966Z"
   },
   {
    "duration": 11,
    "start_time": "2021-12-23T13:15:54.982Z"
   },
   {
    "duration": 559,
    "start_time": "2021-12-23T13:15:54.996Z"
   },
   {
    "duration": 14,
    "start_time": "2021-12-23T13:15:55.563Z"
   },
   {
    "duration": 9,
    "start_time": "2021-12-23T13:15:55.580Z"
   },
   {
    "duration": 14,
    "start_time": "2021-12-23T13:15:55.592Z"
   },
   {
    "duration": 16,
    "start_time": "2021-12-23T13:15:55.613Z"
   },
   {
    "duration": 1235,
    "start_time": "2021-12-23T13:15:55.632Z"
   },
   {
    "duration": 13,
    "start_time": "2021-12-23T13:15:56.870Z"
   },
   {
    "duration": 43,
    "start_time": "2021-12-23T13:15:56.887Z"
   },
   {
    "duration": 4,
    "start_time": "2021-12-23T13:15:56.932Z"
   },
   {
    "duration": 14,
    "start_time": "2021-12-23T13:15:56.965Z"
   },
   {
    "duration": 402,
    "start_time": "2021-12-23T13:15:56.982Z"
   },
   {
    "duration": 14,
    "start_time": "2021-12-23T13:15:57.386Z"
   },
   {
    "duration": 414,
    "start_time": "2021-12-23T13:15:57.402Z"
   },
   {
    "duration": 11,
    "start_time": "2021-12-23T13:15:57.818Z"
   },
   {
    "duration": 594,
    "start_time": "2021-12-23T13:15:57.831Z"
   },
   {
    "duration": 14,
    "start_time": "2021-12-23T13:15:58.428Z"
   },
   {
    "duration": 385,
    "start_time": "2021-12-23T13:15:58.463Z"
   },
   {
    "duration": 553,
    "start_time": "2021-12-23T13:15:58.850Z"
   },
   {
    "duration": 322,
    "start_time": "2021-12-23T13:15:59.406Z"
   },
   {
    "duration": 13,
    "start_time": "2021-12-23T13:15:59.731Z"
   },
   {
    "duration": 25,
    "start_time": "2021-12-23T13:15:59.747Z"
   },
   {
    "duration": 312,
    "start_time": "2021-12-23T13:15:59.775Z"
   },
   {
    "duration": 9,
    "start_time": "2021-12-23T13:16:00.090Z"
   },
   {
    "duration": 435,
    "start_time": "2021-12-23T13:16:00.102Z"
   },
   {
    "duration": 9,
    "start_time": "2021-12-23T13:16:00.540Z"
   },
   {
    "duration": 333,
    "start_time": "2021-12-23T13:16:00.551Z"
   },
   {
    "duration": 11,
    "start_time": "2021-12-23T13:16:00.887Z"
   },
   {
    "duration": 15,
    "start_time": "2021-12-23T13:16:00.901Z"
   },
   {
    "duration": 311,
    "start_time": "2021-12-23T13:16:00.919Z"
   },
   {
    "duration": 10,
    "start_time": "2021-12-23T13:16:01.233Z"
   },
   {
    "duration": 27,
    "start_time": "2021-12-23T13:16:01.246Z"
   },
   {
    "duration": 27,
    "start_time": "2021-12-23T13:16:01.276Z"
   },
   {
    "duration": 16,
    "start_time": "2021-12-23T13:16:01.306Z"
   },
   {
    "duration": 37,
    "start_time": "2021-12-23T13:16:01.326Z"
   },
   {
    "duration": 26,
    "start_time": "2021-12-23T13:16:01.370Z"
   },
   {
    "duration": 7551,
    "start_time": "2021-12-23T13:16:01.399Z"
   },
   {
    "duration": 14,
    "start_time": "2021-12-23T13:16:08.952Z"
   },
   {
    "duration": 17,
    "start_time": "2021-12-23T13:16:08.969Z"
   },
   {
    "duration": 1813,
    "start_time": "2021-12-23T13:16:08.989Z"
   },
   {
    "duration": 73,
    "start_time": "2021-12-23T13:16:10.805Z"
   },
   {
    "duration": 8,
    "start_time": "2021-12-23T13:20:11.950Z"
   },
   {
    "duration": 13,
    "start_time": "2021-12-23T13:20:17.760Z"
   },
   {
    "duration": 10,
    "start_time": "2021-12-23T13:20:28.900Z"
   },
   {
    "duration": 17,
    "start_time": "2021-12-23T13:20:38.757Z"
   },
   {
    "duration": 26,
    "start_time": "2021-12-23T13:33:24.030Z"
   },
   {
    "duration": 129,
    "start_time": "2021-12-23T13:34:10.333Z"
   },
   {
    "duration": 155,
    "start_time": "2021-12-23T13:34:10.466Z"
   },
   {
    "duration": 12,
    "start_time": "2021-12-23T13:34:10.624Z"
   },
   {
    "duration": 102,
    "start_time": "2021-12-23T13:34:10.639Z"
   },
   {
    "duration": 104,
    "start_time": "2021-12-23T13:34:10.743Z"
   },
   {
    "duration": 39,
    "start_time": "2021-12-23T13:34:10.862Z"
   },
   {
    "duration": 9,
    "start_time": "2021-12-23T13:34:10.904Z"
   },
   {
    "duration": 12,
    "start_time": "2021-12-23T13:34:10.916Z"
   },
   {
    "duration": 9,
    "start_time": "2021-12-23T13:34:10.964Z"
   },
   {
    "duration": 17,
    "start_time": "2021-12-23T13:34:10.977Z"
   },
   {
    "duration": 12,
    "start_time": "2021-12-23T13:34:10.997Z"
   },
   {
    "duration": 9,
    "start_time": "2021-12-23T13:34:11.012Z"
   },
   {
    "duration": 9,
    "start_time": "2021-12-23T13:34:11.063Z"
   },
   {
    "duration": 10,
    "start_time": "2021-12-23T13:34:11.074Z"
   },
   {
    "duration": 9,
    "start_time": "2021-12-23T13:34:11.086Z"
   },
   {
    "duration": 7,
    "start_time": "2021-12-23T13:34:11.098Z"
   },
   {
    "duration": 62,
    "start_time": "2021-12-23T13:34:11.108Z"
   },
   {
    "duration": 10,
    "start_time": "2021-12-23T13:34:11.173Z"
   },
   {
    "duration": 512,
    "start_time": "2021-12-23T13:34:11.186Z"
   },
   {
    "duration": 10,
    "start_time": "2021-12-23T13:34:11.701Z"
   },
   {
    "duration": 5,
    "start_time": "2021-12-23T13:34:11.713Z"
   },
   {
    "duration": 6,
    "start_time": "2021-12-23T13:34:11.720Z"
   },
   {
    "duration": 49,
    "start_time": "2021-12-23T13:34:11.729Z"
   },
   {
    "duration": 962,
    "start_time": "2021-12-23T13:34:11.780Z"
   },
   {
    "duration": 18,
    "start_time": "2021-12-23T13:34:12.744Z"
   },
   {
    "duration": 36,
    "start_time": "2021-12-23T13:34:12.764Z"
   },
   {
    "duration": 3,
    "start_time": "2021-12-23T13:34:12.806Z"
   },
   {
    "duration": 13,
    "start_time": "2021-12-23T13:34:12.812Z"
   },
   {
    "duration": 380,
    "start_time": "2021-12-23T13:34:12.827Z"
   },
   {
    "duration": 12,
    "start_time": "2021-12-23T13:34:13.210Z"
   },
   {
    "duration": 381,
    "start_time": "2021-12-23T13:34:13.225Z"
   },
   {
    "duration": 12,
    "start_time": "2021-12-23T13:34:13.608Z"
   },
   {
    "duration": 400,
    "start_time": "2021-12-23T13:34:13.622Z"
   },
   {
    "duration": 12,
    "start_time": "2021-12-23T13:34:14.024Z"
   },
   {
    "duration": 359,
    "start_time": "2021-12-23T13:34:14.038Z"
   },
   {
    "duration": 488,
    "start_time": "2021-12-23T13:34:14.399Z"
   },
   {
    "duration": 290,
    "start_time": "2021-12-23T13:34:14.890Z"
   },
   {
    "duration": 12,
    "start_time": "2021-12-23T13:34:15.183Z"
   },
   {
    "duration": 8,
    "start_time": "2021-12-23T13:34:15.197Z"
   },
   {
    "duration": 369,
    "start_time": "2021-12-23T13:34:15.207Z"
   },
   {
    "duration": 8,
    "start_time": "2021-12-23T13:34:15.578Z"
   },
   {
    "duration": 288,
    "start_time": "2021-12-23T13:34:15.589Z"
   },
   {
    "duration": 9,
    "start_time": "2021-12-23T13:34:15.880Z"
   },
   {
    "duration": 284,
    "start_time": "2021-12-23T13:34:15.891Z"
   },
   {
    "duration": 8,
    "start_time": "2021-12-23T13:34:16.177Z"
   },
   {
    "duration": 10,
    "start_time": "2021-12-23T13:34:16.187Z"
   },
   {
    "duration": 283,
    "start_time": "2021-12-23T13:34:16.200Z"
   },
   {
    "duration": 9,
    "start_time": "2021-12-23T13:34:16.485Z"
   },
   {
    "duration": 13,
    "start_time": "2021-12-23T13:34:16.497Z"
   },
   {
    "duration": 11,
    "start_time": "2021-12-23T13:34:16.513Z"
   },
   {
    "duration": 46,
    "start_time": "2021-12-23T13:34:16.527Z"
   },
   {
    "duration": 5,
    "start_time": "2021-12-23T13:34:16.575Z"
   },
   {
    "duration": 15,
    "start_time": "2021-12-23T13:34:16.583Z"
   },
   {
    "duration": 6444,
    "start_time": "2021-12-23T13:34:16.601Z"
   },
   {
    "duration": 16,
    "start_time": "2021-12-23T13:34:23.047Z"
   },
   {
    "duration": 10,
    "start_time": "2021-12-23T13:34:23.065Z"
   },
   {
    "duration": 1768,
    "start_time": "2021-12-23T13:34:23.077Z"
   },
   {
    "duration": 64,
    "start_time": "2021-12-23T13:34:24.847Z"
   },
   {
    "duration": 15,
    "start_time": "2021-12-23T13:34:24.914Z"
   },
   {
    "duration": 6398,
    "start_time": "2021-12-23T13:34:24.931Z"
   },
   {
    "duration": 26,
    "start_time": "2021-12-23T13:34:31.343Z"
   },
   {
    "duration": 62,
    "start_time": "2021-12-23T13:34:37.045Z"
   },
   {
    "duration": 60,
    "start_time": "2021-12-23T13:35:48.223Z"
   },
   {
    "duration": 15,
    "start_time": "2021-12-23T13:36:01.290Z"
   },
   {
    "duration": 66,
    "start_time": "2021-12-23T13:36:08.071Z"
   },
   {
    "duration": 1242,
    "start_time": "2021-12-23T13:40:29.452Z"
   },
   {
    "duration": 22,
    "start_time": "2021-12-23T13:51:48.116Z"
   },
   {
    "duration": 316,
    "start_time": "2021-12-23T13:52:00.966Z"
   },
   {
    "duration": 315,
    "start_time": "2021-12-23T13:52:12.881Z"
   },
   {
    "duration": 292,
    "start_time": "2021-12-23T13:52:28.533Z"
   },
   {
    "duration": 19,
    "start_time": "2021-12-23T13:52:33.129Z"
   },
   {
    "duration": 20,
    "start_time": "2021-12-23T13:53:13.809Z"
   },
   {
    "duration": 220,
    "start_time": "2021-12-23T17:46:15.184Z"
   },
   {
    "duration": 660,
    "start_time": "2021-12-23T17:46:27.551Z"
   },
   {
    "duration": 12,
    "start_time": "2021-12-23T17:46:28.213Z"
   },
   {
    "duration": 9,
    "start_time": "2021-12-23T17:46:28.227Z"
   },
   {
    "duration": 93,
    "start_time": "2021-12-23T17:46:28.238Z"
   },
   {
    "duration": 72,
    "start_time": "2021-12-23T17:46:28.333Z"
   },
   {
    "duration": 27,
    "start_time": "2021-12-23T17:46:28.407Z"
   },
   {
    "duration": 9,
    "start_time": "2021-12-23T17:46:28.436Z"
   },
   {
    "duration": 9,
    "start_time": "2021-12-23T17:46:28.448Z"
   },
   {
    "duration": 6,
    "start_time": "2021-12-23T17:46:28.493Z"
   },
   {
    "duration": 21,
    "start_time": "2021-12-23T17:46:28.501Z"
   },
   {
    "duration": 10,
    "start_time": "2021-12-23T17:46:28.525Z"
   },
   {
    "duration": 7,
    "start_time": "2021-12-23T17:46:28.537Z"
   },
   {
    "duration": 8,
    "start_time": "2021-12-23T17:46:28.545Z"
   },
   {
    "duration": 9,
    "start_time": "2021-12-23T17:46:28.593Z"
   },
   {
    "duration": 7,
    "start_time": "2021-12-23T17:46:28.604Z"
   },
   {
    "duration": 6,
    "start_time": "2021-12-23T17:46:28.613Z"
   },
   {
    "duration": 6,
    "start_time": "2021-12-23T17:46:28.621Z"
   },
   {
    "duration": 6,
    "start_time": "2021-12-23T17:46:28.629Z"
   },
   {
    "duration": 428,
    "start_time": "2021-12-23T17:46:28.637Z"
   },
   {
    "duration": 8,
    "start_time": "2021-12-23T17:46:29.067Z"
   },
   {
    "duration": 17,
    "start_time": "2021-12-23T17:46:29.077Z"
   },
   {
    "duration": 7,
    "start_time": "2021-12-23T17:46:29.096Z"
   },
   {
    "duration": 13,
    "start_time": "2021-12-23T17:46:29.107Z"
   },
   {
    "duration": 719,
    "start_time": "2021-12-23T17:46:29.122Z"
   },
   {
    "duration": 5,
    "start_time": "2021-12-23T17:46:29.843Z"
   },
   {
    "duration": 44,
    "start_time": "2021-12-23T17:46:29.850Z"
   },
   {
    "duration": 3,
    "start_time": "2021-12-23T17:46:29.896Z"
   },
   {
    "duration": 12,
    "start_time": "2021-12-23T17:46:29.900Z"
   },
   {
    "duration": 246,
    "start_time": "2021-12-23T17:46:29.913Z"
   },
   {
    "duration": 11,
    "start_time": "2021-12-23T17:46:30.161Z"
   },
   {
    "duration": 259,
    "start_time": "2021-12-23T17:46:30.174Z"
   },
   {
    "duration": 9,
    "start_time": "2021-12-23T17:46:30.434Z"
   },
   {
    "duration": 273,
    "start_time": "2021-12-23T17:46:30.445Z"
   },
   {
    "duration": 10,
    "start_time": "2021-12-23T17:46:30.720Z"
   },
   {
    "duration": 259,
    "start_time": "2021-12-23T17:46:30.732Z"
   },
   {
    "duration": 374,
    "start_time": "2021-12-23T17:46:30.993Z"
   },
   {
    "duration": 237,
    "start_time": "2021-12-23T17:46:31.369Z"
   },
   {
    "duration": 12,
    "start_time": "2021-12-23T17:46:31.609Z"
   },
   {
    "duration": 11,
    "start_time": "2021-12-23T17:46:31.623Z"
   },
   {
    "duration": 190,
    "start_time": "2021-12-23T17:46:31.636Z"
   },
   {
    "duration": 9,
    "start_time": "2021-12-23T17:46:31.828Z"
   },
   {
    "duration": 202,
    "start_time": "2021-12-23T17:46:31.839Z"
   },
   {
    "duration": 9,
    "start_time": "2021-12-23T17:46:32.042Z"
   },
   {
    "duration": 184,
    "start_time": "2021-12-23T17:46:32.052Z"
   },
   {
    "duration": 6,
    "start_time": "2021-12-23T17:46:32.239Z"
   },
   {
    "duration": 21,
    "start_time": "2021-12-23T17:46:32.247Z"
   },
   {
    "duration": 283,
    "start_time": "2021-12-23T17:46:32.270Z"
   },
   {
    "duration": 8,
    "start_time": "2021-12-23T17:46:32.555Z"
   },
   {
    "duration": 27,
    "start_time": "2021-12-23T17:46:32.565Z"
   },
   {
    "duration": 9,
    "start_time": "2021-12-23T17:46:32.594Z"
   },
   {
    "duration": 10,
    "start_time": "2021-12-23T17:46:32.605Z"
   },
   {
    "duration": 5,
    "start_time": "2021-12-23T17:46:32.617Z"
   },
   {
    "duration": 12,
    "start_time": "2021-12-23T17:46:32.624Z"
   },
   {
    "duration": 4699,
    "start_time": "2021-12-23T17:46:32.639Z"
   },
   {
    "duration": 5,
    "start_time": "2021-12-23T17:46:37.340Z"
   },
   {
    "duration": 11,
    "start_time": "2021-12-23T17:46:37.348Z"
   },
   {
    "duration": 1243,
    "start_time": "2021-12-23T17:46:37.361Z"
   },
   {
    "duration": 37,
    "start_time": "2021-12-23T17:46:38.606Z"
   },
   {
    "duration": 12,
    "start_time": "2021-12-23T17:46:38.645Z"
   },
   {
    "duration": 4563,
    "start_time": "2021-12-23T17:46:38.660Z"
   },
   {
    "duration": 7,
    "start_time": "2021-12-23T17:46:43.225Z"
   },
   {
    "duration": 59,
    "start_time": "2021-12-23T17:46:43.233Z"
   },
   {
    "duration": 15,
    "start_time": "2021-12-23T17:46:43.294Z"
   },
   {
    "duration": 22,
    "start_time": "2021-12-23T17:46:43.311Z"
   },
   {
    "duration": 250,
    "start_time": "2021-12-23T17:47:59.535Z"
   },
   {
    "duration": 38,
    "start_time": "2021-12-23T17:49:44.740Z"
   },
   {
    "duration": 2,
    "start_time": "2021-12-23T17:54:03.486Z"
   },
   {
    "duration": 10,
    "start_time": "2021-12-23T17:59:13.329Z"
   },
   {
    "duration": 16,
    "start_time": "2021-12-23T17:59:19.185Z"
   },
   {
    "duration": 177,
    "start_time": "2021-12-23T18:01:35.762Z"
   },
   {
    "duration": 175,
    "start_time": "2021-12-23T18:01:45.890Z"
   },
   {
    "duration": 179,
    "start_time": "2021-12-23T18:02:28.754Z"
   },
   {
    "duration": 5,
    "start_time": "2021-12-23T18:02:48.227Z"
   },
   {
    "duration": 16,
    "start_time": "2021-12-23T18:02:52.944Z"
   },
   {
    "duration": 6,
    "start_time": "2021-12-23T18:03:06.534Z"
   },
   {
    "duration": 18,
    "start_time": "2021-12-23T18:03:07.651Z"
   },
   {
    "duration": 4327,
    "start_time": "2021-12-23T18:05:52.449Z"
   },
   {
    "duration": 240,
    "start_time": "2021-12-23T18:07:47.341Z"
   },
   {
    "duration": 5,
    "start_time": "2021-12-23T18:10:59.602Z"
   },
   {
    "duration": 17,
    "start_time": "2021-12-23T18:11:01.536Z"
   },
   {
    "duration": 15,
    "start_time": "2021-12-23T18:11:17.391Z"
   },
   {
    "duration": 237,
    "start_time": "2021-12-23T18:11:29.466Z"
   },
   {
    "duration": 37,
    "start_time": "2021-12-23T18:24:46.524Z"
   },
   {
    "duration": 208,
    "start_time": "2021-12-23T18:28:42.269Z"
   },
   {
    "duration": 669,
    "start_time": "2021-12-23T18:28:58.787Z"
   },
   {
    "duration": 555,
    "start_time": "2021-12-23T18:29:36.375Z"
   },
   {
    "duration": 519,
    "start_time": "2021-12-23T18:30:07.144Z"
   },
   {
    "duration": 435,
    "start_time": "2021-12-23T18:30:13.719Z"
   },
   {
    "duration": 402,
    "start_time": "2021-12-23T18:30:21.908Z"
   },
   {
    "duration": 463,
    "start_time": "2021-12-23T18:30:26.131Z"
   },
   {
    "duration": 403,
    "start_time": "2021-12-23T18:30:32.843Z"
   },
   {
    "duration": 306,
    "start_time": "2021-12-23T18:31:47.685Z"
   },
   {
    "duration": 7,
    "start_time": "2021-12-23T18:32:52.125Z"
   },
   {
    "duration": 79001,
    "start_time": "2021-12-23T18:34:02.971Z"
   },
   {
    "duration": 172,
    "start_time": "2021-12-23T18:35:23.835Z"
   },
   {
    "duration": 321,
    "start_time": "2021-12-23T18:36:04.180Z"
   },
   {
    "duration": 6,
    "start_time": "2021-12-23T18:36:04.504Z"
   },
   {
    "duration": 4,
    "start_time": "2021-12-23T18:36:04.663Z"
   },
   {
    "duration": 1243,
    "start_time": "2021-12-23T18:36:05.215Z"
   },
   {
    "duration": 809,
    "start_time": "2021-12-23T18:36:57.737Z"
   },
   {
    "duration": 307,
    "start_time": "2021-12-23T18:37:04.258Z"
   },
   {
    "duration": 436,
    "start_time": "2021-12-23T18:37:16.182Z"
   },
   {
    "duration": 346,
    "start_time": "2021-12-23T18:37:27.517Z"
   },
   {
    "duration": 380,
    "start_time": "2021-12-23T18:37:45.573Z"
   },
   {
    "duration": 361,
    "start_time": "2021-12-23T18:38:20.865Z"
   },
   {
    "duration": 344,
    "start_time": "2021-12-23T18:38:26.038Z"
   },
   {
    "duration": 190,
    "start_time": "2021-12-23T18:40:08.545Z"
   },
   {
    "duration": 356,
    "start_time": "2021-12-23T18:40:18.622Z"
   },
   {
    "duration": 799,
    "start_time": "2021-12-23T18:40:28.291Z"
   },
   {
    "duration": 322,
    "start_time": "2021-12-23T18:40:33.550Z"
   },
   {
    "duration": 315,
    "start_time": "2021-12-23T18:40:42.182Z"
   },
   {
    "duration": 305,
    "start_time": "2021-12-23T18:40:46.449Z"
   },
   {
    "duration": 337,
    "start_time": "2021-12-23T18:41:11.889Z"
   },
   {
    "duration": 363,
    "start_time": "2021-12-23T18:41:23.222Z"
   },
   {
    "duration": 330,
    "start_time": "2021-12-23T18:41:32.132Z"
   },
   {
    "duration": 5,
    "start_time": "2021-12-23T18:42:02.082Z"
   },
   {
    "duration": 357,
    "start_time": "2021-12-23T18:42:41.443Z"
   },
   {
    "duration": 5,
    "start_time": "2021-12-23T18:42:42.129Z"
   },
   {
    "duration": 340,
    "start_time": "2021-12-23T18:44:02.621Z"
   },
   {
    "duration": 353,
    "start_time": "2021-12-23T18:44:11.975Z"
   },
   {
    "duration": 354,
    "start_time": "2021-12-23T18:44:34.330Z"
   },
   {
    "duration": 338,
    "start_time": "2021-12-23T18:44:51.221Z"
   },
   {
    "duration": 476,
    "start_time": "2021-12-23T18:45:01.488Z"
   },
   {
    "duration": 376,
    "start_time": "2021-12-23T18:45:07.411Z"
   },
   {
    "duration": 395,
    "start_time": "2021-12-23T18:45:28.500Z"
   },
   {
    "duration": 366,
    "start_time": "2021-12-23T18:45:33.894Z"
   },
   {
    "duration": 359,
    "start_time": "2021-12-23T18:46:04.461Z"
   },
   {
    "duration": 8,
    "start_time": "2021-12-23T18:46:07.726Z"
   },
   {
    "duration": 351,
    "start_time": "2021-12-23T18:46:34.272Z"
   },
   {
    "duration": 6,
    "start_time": "2021-12-23T18:46:35.538Z"
   },
   {
    "duration": 358,
    "start_time": "2021-12-23T18:47:29.807Z"
   },
   {
    "duration": 437,
    "start_time": "2021-12-23T18:47:37.344Z"
   },
   {
    "duration": 5,
    "start_time": "2021-12-23T18:47:40.329Z"
   },
   {
    "duration": 883,
    "start_time": "2021-12-24T09:07:02.219Z"
   },
   {
    "duration": 11,
    "start_time": "2021-12-24T09:07:05.528Z"
   },
   {
    "duration": 8,
    "start_time": "2021-12-24T09:07:11.510Z"
   },
   {
    "duration": 55,
    "start_time": "2021-12-24T09:07:43.972Z"
   },
   {
    "duration": 61,
    "start_time": "2021-12-24T09:08:04.725Z"
   },
   {
    "duration": 30,
    "start_time": "2021-12-24T09:08:13.039Z"
   },
   {
    "duration": 21,
    "start_time": "2021-12-24T09:08:16.990Z"
   },
   {
    "duration": 6,
    "start_time": "2021-12-24T09:08:57.373Z"
   },
   {
    "duration": 8,
    "start_time": "2021-12-24T09:09:11.354Z"
   },
   {
    "duration": 7,
    "start_time": "2021-12-24T09:09:22.457Z"
   },
   {
    "duration": 14,
    "start_time": "2021-12-24T09:09:38.572Z"
   },
   {
    "duration": 9,
    "start_time": "2021-12-24T09:09:43.562Z"
   },
   {
    "duration": 7,
    "start_time": "2021-12-24T09:09:57.281Z"
   },
   {
    "duration": 2262,
    "start_time": "2021-12-24T09:17:13.906Z"
   },
   {
    "duration": 2023,
    "start_time": "2021-12-24T09:17:29.278Z"
   },
   {
    "duration": 13,
    "start_time": "2021-12-24T09:18:54.093Z"
   },
   {
    "duration": 1873,
    "start_time": "2021-12-24T09:18:55.754Z"
   },
   {
    "duration": 5,
    "start_time": "2021-12-24T09:25:35.374Z"
   },
   {
    "duration": 7,
    "start_time": "2021-12-24T09:25:54.405Z"
   },
   {
    "duration": 11,
    "start_time": "2021-12-24T09:26:02.125Z"
   },
   {
    "duration": 9,
    "start_time": "2021-12-24T09:26:09.954Z"
   },
   {
    "duration": 213,
    "start_time": "2021-12-24T09:35:15.502Z"
   },
   {
    "duration": 9,
    "start_time": "2021-12-24T09:35:24.713Z"
   },
   {
    "duration": 131,
    "start_time": "2021-12-24T09:35:44.841Z"
   },
   {
    "duration": 9,
    "start_time": "2021-12-24T09:35:45.787Z"
   },
   {
    "duration": 7,
    "start_time": "2021-12-24T09:35:54.278Z"
   },
   {
    "duration": 134,
    "start_time": "2021-12-24T09:40:00.642Z"
   },
   {
    "duration": 8,
    "start_time": "2021-12-24T09:40:05.701Z"
   },
   {
    "duration": 1586,
    "start_time": "2021-12-24T09:40:08.494Z"
   },
   {
    "duration": 1473,
    "start_time": "2021-12-24T09:40:44.584Z"
   },
   {
    "duration": 110,
    "start_time": "2021-12-24T09:41:00.165Z"
   },
   {
    "duration": 9,
    "start_time": "2021-12-24T09:41:00.277Z"
   },
   {
    "duration": 8,
    "start_time": "2021-12-24T09:41:00.288Z"
   },
   {
    "duration": 76,
    "start_time": "2021-12-24T09:41:00.297Z"
   },
   {
    "duration": 67,
    "start_time": "2021-12-24T09:41:00.375Z"
   },
   {
    "duration": 27,
    "start_time": "2021-12-24T09:41:00.443Z"
   },
   {
    "duration": 7,
    "start_time": "2021-12-24T09:41:00.472Z"
   },
   {
    "duration": 20,
    "start_time": "2021-12-24T09:41:00.482Z"
   },
   {
    "duration": 26,
    "start_time": "2021-12-24T09:41:00.504Z"
   },
   {
    "duration": 29,
    "start_time": "2021-12-24T09:41:00.532Z"
   },
   {
    "duration": 9,
    "start_time": "2021-12-24T09:41:00.562Z"
   },
   {
    "duration": 20,
    "start_time": "2021-12-24T09:41:00.572Z"
   },
   {
    "duration": 134,
    "start_time": "2021-12-24T09:41:00.593Z"
   },
   {
    "duration": 8,
    "start_time": "2021-12-24T09:41:00.729Z"
   },
   {
    "duration": 1510,
    "start_time": "2021-12-24T09:41:00.738Z"
   },
   {
    "duration": 1445,
    "start_time": "2021-12-24T09:41:11.269Z"
   },
   {
    "duration": 2,
    "start_time": "2021-12-24T09:41:34.260Z"
   },
   {
    "duration": 336,
    "start_time": "2021-12-24T09:45:48.885Z"
   },
   {
    "duration": 248,
    "start_time": "2021-12-24T09:45:58.656Z"
   },
   {
    "duration": 17,
    "start_time": "2021-12-24T09:46:40.287Z"
   },
   {
    "duration": 3,
    "start_time": "2021-12-24T09:46:53.691Z"
   },
   {
    "duration": 17,
    "start_time": "2021-12-24T09:46:56.904Z"
   },
   {
    "duration": 83,
    "start_time": "2021-12-24T09:47:12.794Z"
   },
   {
    "duration": 1644,
    "start_time": "2021-12-24T09:48:34.257Z"
   },
   {
    "duration": 86,
    "start_time": "2021-12-24T09:55:27.088Z"
   },
   {
    "duration": 10194,
    "start_time": "2021-12-24T09:55:39.815Z"
   },
   {
    "duration": 5,
    "start_time": "2021-12-24T09:56:59.394Z"
   },
   {
    "duration": 11248,
    "start_time": "2021-12-24T09:57:27.416Z"
   },
   {
    "duration": 9343,
    "start_time": "2021-12-24T09:57:42.211Z"
   },
   {
    "duration": 5,
    "start_time": "2021-12-24T09:58:01.571Z"
   },
   {
    "duration": 5,
    "start_time": "2021-12-24T09:58:39.256Z"
   },
   {
    "duration": 93,
    "start_time": "2021-12-24T09:59:51.754Z"
   },
   {
    "duration": 99,
    "start_time": "2021-12-24T10:00:13.309Z"
   },
   {
    "duration": 157,
    "start_time": "2021-12-24T10:00:33.190Z"
   },
   {
    "duration": 10043,
    "start_time": "2021-12-24T10:00:50.731Z"
   },
   {
    "duration": 10294,
    "start_time": "2021-12-24T10:01:03.833Z"
   },
   {
    "duration": 9388,
    "start_time": "2021-12-24T10:01:58.177Z"
   },
   {
    "duration": 9952,
    "start_time": "2021-12-24T10:04:41.498Z"
   },
   {
    "duration": 114,
    "start_time": "2021-12-24T10:27:53.903Z"
   },
   {
    "duration": 11,
    "start_time": "2021-12-24T10:27:54.019Z"
   },
   {
    "duration": 17,
    "start_time": "2021-12-24T10:27:54.032Z"
   },
   {
    "duration": 57,
    "start_time": "2021-12-24T10:27:54.051Z"
   },
   {
    "duration": 80,
    "start_time": "2021-12-24T10:27:54.110Z"
   },
   {
    "duration": 19,
    "start_time": "2021-12-24T10:27:54.191Z"
   },
   {
    "duration": 9,
    "start_time": "2021-12-24T10:27:54.212Z"
   },
   {
    "duration": 30,
    "start_time": "2021-12-24T10:27:54.224Z"
   },
   {
    "duration": 8,
    "start_time": "2021-12-24T10:27:54.256Z"
   },
   {
    "duration": 15,
    "start_time": "2021-12-24T10:27:54.266Z"
   },
   {
    "duration": 8,
    "start_time": "2021-12-24T10:27:54.282Z"
   },
   {
    "duration": 7,
    "start_time": "2021-12-24T10:27:54.291Z"
   },
   {
    "duration": 158,
    "start_time": "2021-12-24T10:27:54.299Z"
   },
   {
    "duration": 2,
    "start_time": "2021-12-24T10:27:54.459Z"
   },
   {
    "duration": 1458,
    "start_time": "2021-12-24T10:27:54.462Z"
   },
   {
    "duration": 1407,
    "start_time": "2021-12-24T10:27:55.922Z"
   },
   {
    "duration": 9147,
    "start_time": "2021-12-24T10:27:57.331Z"
   },
   {
    "duration": 6,
    "start_time": "2021-12-24T10:28:06.480Z"
   },
   {
    "duration": 6,
    "start_time": "2021-12-24T10:28:06.488Z"
   },
   {
    "duration": 8,
    "start_time": "2021-12-24T10:28:06.496Z"
   },
   {
    "duration": 6,
    "start_time": "2021-12-24T10:28:06.506Z"
   },
   {
    "duration": 35,
    "start_time": "2021-12-24T10:28:06.514Z"
   },
   {
    "duration": 8,
    "start_time": "2021-12-24T10:28:06.558Z"
   },
   {
    "duration": 344,
    "start_time": "2021-12-24T10:28:06.568Z"
   },
   {
    "duration": 7,
    "start_time": "2021-12-24T10:28:06.914Z"
   },
   {
    "duration": 8,
    "start_time": "2021-12-24T10:28:11.468Z"
   },
   {
    "duration": 9,
    "start_time": "2021-12-24T10:29:58.199Z"
   },
   {
    "duration": 7,
    "start_time": "2021-12-24T10:32:20.675Z"
   },
   {
    "duration": 5,
    "start_time": "2021-12-24T10:32:30.896Z"
   },
   {
    "duration": 12,
    "start_time": "2021-12-24T10:32:43.659Z"
   },
   {
    "duration": 6,
    "start_time": "2021-12-24T10:33:35.200Z"
   },
   {
    "duration": 6,
    "start_time": "2021-12-24T10:35:19.775Z"
   },
   {
    "duration": 8,
    "start_time": "2021-12-24T10:35:41.414Z"
   },
   {
    "duration": 12,
    "start_time": "2021-12-24T10:35:42.093Z"
   },
   {
    "duration": 633,
    "start_time": "2021-12-24T10:36:18.312Z"
   },
   {
    "duration": 5,
    "start_time": "2021-12-24T10:36:19.034Z"
   },
   {
    "duration": 28,
    "start_time": "2021-12-24T10:36:31.047Z"
   },
   {
    "duration": 23,
    "start_time": "2021-12-24T10:36:33.927Z"
   },
   {
    "duration": 3,
    "start_time": "2021-12-24T10:42:26.832Z"
   },
   {
    "duration": 807,
    "start_time": "2021-12-24T10:45:59.318Z"
   },
   {
    "duration": 831,
    "start_time": "2021-12-24T10:46:37.389Z"
   },
   {
    "duration": 846,
    "start_time": "2021-12-24T10:47:41.571Z"
   },
   {
    "duration": 794,
    "start_time": "2021-12-24T10:48:19.888Z"
   },
   {
    "duration": 878,
    "start_time": "2021-12-24T10:48:30.158Z"
   },
   {
    "duration": 925,
    "start_time": "2021-12-24T10:49:14.854Z"
   },
   {
    "duration": 818,
    "start_time": "2021-12-24T10:49:27.605Z"
   },
   {
    "duration": 836,
    "start_time": "2021-12-24T10:49:56.996Z"
   },
   {
    "duration": 902,
    "start_time": "2021-12-24T10:50:12.227Z"
   },
   {
    "duration": 804,
    "start_time": "2021-12-24T10:50:31.939Z"
   },
   {
    "duration": 11,
    "start_time": "2021-12-24T10:53:50.158Z"
   },
   {
    "duration": 9270,
    "start_time": "2021-12-24T12:32:50.156Z"
   },
   {
    "duration": 90,
    "start_time": "2021-12-24T12:33:05.832Z"
   },
   {
    "duration": 21,
    "start_time": "2021-12-24T12:33:05.925Z"
   },
   {
    "duration": 9,
    "start_time": "2021-12-24T12:33:05.949Z"
   },
   {
    "duration": 64,
    "start_time": "2021-12-24T12:33:05.961Z"
   },
   {
    "duration": 67,
    "start_time": "2021-12-24T12:33:06.026Z"
   },
   {
    "duration": 19,
    "start_time": "2021-12-24T12:33:06.095Z"
   },
   {
    "duration": 30,
    "start_time": "2021-12-24T12:33:06.116Z"
   },
   {
    "duration": 38,
    "start_time": "2021-12-24T12:33:06.153Z"
   },
   {
    "duration": 10,
    "start_time": "2021-12-24T12:33:06.193Z"
   },
   {
    "duration": 26,
    "start_time": "2021-12-24T12:33:06.205Z"
   },
   {
    "duration": 34,
    "start_time": "2021-12-24T12:33:06.232Z"
   },
   {
    "duration": 6,
    "start_time": "2021-12-24T12:33:06.268Z"
   },
   {
    "duration": 128,
    "start_time": "2021-12-24T12:33:06.275Z"
   },
   {
    "duration": 3,
    "start_time": "2021-12-24T12:33:06.404Z"
   },
   {
    "duration": 1476,
    "start_time": "2021-12-24T12:33:06.408Z"
   },
   {
    "duration": 1517,
    "start_time": "2021-12-24T12:33:07.886Z"
   },
   {
    "duration": 1652,
    "start_time": "2021-12-24T12:33:13.008Z"
   },
   {
    "duration": 10310,
    "start_time": "2021-12-24T12:33:14.663Z"
   },
   {
    "duration": 18,
    "start_time": "2021-12-24T12:34:40.680Z"
   },
   {
    "duration": 8681,
    "start_time": "2021-12-24T12:39:04.857Z"
   },
   {
    "duration": 22,
    "start_time": "2021-12-24T12:39:13.540Z"
   },
   {
    "duration": 11,
    "start_time": "2021-12-24T12:39:30.319Z"
   },
   {
    "duration": 10,
    "start_time": "2021-12-24T12:39:44.658Z"
   },
   {
    "duration": 4,
    "start_time": "2021-12-24T12:40:04.369Z"
   },
   {
    "duration": 13,
    "start_time": "2021-12-24T12:40:05.027Z"
   },
   {
    "duration": 639,
    "start_time": "2021-12-24T12:40:06.707Z"
   },
   {
    "duration": 6,
    "start_time": "2021-12-24T12:40:07.489Z"
   },
   {
    "duration": 26,
    "start_time": "2021-12-24T12:40:08.129Z"
   },
   {
    "duration": 2,
    "start_time": "2021-12-24T12:40:11.226Z"
   },
   {
    "duration": 20,
    "start_time": "2021-12-24T12:41:33.053Z"
   },
   {
    "duration": 17,
    "start_time": "2021-12-24T12:41:43.600Z"
   },
   {
    "duration": 17,
    "start_time": "2021-12-24T12:44:37.291Z"
   },
   {
    "duration": 7,
    "start_time": "2021-12-24T12:52:01.578Z"
   },
   {
    "duration": 6,
    "start_time": "2021-12-24T12:54:28.790Z"
   },
   {
    "duration": 3,
    "start_time": "2021-12-24T14:06:49.383Z"
   },
   {
    "duration": 2,
    "start_time": "2021-12-24T14:06:59.500Z"
   },
   {
    "duration": 3,
    "start_time": "2021-12-24T14:07:02.812Z"
   },
   {
    "duration": 3,
    "start_time": "2021-12-24T14:07:06.320Z"
   },
   {
    "duration": 10,
    "start_time": "2021-12-24T14:08:20.369Z"
   },
   {
    "duration": 9,
    "start_time": "2021-12-24T14:09:08.033Z"
   },
   {
    "duration": 13,
    "start_time": "2021-12-24T14:10:20.790Z"
   },
   {
    "duration": 26,
    "start_time": "2021-12-24T14:12:17.255Z"
   },
   {
    "duration": 729,
    "start_time": "2021-12-24T14:17:38.142Z"
   },
   {
    "duration": 659,
    "start_time": "2021-12-24T14:17:52.568Z"
   },
   {
    "duration": 679,
    "start_time": "2021-12-24T14:18:33.496Z"
   },
   {
    "duration": 27,
    "start_time": "2021-12-24T14:18:53.006Z"
   },
   {
    "duration": 5,
    "start_time": "2021-12-24T14:19:18.310Z"
   },
   {
    "duration": 5,
    "start_time": "2021-12-24T14:19:33.319Z"
   },
   {
    "duration": 6,
    "start_time": "2021-12-24T14:19:37.998Z"
   },
   {
    "duration": 24,
    "start_time": "2021-12-24T14:20:19.699Z"
   },
   {
    "duration": 5,
    "start_time": "2021-12-24T14:20:20.299Z"
   },
   {
    "duration": 96,
    "start_time": "2021-12-24T14:20:42.132Z"
   },
   {
    "duration": 80,
    "start_time": "2021-12-24T14:20:42.230Z"
   },
   {
    "duration": 7,
    "start_time": "2021-12-24T14:20:42.312Z"
   },
   {
    "duration": 73,
    "start_time": "2021-12-24T14:20:42.320Z"
   },
   {
    "duration": 66,
    "start_time": "2021-12-24T14:20:42.395Z"
   },
   {
    "duration": 20,
    "start_time": "2021-12-24T14:20:42.463Z"
   },
   {
    "duration": 7,
    "start_time": "2021-12-24T14:20:42.484Z"
   },
   {
    "duration": 9,
    "start_time": "2021-12-24T14:20:42.492Z"
   },
   {
    "duration": 5,
    "start_time": "2021-12-24T14:20:42.504Z"
   },
   {
    "duration": 45,
    "start_time": "2021-12-24T14:20:42.511Z"
   },
   {
    "duration": 8,
    "start_time": "2021-12-24T14:20:42.558Z"
   },
   {
    "duration": 9,
    "start_time": "2021-12-24T14:20:42.568Z"
   },
   {
    "duration": 152,
    "start_time": "2021-12-24T14:20:42.579Z"
   },
   {
    "duration": 2,
    "start_time": "2021-12-24T14:20:42.733Z"
   },
   {
    "duration": 8975,
    "start_time": "2021-12-24T14:20:42.737Z"
   },
   {
    "duration": 18,
    "start_time": "2021-12-24T14:20:51.714Z"
   },
   {
    "duration": 332,
    "start_time": "2021-12-24T14:20:51.734Z"
   },
   {
    "duration": 10,
    "start_time": "2021-12-24T14:20:52.068Z"
   },
   {
    "duration": 16,
    "start_time": "2021-12-24T14:20:52.081Z"
   },
   {
    "duration": 8,
    "start_time": "2021-12-24T14:20:52.098Z"
   },
   {
    "duration": 17,
    "start_time": "2021-12-24T14:20:52.108Z"
   },
   {
    "duration": 935,
    "start_time": "2021-12-24T14:20:52.127Z"
   },
   {
    "duration": 5,
    "start_time": "2021-12-24T14:20:53.064Z"
   },
   {
    "duration": 23,
    "start_time": "2021-12-24T14:20:53.071Z"
   },
   {
    "duration": 3,
    "start_time": "2021-12-24T14:20:53.095Z"
   },
   {
    "duration": 964,
    "start_time": "2021-12-24T14:20:53.099Z"
   },
   {
    "duration": 20,
    "start_time": "2021-12-24T14:20:54.066Z"
   },
   {
    "duration": 296,
    "start_time": "2021-12-24T14:20:54.088Z"
   },
   {
    "duration": 181,
    "start_time": "2021-12-24T14:20:54.386Z"
   },
   {
    "duration": 8,
    "start_time": "2021-12-24T14:20:54.569Z"
   },
   {
    "duration": 793,
    "start_time": "2021-12-24T14:20:54.579Z"
   },
   {
    "duration": 24,
    "start_time": "2021-12-24T14:20:55.374Z"
   },
   {
    "duration": 12,
    "start_time": "2021-12-24T14:21:12.171Z"
   },
   {
    "duration": 5,
    "start_time": "2021-12-24T14:21:12.454Z"
   },
   {
    "duration": 12,
    "start_time": "2021-12-24T14:22:13.840Z"
   },
   {
    "duration": 7,
    "start_time": "2021-12-24T14:22:28.104Z"
   },
   {
    "duration": 10,
    "start_time": "2021-12-24T14:23:26.354Z"
   },
   {
    "duration": 18,
    "start_time": "2021-12-24T14:23:43.040Z"
   },
   {
    "duration": 6,
    "start_time": "2021-12-24T14:23:55.534Z"
   },
   {
    "duration": 87,
    "start_time": "2021-12-24T14:24:16.412Z"
   },
   {
    "duration": 9,
    "start_time": "2021-12-24T14:24:16.501Z"
   },
   {
    "duration": 7,
    "start_time": "2021-12-24T14:24:16.512Z"
   },
   {
    "duration": 77,
    "start_time": "2021-12-24T14:24:16.546Z"
   },
   {
    "duration": 66,
    "start_time": "2021-12-24T14:24:16.625Z"
   },
   {
    "duration": 19,
    "start_time": "2021-12-24T14:24:16.692Z"
   },
   {
    "duration": 6,
    "start_time": "2021-12-24T14:24:16.713Z"
   },
   {
    "duration": 33,
    "start_time": "2021-12-24T14:24:16.721Z"
   },
   {
    "duration": 10,
    "start_time": "2021-12-24T14:24:16.756Z"
   },
   {
    "duration": 15,
    "start_time": "2021-12-24T14:24:16.768Z"
   },
   {
    "duration": 7,
    "start_time": "2021-12-24T14:24:16.784Z"
   },
   {
    "duration": 6,
    "start_time": "2021-12-24T14:24:16.793Z"
   },
   {
    "duration": 156,
    "start_time": "2021-12-24T14:24:16.801Z"
   },
   {
    "duration": 2,
    "start_time": "2021-12-24T14:24:16.959Z"
   },
   {
    "duration": 9094,
    "start_time": "2021-12-24T14:24:16.964Z"
   },
   {
    "duration": 16,
    "start_time": "2021-12-24T14:24:26.060Z"
   },
   {
    "duration": 298,
    "start_time": "2021-12-24T14:24:26.078Z"
   },
   {
    "duration": 8,
    "start_time": "2021-12-24T14:24:26.378Z"
   },
   {
    "duration": 7,
    "start_time": "2021-12-24T14:24:26.387Z"
   },
   {
    "duration": 3,
    "start_time": "2021-12-24T14:24:26.395Z"
   },
   {
    "duration": 14,
    "start_time": "2021-12-24T14:24:26.400Z"
   },
   {
    "duration": 614,
    "start_time": "2021-12-24T14:24:26.416Z"
   },
   {
    "duration": 10,
    "start_time": "2021-12-24T14:24:27.033Z"
   },
   {
    "duration": 29,
    "start_time": "2021-12-24T14:24:27.049Z"
   },
   {
    "duration": 5,
    "start_time": "2021-12-24T14:24:27.080Z"
   },
   {
    "duration": 818,
    "start_time": "2021-12-24T14:24:27.087Z"
   },
   {
    "duration": 17,
    "start_time": "2021-12-24T14:24:27.906Z"
   },
   {
    "duration": 367,
    "start_time": "2021-12-24T14:24:27.925Z"
   },
   {
    "duration": 177,
    "start_time": "2021-12-24T14:24:28.294Z"
   },
   {
    "duration": 10,
    "start_time": "2021-12-24T14:24:28.474Z"
   },
   {
    "duration": 657,
    "start_time": "2021-12-24T14:24:28.486Z"
   },
   {
    "duration": 25,
    "start_time": "2021-12-24T14:24:29.145Z"
   },
   {
    "duration": 12,
    "start_time": "2021-12-24T14:24:41.620Z"
   },
   {
    "duration": 7,
    "start_time": "2021-12-24T14:24:42.794Z"
   },
   {
    "duration": 92,
    "start_time": "2021-12-24T14:24:56.579Z"
   },
   {
    "duration": 12,
    "start_time": "2021-12-24T14:25:00.054Z"
   },
   {
    "duration": 9,
    "start_time": "2021-12-24T14:25:03.532Z"
   },
   {
    "duration": 60,
    "start_time": "2021-12-24T14:25:05.034Z"
   },
   {
    "duration": 56,
    "start_time": "2021-12-24T14:25:06.375Z"
   },
   {
    "duration": 21,
    "start_time": "2021-12-24T14:25:07.508Z"
   },
   {
    "duration": 7,
    "start_time": "2021-12-24T14:25:08.720Z"
   },
   {
    "duration": 8,
    "start_time": "2021-12-24T14:25:09.789Z"
   },
   {
    "duration": 6,
    "start_time": "2021-12-24T14:25:10.965Z"
   },
   {
    "duration": 14,
    "start_time": "2021-12-24T14:25:11.732Z"
   },
   {
    "duration": 8,
    "start_time": "2021-12-24T14:25:12.667Z"
   },
   {
    "duration": 6,
    "start_time": "2021-12-24T14:25:14.016Z"
   },
   {
    "duration": 146,
    "start_time": "2021-12-24T14:25:15.523Z"
   },
   {
    "duration": 3,
    "start_time": "2021-12-24T14:25:16.777Z"
   },
   {
    "duration": 8836,
    "start_time": "2021-12-24T14:25:21.436Z"
   },
   {
    "duration": 20,
    "start_time": "2021-12-24T14:25:32.824Z"
   },
   {
    "duration": 280,
    "start_time": "2021-12-24T14:25:35.765Z"
   },
   {
    "duration": 9,
    "start_time": "2021-12-24T14:25:37.717Z"
   },
   {
    "duration": 7,
    "start_time": "2021-12-24T14:25:39.103Z"
   },
   {
    "duration": 4,
    "start_time": "2021-12-24T14:25:41.198Z"
   },
   {
    "duration": 11,
    "start_time": "2021-12-24T14:25:42.210Z"
   },
   {
    "duration": 578,
    "start_time": "2021-12-24T14:25:42.993Z"
   },
   {
    "duration": 6,
    "start_time": "2021-12-24T14:25:43.796Z"
   },
   {
    "duration": 22,
    "start_time": "2021-12-24T14:25:44.555Z"
   },
   {
    "duration": 3,
    "start_time": "2021-12-24T14:25:46.034Z"
   },
   {
    "duration": 923,
    "start_time": "2021-12-24T14:25:46.456Z"
   },
   {
    "duration": 22,
    "start_time": "2021-12-24T14:25:47.381Z"
   },
   {
    "duration": 274,
    "start_time": "2021-12-24T14:25:51.664Z"
   },
   {
    "duration": 173,
    "start_time": "2021-12-24T14:25:52.939Z"
   },
   {
    "duration": 9,
    "start_time": "2021-12-24T14:25:55.612Z"
   },
   {
    "duration": 631,
    "start_time": "2021-12-24T14:26:18.242Z"
   },
   {
    "duration": 28,
    "start_time": "2021-12-24T14:26:33.541Z"
   },
   {
    "duration": 7,
    "start_time": "2021-12-24T14:26:34.807Z"
   },
   {
    "duration": 9,
    "start_time": "2021-12-24T14:26:49.319Z"
   },
   {
    "duration": 8,
    "start_time": "2021-12-24T14:26:59.168Z"
   },
   {
    "duration": 14,
    "start_time": "2021-12-24T14:27:36.101Z"
   },
   {
    "duration": 9,
    "start_time": "2021-12-24T14:27:37.119Z"
   },
   {
    "duration": 10,
    "start_time": "2021-12-24T14:27:44.494Z"
   },
   {
    "duration": 14,
    "start_time": "2021-12-24T14:27:46.916Z"
   },
   {
    "duration": 7,
    "start_time": "2021-12-24T14:27:47.481Z"
   },
   {
    "duration": 92,
    "start_time": "2021-12-24T14:28:02.978Z"
   },
   {
    "duration": 10,
    "start_time": "2021-12-24T14:28:03.072Z"
   },
   {
    "duration": 14,
    "start_time": "2021-12-24T14:28:03.084Z"
   },
   {
    "duration": 70,
    "start_time": "2021-12-24T14:28:03.100Z"
   },
   {
    "duration": 57,
    "start_time": "2021-12-24T14:28:03.171Z"
   },
   {
    "duration": 36,
    "start_time": "2021-12-24T14:28:03.230Z"
   },
   {
    "duration": 21,
    "start_time": "2021-12-24T14:28:03.268Z"
   },
   {
    "duration": 14,
    "start_time": "2021-12-24T14:28:03.292Z"
   },
   {
    "duration": 6,
    "start_time": "2021-12-24T14:28:03.308Z"
   },
   {
    "duration": 22,
    "start_time": "2021-12-24T14:28:03.316Z"
   },
   {
    "duration": 19,
    "start_time": "2021-12-24T14:28:03.339Z"
   },
   {
    "duration": 16,
    "start_time": "2021-12-24T14:28:03.360Z"
   },
   {
    "duration": 153,
    "start_time": "2021-12-24T14:28:03.378Z"
   },
   {
    "duration": 8740,
    "start_time": "2021-12-24T14:28:03.533Z"
   },
   {
    "duration": 19,
    "start_time": "2021-12-24T14:28:12.274Z"
   },
   {
    "duration": 315,
    "start_time": "2021-12-24T14:28:12.295Z"
   },
   {
    "duration": 9,
    "start_time": "2021-12-24T14:28:12.612Z"
   },
   {
    "duration": 21,
    "start_time": "2021-12-24T14:28:12.623Z"
   },
   {
    "duration": 17,
    "start_time": "2021-12-24T14:28:12.646Z"
   },
   {
    "duration": 18,
    "start_time": "2021-12-24T14:28:12.665Z"
   },
   {
    "duration": 691,
    "start_time": "2021-12-24T14:28:12.685Z"
   },
   {
    "duration": 7,
    "start_time": "2021-12-24T14:28:13.377Z"
   },
   {
    "duration": 23,
    "start_time": "2021-12-24T14:28:13.388Z"
   },
   {
    "duration": 4,
    "start_time": "2021-12-24T14:28:13.413Z"
   },
   {
    "duration": 875,
    "start_time": "2021-12-24T14:28:13.418Z"
   },
   {
    "duration": 21,
    "start_time": "2021-12-24T14:28:14.295Z"
   },
   {
    "duration": 315,
    "start_time": "2021-12-24T14:28:14.317Z"
   },
   {
    "duration": 182,
    "start_time": "2021-12-24T14:28:14.633Z"
   },
   {
    "duration": 9,
    "start_time": "2021-12-24T14:28:14.816Z"
   },
   {
    "duration": 833,
    "start_time": "2021-12-24T14:28:14.826Z"
   },
   {
    "duration": 22,
    "start_time": "2021-12-24T14:28:15.661Z"
   },
   {
    "duration": 28,
    "start_time": "2021-12-24T14:28:15.685Z"
   },
   {
    "duration": 24,
    "start_time": "2021-12-24T14:28:18.629Z"
   },
   {
    "duration": 28,
    "start_time": "2021-12-24T14:28:20.114Z"
   },
   {
    "duration": 18,
    "start_time": "2021-12-24T14:32:44.156Z"
   },
   {
    "duration": 9,
    "start_time": "2021-12-24T14:37:28.854Z"
   },
   {
    "duration": 9,
    "start_time": "2021-12-24T14:38:07.315Z"
   },
   {
    "duration": 8,
    "start_time": "2021-12-24T14:38:38.626Z"
   },
   {
    "duration": 20,
    "start_time": "2021-12-24T14:40:09.814Z"
   },
   {
    "duration": 10,
    "start_time": "2021-12-24T14:40:32.175Z"
   },
   {
    "duration": 10,
    "start_time": "2021-12-24T14:49:10.190Z"
   },
   {
    "duration": 11,
    "start_time": "2021-12-24T14:51:50.056Z"
   },
   {
    "duration": 5121,
    "start_time": "2021-12-24T14:52:06.174Z"
   },
   {
    "duration": 899,
    "start_time": "2021-12-25T09:36:27.032Z"
   },
   {
    "duration": 15,
    "start_time": "2021-12-25T09:36:27.933Z"
   },
   {
    "duration": 11,
    "start_time": "2021-12-25T09:36:27.952Z"
   },
   {
    "duration": 121,
    "start_time": "2021-12-25T09:36:27.966Z"
   },
   {
    "duration": 135,
    "start_time": "2021-12-25T09:36:28.090Z"
   },
   {
    "duration": 33,
    "start_time": "2021-12-25T09:36:28.227Z"
   },
   {
    "duration": 10,
    "start_time": "2021-12-25T09:36:28.262Z"
   },
   {
    "duration": 11,
    "start_time": "2021-12-25T09:36:28.275Z"
   },
   {
    "duration": 9,
    "start_time": "2021-12-25T09:36:28.289Z"
   },
   {
    "duration": 35,
    "start_time": "2021-12-25T09:36:28.300Z"
   },
   {
    "duration": 12,
    "start_time": "2021-12-25T09:36:28.338Z"
   },
   {
    "duration": 9,
    "start_time": "2021-12-25T09:36:28.352Z"
   },
   {
    "duration": 237,
    "start_time": "2021-12-25T09:36:28.364Z"
   },
   {
    "duration": 13270,
    "start_time": "2021-12-25T09:36:28.603Z"
   },
   {
    "duration": 49,
    "start_time": "2021-12-25T09:36:41.876Z"
   },
   {
    "duration": 633,
    "start_time": "2021-12-25T09:36:41.928Z"
   },
   {
    "duration": 10,
    "start_time": "2021-12-25T09:36:42.563Z"
   },
   {
    "duration": 9,
    "start_time": "2021-12-25T09:36:42.575Z"
   },
   {
    "duration": 31,
    "start_time": "2021-12-25T09:36:42.586Z"
   },
   {
    "duration": 18,
    "start_time": "2021-12-25T09:36:42.619Z"
   },
   {
    "duration": 993,
    "start_time": "2021-12-25T09:36:42.639Z"
   },
   {
    "duration": 6,
    "start_time": "2021-12-25T09:36:43.634Z"
   },
   {
    "duration": 38,
    "start_time": "2021-12-25T09:36:43.645Z"
   },
   {
    "duration": 3,
    "start_time": "2021-12-25T09:36:43.686Z"
   },
   {
    "duration": 1364,
    "start_time": "2021-12-25T09:36:43.717Z"
   },
   {
    "duration": 39,
    "start_time": "2021-12-25T09:36:45.084Z"
   },
   {
    "duration": 484,
    "start_time": "2021-12-25T09:36:45.126Z"
   },
   {
    "duration": 294,
    "start_time": "2021-12-25T09:36:45.612Z"
   },
   {
    "duration": 17,
    "start_time": "2021-12-25T09:36:45.909Z"
   },
   {
    "duration": 1128,
    "start_time": "2021-12-25T09:36:45.928Z"
   },
   {
    "duration": 8,
    "start_time": "2021-12-25T09:37:16.433Z"
   },
   {
    "duration": 8,
    "start_time": "2021-12-25T09:37:23.116Z"
   },
   {
    "duration": 7,
    "start_time": "2021-12-25T09:37:39.412Z"
   },
   {
    "duration": 1074,
    "start_time": "2021-12-25T09:39:34.395Z"
   },
   {
    "duration": 34,
    "start_time": "2021-12-25T09:39:55.194Z"
   },
   {
    "duration": 34,
    "start_time": "2021-12-25T09:39:55.592Z"
   },
   {
    "duration": 13,
    "start_time": "2021-12-25T09:40:02.934Z"
   },
   {
    "duration": 15,
    "start_time": "2021-12-25T09:50:25.930Z"
   },
   {
    "duration": 32,
    "start_time": "2021-12-25T09:53:25.001Z"
   },
   {
    "duration": 36,
    "start_time": "2021-12-25T09:53:26.335Z"
   },
   {
    "duration": 14,
    "start_time": "2021-12-25T09:53:27.913Z"
   },
   {
    "duration": 40,
    "start_time": "2021-12-25T09:53:41.847Z"
   },
   {
    "duration": 11,
    "start_time": "2021-12-25T09:53:42.555Z"
   },
   {
    "duration": 1687,
    "start_time": "2021-12-25T09:53:54.477Z"
   },
   {
    "duration": -816,
    "start_time": "2021-12-25T09:53:56.982Z"
   },
   {
    "duration": 13,
    "start_time": "2021-12-25T09:53:56.275Z"
   },
   {
    "duration": 1600,
    "start_time": "2021-12-25T09:56:13.967Z"
   },
   {
    "duration": 34,
    "start_time": "2021-12-25T09:56:39.910Z"
   },
   {
    "duration": 34,
    "start_time": "2021-12-25T09:56:40.245Z"
   },
   {
    "duration": 14,
    "start_time": "2021-12-25T09:56:40.822Z"
   },
   {
    "duration": 13,
    "start_time": "2021-12-25T09:56:56.633Z"
   },
   {
    "duration": 14,
    "start_time": "2021-12-25T09:58:10.445Z"
   },
   {
    "duration": 5312,
    "start_time": "2021-12-25T09:58:11.574Z"
   },
   {
    "duration": 251,
    "start_time": "2021-12-25T09:58:16.888Z"
   },
   {
    "duration": 5,
    "start_time": "2021-12-25T09:58:29.395Z"
   },
   {
    "duration": 393,
    "start_time": "2021-12-25T10:00:51.313Z"
   },
   {
    "duration": 290,
    "start_time": "2021-12-25T10:01:13.750Z"
   },
   {
    "duration": 488,
    "start_time": "2021-12-25T10:01:25.775Z"
   },
   {
    "duration": 346,
    "start_time": "2021-12-25T10:01:31.948Z"
   },
   {
    "duration": 709,
    "start_time": "2021-12-25T10:14:21.261Z"
   },
   {
    "duration": 92,
    "start_time": "2021-12-25T10:14:48.250Z"
   },
   {
    "duration": 555,
    "start_time": "2021-12-25T10:14:53.974Z"
   },
   {
    "duration": 531,
    "start_time": "2021-12-25T10:15:44.462Z"
   },
   {
    "duration": 635,
    "start_time": "2021-12-25T10:15:51.086Z"
   },
   {
    "duration": 4,
    "start_time": "2021-12-25T10:16:21.854Z"
   },
   {
    "duration": 346,
    "start_time": "2021-12-25T10:16:32.547Z"
   },
   {
    "duration": 14,
    "start_time": "2021-12-25T10:17:03.339Z"
   },
   {
    "duration": 5819,
    "start_time": "2021-12-25T10:17:04.319Z"
   },
   {
    "duration": 9,
    "start_time": "2021-12-25T10:17:53.795Z"
   },
   {
    "duration": 7,
    "start_time": "2021-12-25T10:18:31.813Z"
   },
   {
    "duration": 16,
    "start_time": "2021-12-25T10:19:53.753Z"
   },
   {
    "duration": 448,
    "start_time": "2021-12-25T10:19:54.607Z"
   },
   {
    "duration": 354,
    "start_time": "2021-12-25T10:20:05.593Z"
   },
   {
    "duration": 15,
    "start_time": "2021-12-25T10:20:06.489Z"
   },
   {
    "duration": 257,
    "start_time": "2021-12-25T10:20:07.868Z"
   },
   {
    "duration": 599,
    "start_time": "2021-12-25T10:22:30.404Z"
   },
   {
    "duration": 663,
    "start_time": "2021-12-25T10:22:45.862Z"
   },
   {
    "duration": 264,
    "start_time": "2021-12-25T10:30:58.233Z"
   },
   {
    "duration": 268,
    "start_time": "2021-12-25T10:31:11.582Z"
   },
   {
    "duration": 7,
    "start_time": "2021-12-25T10:31:19.005Z"
   },
   {
    "duration": 266,
    "start_time": "2021-12-25T10:35:56.908Z"
   },
   {
    "duration": 13,
    "start_time": "2021-12-25T10:36:11.235Z"
   },
   {
    "duration": 20,
    "start_time": "2021-12-25T10:36:11.869Z"
   },
   {
    "duration": 57,
    "start_time": "2021-12-25T10:36:42.180Z"
   },
   {
    "duration": 39,
    "start_time": "2021-12-25T10:36:49.597Z"
   },
   {
    "duration": 7,
    "start_time": "2021-12-25T10:37:01.155Z"
   },
   {
    "duration": 8,
    "start_time": "2021-12-25T10:37:47.068Z"
   },
   {
    "duration": 7,
    "start_time": "2021-12-25T10:38:56.927Z"
   },
   {
    "duration": 255,
    "start_time": "2021-12-25T10:40:34.430Z"
   },
   {
    "duration": 21,
    "start_time": "2021-12-25T10:40:41.549Z"
   },
   {
    "duration": 285,
    "start_time": "2021-12-25T10:40:43.949Z"
   },
   {
    "duration": 36,
    "start_time": "2021-12-25T13:11:49.285Z"
   },
   {
    "duration": 49,
    "start_time": "2021-12-25T13:11:49.885Z"
   },
   {
    "duration": 14,
    "start_time": "2021-12-25T13:11:58.903Z"
   },
   {
    "duration": 119,
    "start_time": "2021-12-25T13:12:07.640Z"
   },
   {
    "duration": 18,
    "start_time": "2021-12-25T13:12:07.762Z"
   },
   {
    "duration": 39,
    "start_time": "2021-12-25T13:12:07.783Z"
   },
   {
    "duration": 106,
    "start_time": "2021-12-25T13:12:07.825Z"
   },
   {
    "duration": 113,
    "start_time": "2021-12-25T13:12:07.934Z"
   },
   {
    "duration": 36,
    "start_time": "2021-12-25T13:12:08.050Z"
   },
   {
    "duration": 38,
    "start_time": "2021-12-25T13:12:08.089Z"
   },
   {
    "duration": 11,
    "start_time": "2021-12-25T13:12:08.132Z"
   },
   {
    "duration": 9,
    "start_time": "2021-12-25T13:12:08.147Z"
   },
   {
    "duration": 66,
    "start_time": "2021-12-25T13:12:08.159Z"
   },
   {
    "duration": 11,
    "start_time": "2021-12-25T13:12:08.227Z"
   },
   {
    "duration": 9,
    "start_time": "2021-12-25T13:12:08.240Z"
   },
   {
    "duration": 341,
    "start_time": "2021-12-25T13:12:08.252Z"
   },
   {
    "duration": 12860,
    "start_time": "2021-12-25T13:12:08.595Z"
   },
   {
    "duration": 27,
    "start_time": "2021-12-25T13:12:21.458Z"
   },
   {
    "duration": 504,
    "start_time": "2021-12-25T13:12:21.487Z"
   },
   {
    "duration": 23,
    "start_time": "2021-12-25T13:12:21.993Z"
   },
   {
    "duration": 9,
    "start_time": "2021-12-25T13:12:22.019Z"
   },
   {
    "duration": 5,
    "start_time": "2021-12-25T13:12:22.031Z"
   },
   {
    "duration": 21,
    "start_time": "2021-12-25T13:12:22.038Z"
   },
   {
    "duration": 1079,
    "start_time": "2021-12-25T13:12:22.062Z"
   },
   {
    "duration": 7,
    "start_time": "2021-12-25T13:12:23.143Z"
   },
   {
    "duration": 33,
    "start_time": "2021-12-25T13:12:23.155Z"
   },
   {
    "duration": 26,
    "start_time": "2021-12-25T13:12:23.191Z"
   },
   {
    "duration": 1460,
    "start_time": "2021-12-25T13:12:23.220Z"
   },
   {
    "duration": 41,
    "start_time": "2021-12-25T13:12:24.682Z"
   },
   {
    "duration": 508,
    "start_time": "2021-12-25T13:12:24.726Z"
   },
   {
    "duration": 313,
    "start_time": "2021-12-25T13:12:25.237Z"
   },
   {
    "duration": 14,
    "start_time": "2021-12-25T13:12:25.553Z"
   },
   {
    "duration": 9,
    "start_time": "2021-12-25T13:12:25.570Z"
   },
   {
    "duration": 38,
    "start_time": "2021-12-25T13:12:25.581Z"
   },
   {
    "duration": 1076,
    "start_time": "2021-12-25T13:12:25.622Z"
   },
   {
    "duration": 49,
    "start_time": "2021-12-25T13:12:26.700Z"
   },
   {
    "duration": 36,
    "start_time": "2021-12-25T13:12:26.752Z"
   },
   {
    "duration": 36,
    "start_time": "2021-12-25T13:12:39.893Z"
   },
   {
    "duration": 14,
    "start_time": "2021-12-25T13:12:40.598Z"
   },
   {
    "duration": 15,
    "start_time": "2021-12-25T13:13:17.442Z"
   },
   {
    "duration": 13,
    "start_time": "2021-12-25T13:16:07.121Z"
   },
   {
    "duration": 3,
    "start_time": "2021-12-25T13:16:12.029Z"
   },
   {
    "duration": 643,
    "start_time": "2021-12-25T13:17:50.112Z"
   },
   {
    "duration": 557,
    "start_time": "2021-12-25T13:17:53.632Z"
   },
   {
    "duration": 112,
    "start_time": "2021-12-25T13:18:03.461Z"
   },
   {
    "duration": 15,
    "start_time": "2021-12-25T13:18:03.575Z"
   },
   {
    "duration": 33,
    "start_time": "2021-12-25T13:18:03.592Z"
   },
   {
    "duration": 110,
    "start_time": "2021-12-25T13:18:03.627Z"
   },
   {
    "duration": 102,
    "start_time": "2021-12-25T13:18:03.739Z"
   },
   {
    "duration": 34,
    "start_time": "2021-12-25T13:18:03.843Z"
   },
   {
    "duration": 41,
    "start_time": "2021-12-25T13:18:03.879Z"
   },
   {
    "duration": 11,
    "start_time": "2021-12-25T13:18:03.925Z"
   },
   {
    "duration": 10,
    "start_time": "2021-12-25T13:18:03.940Z"
   },
   {
    "duration": 64,
    "start_time": "2021-12-25T13:18:03.953Z"
   },
   {
    "duration": 14,
    "start_time": "2021-12-25T13:18:04.019Z"
   },
   {
    "duration": 12,
    "start_time": "2021-12-25T13:18:04.036Z"
   },
   {
    "duration": 260,
    "start_time": "2021-12-25T13:18:04.050Z"
   },
   {
    "duration": 13129,
    "start_time": "2021-12-25T13:18:04.313Z"
   },
   {
    "duration": 26,
    "start_time": "2021-12-25T13:18:17.445Z"
   },
   {
    "duration": 511,
    "start_time": "2021-12-25T13:18:17.474Z"
   },
   {
    "duration": 10,
    "start_time": "2021-12-25T13:18:17.988Z"
   },
   {
    "duration": 8,
    "start_time": "2021-12-25T13:18:18.017Z"
   },
   {
    "duration": 6,
    "start_time": "2021-12-25T13:18:18.027Z"
   },
   {
    "duration": 19,
    "start_time": "2021-12-25T13:18:18.036Z"
   },
   {
    "duration": 952,
    "start_time": "2021-12-25T13:18:18.057Z"
   },
   {
    "duration": 8,
    "start_time": "2021-12-25T13:18:19.012Z"
   },
   {
    "duration": 38,
    "start_time": "2021-12-25T13:18:19.024Z"
   },
   {
    "duration": 3,
    "start_time": "2021-12-25T13:18:19.064Z"
   },
   {
    "duration": 1381,
    "start_time": "2021-12-25T13:18:19.069Z"
   },
   {
    "duration": 30,
    "start_time": "2021-12-25T13:18:20.453Z"
   },
   {
    "duration": 520,
    "start_time": "2021-12-25T13:18:20.485Z"
   },
   {
    "duration": 384,
    "start_time": "2021-12-25T13:18:21.008Z"
   },
   {
    "duration": 25,
    "start_time": "2021-12-25T13:18:21.395Z"
   },
   {
    "duration": 7,
    "start_time": "2021-12-25T13:18:21.423Z"
   },
   {
    "duration": 7,
    "start_time": "2021-12-25T13:18:21.433Z"
   },
   {
    "duration": 1087,
    "start_time": "2021-12-25T13:18:21.442Z"
   },
   {
    "duration": 33,
    "start_time": "2021-12-25T13:18:22.532Z"
   },
   {
    "duration": 51,
    "start_time": "2021-12-25T13:18:22.568Z"
   },
   {
    "duration": 14,
    "start_time": "2021-12-25T13:18:22.622Z"
   },
   {
    "duration": 8,
    "start_time": "2021-12-25T13:18:22.639Z"
   },
   {
    "duration": 3,
    "start_time": "2021-12-25T13:18:29.832Z"
   },
   {
    "duration": 612,
    "start_time": "2021-12-25T13:18:29.838Z"
   },
   {
    "duration": 646,
    "start_time": "2021-12-25T13:18:36.220Z"
   },
   {
    "duration": 959,
    "start_time": "2021-12-25T13:18:44.605Z"
   },
   {
    "duration": 1119,
    "start_time": "2021-12-25T13:19:03.485Z"
   },
   {
    "duration": 5352,
    "start_time": "2021-12-25T13:19:08.410Z"
   },
   {
    "duration": 896,
    "start_time": "2021-12-25T13:19:20.350Z"
   },
   {
    "duration": 905,
    "start_time": "2021-12-25T13:19:43.261Z"
   },
   {
    "duration": 624,
    "start_time": "2021-12-25T13:20:20.063Z"
   },
   {
    "duration": 273,
    "start_time": "2021-12-25T13:20:20.689Z"
   },
   {
    "duration": 444,
    "start_time": "2021-12-25T13:20:37.573Z"
   },
   {
    "duration": 452,
    "start_time": "2021-12-25T13:20:47.453Z"
   },
   {
    "duration": 449,
    "start_time": "2021-12-25T13:20:54.738Z"
   },
   {
    "duration": 658,
    "start_time": "2021-12-25T13:21:33.403Z"
   },
   {
    "duration": 622,
    "start_time": "2021-12-25T13:24:30.140Z"
   },
   {
    "duration": 730,
    "start_time": "2021-12-25T13:24:34.943Z"
   },
   {
    "duration": 107,
    "start_time": "2021-12-25T13:25:00.363Z"
   },
   {
    "duration": 14,
    "start_time": "2021-12-25T13:25:00.472Z"
   },
   {
    "duration": 37,
    "start_time": "2021-12-25T13:25:00.489Z"
   },
   {
    "duration": 108,
    "start_time": "2021-12-25T13:25:00.529Z"
   },
   {
    "duration": 110,
    "start_time": "2021-12-25T13:25:00.640Z"
   },
   {
    "duration": 33,
    "start_time": "2021-12-25T13:25:00.752Z"
   },
   {
    "duration": 35,
    "start_time": "2021-12-25T13:25:00.787Z"
   },
   {
    "duration": 15,
    "start_time": "2021-12-25T13:25:00.825Z"
   },
   {
    "duration": 9,
    "start_time": "2021-12-25T13:25:00.843Z"
   },
   {
    "duration": 26,
    "start_time": "2021-12-25T13:25:00.854Z"
   },
   {
    "duration": 40,
    "start_time": "2021-12-25T13:25:00.882Z"
   },
   {
    "duration": 8,
    "start_time": "2021-12-25T13:25:00.925Z"
   },
   {
    "duration": 232,
    "start_time": "2021-12-25T13:25:00.936Z"
   },
   {
    "duration": 13416,
    "start_time": "2021-12-25T13:25:01.170Z"
   },
   {
    "duration": 37,
    "start_time": "2021-12-25T13:25:14.588Z"
   },
   {
    "duration": 481,
    "start_time": "2021-12-25T13:25:14.627Z"
   },
   {
    "duration": 10,
    "start_time": "2021-12-25T13:25:15.110Z"
   },
   {
    "duration": 7,
    "start_time": "2021-12-25T13:25:15.122Z"
   },
   {
    "duration": 12,
    "start_time": "2021-12-25T13:25:15.131Z"
   },
   {
    "duration": 24,
    "start_time": "2021-12-25T13:25:15.145Z"
   },
   {
    "duration": 1091,
    "start_time": "2021-12-25T13:25:15.172Z"
   },
   {
    "duration": 7,
    "start_time": "2021-12-25T13:25:16.265Z"
   },
   {
    "duration": 53,
    "start_time": "2021-12-25T13:25:16.276Z"
   },
   {
    "duration": 14,
    "start_time": "2021-12-25T13:25:16.332Z"
   },
   {
    "duration": 1373,
    "start_time": "2021-12-25T13:25:16.349Z"
   },
   {
    "duration": 28,
    "start_time": "2021-12-25T13:25:17.725Z"
   },
   {
    "duration": 525,
    "start_time": "2021-12-25T13:25:17.756Z"
   },
   {
    "duration": 291,
    "start_time": "2021-12-25T13:25:18.284Z"
   },
   {
    "duration": 12,
    "start_time": "2021-12-25T13:25:18.577Z"
   },
   {
    "duration": 28,
    "start_time": "2021-12-25T13:25:18.591Z"
   },
   {
    "duration": 8,
    "start_time": "2021-12-25T13:25:18.621Z"
   },
   {
    "duration": 1215,
    "start_time": "2021-12-25T13:25:18.631Z"
   },
   {
    "duration": 38,
    "start_time": "2021-12-25T13:25:19.848Z"
   },
   {
    "duration": 57,
    "start_time": "2021-12-25T13:25:19.889Z"
   },
   {
    "duration": 15,
    "start_time": "2021-12-25T13:25:19.949Z"
   },
   {
    "duration": 9,
    "start_time": "2021-12-25T13:25:46.530Z"
   },
   {
    "duration": 2015,
    "start_time": "2021-12-25T13:27:17.955Z"
   },
   {
    "duration": 1852,
    "start_time": "2021-12-25T13:28:42.413Z"
   },
   {
    "duration": 15,
    "start_time": "2021-12-25T13:31:32.424Z"
   },
   {
    "duration": 14,
    "start_time": "2021-12-25T13:32:24.210Z"
   },
   {
    "duration": 16,
    "start_time": "2021-12-25T13:33:27.824Z"
   },
   {
    "duration": 24,
    "start_time": "2021-12-25T13:34:20.483Z"
   },
   {
    "duration": 38,
    "start_time": "2021-12-25T13:34:31.483Z"
   },
   {
    "duration": 8,
    "start_time": "2021-12-25T13:34:46.848Z"
   },
   {
    "duration": 14,
    "start_time": "2021-12-25T13:35:39.640Z"
   },
   {
    "duration": 27,
    "start_time": "2021-12-25T13:36:54.167Z"
   },
   {
    "duration": 113,
    "start_time": "2021-12-25T13:37:04.256Z"
   },
   {
    "duration": 47,
    "start_time": "2021-12-25T13:37:04.371Z"
   },
   {
    "duration": 12,
    "start_time": "2021-12-25T13:37:04.421Z"
   },
   {
    "duration": 108,
    "start_time": "2021-12-25T13:37:04.436Z"
   },
   {
    "duration": 102,
    "start_time": "2021-12-25T13:37:04.546Z"
   },
   {
    "duration": 32,
    "start_time": "2021-12-25T13:37:04.651Z"
   },
   {
    "duration": 36,
    "start_time": "2021-12-25T13:37:04.685Z"
   },
   {
    "duration": 12,
    "start_time": "2021-12-25T13:37:04.725Z"
   },
   {
    "duration": 8,
    "start_time": "2021-12-25T13:37:04.740Z"
   },
   {
    "duration": 18,
    "start_time": "2021-12-25T13:37:04.750Z"
   },
   {
    "duration": 48,
    "start_time": "2021-12-25T13:37:04.771Z"
   },
   {
    "duration": 9,
    "start_time": "2021-12-25T13:37:04.821Z"
   },
   {
    "duration": 243,
    "start_time": "2021-12-25T13:37:04.832Z"
   },
   {
    "duration": 13663,
    "start_time": "2021-12-25T13:37:05.077Z"
   },
   {
    "duration": 26,
    "start_time": "2021-12-25T13:37:18.742Z"
   },
   {
    "duration": 496,
    "start_time": "2021-12-25T13:37:18.771Z"
   },
   {
    "duration": 11,
    "start_time": "2021-12-25T13:37:19.270Z"
   },
   {
    "duration": 8,
    "start_time": "2021-12-25T13:37:19.283Z"
   },
   {
    "duration": 29,
    "start_time": "2021-12-25T13:37:19.293Z"
   },
   {
    "duration": 21,
    "start_time": "2021-12-25T13:37:19.325Z"
   },
   {
    "duration": 1122,
    "start_time": "2021-12-25T13:37:19.348Z"
   },
   {
    "duration": 8,
    "start_time": "2021-12-25T13:37:20.473Z"
   },
   {
    "duration": 321,
    "start_time": "2021-12-25T13:37:20.486Z"
   },
   {
    "duration": 3,
    "start_time": "2021-12-25T13:37:20.810Z"
   },
   {
    "duration": 1407,
    "start_time": "2021-12-25T13:37:20.816Z"
   },
   {
    "duration": 25,
    "start_time": "2021-12-25T13:37:22.225Z"
   },
   {
    "duration": 510,
    "start_time": "2021-12-25T13:37:22.252Z"
   },
   {
    "duration": 282,
    "start_time": "2021-12-25T13:37:22.765Z"
   },
   {
    "duration": 11,
    "start_time": "2021-12-25T13:37:23.049Z"
   },
   {
    "duration": 7,
    "start_time": "2021-12-25T13:37:23.063Z"
   },
   {
    "duration": 11,
    "start_time": "2021-12-25T13:37:23.072Z"
   },
   {
    "duration": 1182,
    "start_time": "2021-12-25T13:37:23.085Z"
   },
   {
    "duration": 14,
    "start_time": "2021-12-25T13:37:24.269Z"
   },
   {
    "duration": 43,
    "start_time": "2021-12-25T13:37:24.286Z"
   },
   {
    "duration": 22,
    "start_time": "2021-12-25T13:37:28.896Z"
   },
   {
    "duration": 26,
    "start_time": "2021-12-25T13:37:29.455Z"
   },
   {
    "duration": 31,
    "start_time": "2021-12-25T13:37:51.958Z"
   },
   {
    "duration": 32,
    "start_time": "2021-12-25T13:38:14.633Z"
   },
   {
    "duration": 32,
    "start_time": "2021-12-25T13:38:30.892Z"
   },
   {
    "duration": 23,
    "start_time": "2021-12-25T13:38:46.771Z"
   },
   {
    "duration": 34,
    "start_time": "2021-12-25T13:38:47.204Z"
   },
   {
    "duration": 15,
    "start_time": "2021-12-25T13:39:35.208Z"
   },
   {
    "duration": 8,
    "start_time": "2021-12-25T13:39:43.964Z"
   },
   {
    "duration": 412,
    "start_time": "2021-12-25T13:39:50.279Z"
   },
   {
    "duration": 438,
    "start_time": "2021-12-25T13:40:04.901Z"
   },
   {
    "duration": 9,
    "start_time": "2021-12-25T13:47:55.772Z"
   },
   {
    "duration": 7,
    "start_time": "2021-12-25T13:48:11.176Z"
   },
   {
    "duration": 680,
    "start_time": "2021-12-25T13:49:56.501Z"
   },
   {
    "duration": 810,
    "start_time": "2021-12-25T13:50:19.711Z"
   },
   {
    "duration": 469,
    "start_time": "2021-12-25T13:50:48.796Z"
   },
   {
    "duration": 472,
    "start_time": "2021-12-25T13:50:55.991Z"
   },
   {
    "duration": 559,
    "start_time": "2021-12-25T13:51:00.146Z"
   },
   {
    "duration": 702,
    "start_time": "2021-12-25T13:51:18.825Z"
   },
   {
    "duration": 436,
    "start_time": "2021-12-25T14:08:37.810Z"
   },
   {
    "duration": 590,
    "start_time": "2021-12-25T14:08:49.096Z"
   },
   {
    "duration": 498,
    "start_time": "2021-12-25T14:09:00.494Z"
   },
   {
    "duration": 464,
    "start_time": "2021-12-25T14:09:06.182Z"
   },
   {
    "duration": 468,
    "start_time": "2021-12-25T14:09:10.700Z"
   },
   {
    "duration": 454,
    "start_time": "2021-12-25T14:09:38.989Z"
   },
   {
    "duration": 461,
    "start_time": "2021-12-25T14:09:42.050Z"
   },
   {
    "duration": 429,
    "start_time": "2021-12-25T14:09:52.682Z"
   },
   {
    "duration": 451,
    "start_time": "2021-12-25T14:09:56.528Z"
   },
   {
    "duration": 452,
    "start_time": "2021-12-25T14:10:06.663Z"
   },
   {
    "duration": 467,
    "start_time": "2021-12-25T14:10:22.856Z"
   },
   {
    "duration": 475,
    "start_time": "2021-12-25T14:10:35.427Z"
   },
   {
    "duration": 462,
    "start_time": "2021-12-25T14:10:49.327Z"
   },
   {
    "duration": 551,
    "start_time": "2021-12-25T14:12:29.332Z"
   },
   {
    "duration": 14,
    "start_time": "2021-12-25T14:15:02.936Z"
   },
   {
    "duration": 7,
    "start_time": "2021-12-25T14:15:16.074Z"
   },
   {
    "duration": 465,
    "start_time": "2021-12-25T14:17:28.888Z"
   },
   {
    "duration": 494,
    "start_time": "2021-12-25T14:17:50.319Z"
   },
   {
    "duration": 619,
    "start_time": "2021-12-25T14:18:49.342Z"
   },
   {
    "duration": 504,
    "start_time": "2021-12-25T14:18:55.487Z"
   },
   {
    "duration": 468,
    "start_time": "2021-12-25T14:18:59.653Z"
   },
   {
    "duration": 654,
    "start_time": "2021-12-25T14:21:11.543Z"
   },
   {
    "duration": 8,
    "start_time": "2021-12-25T14:26:27.087Z"
   },
   {
    "duration": 9,
    "start_time": "2021-12-25T14:27:00.600Z"
   },
   {
    "duration": 27,
    "start_time": "2021-12-25T14:29:19.406Z"
   },
   {
    "duration": 18,
    "start_time": "2021-12-25T14:30:06.894Z"
   },
   {
    "duration": 434,
    "start_time": "2021-12-25T14:30:20.171Z"
   },
   {
    "duration": 647,
    "start_time": "2021-12-25T14:34:45.354Z"
   },
   {
    "duration": 495,
    "start_time": "2021-12-25T14:35:05.547Z"
   },
   {
    "duration": 13,
    "start_time": "2021-12-25T14:35:48.615Z"
   },
   {
    "duration": 489,
    "start_time": "2021-12-25T14:35:58.191Z"
   },
   {
    "duration": 586,
    "start_time": "2021-12-25T14:36:33.423Z"
   },
   {
    "duration": 682,
    "start_time": "2021-12-25T14:36:52.796Z"
   },
   {
    "duration": 12,
    "start_time": "2021-12-25T14:38:05.698Z"
   },
   {
    "duration": 355,
    "start_time": "2021-12-25T14:38:19.949Z"
   },
   {
    "duration": 456,
    "start_time": "2021-12-25T15:17:23.623Z"
   },
   {
    "duration": 18,
    "start_time": "2021-12-25T15:26:09.598Z"
   },
   {
    "duration": 22,
    "start_time": "2021-12-25T15:26:25.955Z"
   },
   {
    "duration": 16,
    "start_time": "2021-12-25T15:30:41.023Z"
   },
   {
    "duration": 23,
    "start_time": "2021-12-25T15:30:41.347Z"
   },
   {
    "duration": 14,
    "start_time": "2021-12-25T15:31:07.610Z"
   },
   {
    "duration": 23,
    "start_time": "2021-12-25T15:31:08.512Z"
   },
   {
    "duration": 14,
    "start_time": "2021-12-25T15:32:10.407Z"
   },
   {
    "duration": 21,
    "start_time": "2021-12-25T15:32:10.641Z"
   },
   {
    "duration": 8,
    "start_time": "2021-12-25T15:34:19.863Z"
   },
   {
    "duration": 7,
    "start_time": "2021-12-25T15:34:27.951Z"
   },
   {
    "duration": 17,
    "start_time": "2021-12-25T15:34:35.727Z"
   },
   {
    "duration": 5,
    "start_time": "2021-12-25T15:34:52.102Z"
   },
   {
    "duration": 19,
    "start_time": "2021-12-25T15:34:52.670Z"
   },
   {
    "duration": 15,
    "start_time": "2021-12-25T15:39:09.935Z"
   },
   {
    "duration": 3,
    "start_time": "2021-12-25T15:39:45.317Z"
   },
   {
    "duration": 19,
    "start_time": "2021-12-25T15:39:46.435Z"
   },
   {
    "duration": 8,
    "start_time": "2021-12-25T15:39:49.139Z"
   },
   {
    "duration": 3,
    "start_time": "2021-12-25T15:39:49.503Z"
   },
   {
    "duration": 546,
    "start_time": "2021-12-25T15:39:50.015Z"
   },
   {
    "duration": 6,
    "start_time": "2021-12-25T15:39:56.015Z"
   },
   {
    "duration": 19,
    "start_time": "2021-12-25T15:39:56.624Z"
   },
   {
    "duration": 290,
    "start_time": "2021-12-25T15:40:09.100Z"
   },
   {
    "duration": 622,
    "start_time": "2021-12-25T15:45:01.324Z"
   },
   {
    "duration": 532,
    "start_time": "2021-12-25T15:45:07.663Z"
   },
   {
    "duration": 7,
    "start_time": "2021-12-25T15:46:17.851Z"
   },
   {
    "duration": 18,
    "start_time": "2021-12-25T15:51:30.503Z"
   },
   {
    "duration": 470,
    "start_time": "2021-12-25T15:52:35.841Z"
   },
   {
    "duration": 404,
    "start_time": "2021-12-25T15:55:28.722Z"
   },
   {
    "duration": 12,
    "start_time": "2021-12-25T15:56:21.094Z"
   },
   {
    "duration": 4,
    "start_time": "2021-12-25T15:56:40.059Z"
   },
   {
    "duration": 468,
    "start_time": "2021-12-25T15:56:49.477Z"
   },
   {
    "duration": 520,
    "start_time": "2021-12-25T15:56:58.668Z"
   },
   {
    "duration": 483,
    "start_time": "2021-12-25T15:57:11.260Z"
   },
   {
    "duration": 470,
    "start_time": "2021-12-25T15:57:14.193Z"
   },
   {
    "duration": 448,
    "start_time": "2021-12-25T15:57:23.196Z"
   },
   {
    "duration": 648,
    "start_time": "2021-12-25T15:57:31.487Z"
   },
   {
    "duration": 9,
    "start_time": "2021-12-25T15:58:08.238Z"
   },
   {
    "duration": 440,
    "start_time": "2021-12-25T15:59:34.299Z"
   },
   {
    "duration": 7183,
    "start_time": "2021-12-25T16:00:50.557Z"
   },
   {
    "duration": 17,
    "start_time": "2021-12-25T16:01:12.823Z"
   },
   {
    "duration": 16,
    "start_time": "2021-12-25T16:03:32.454Z"
   },
   {
    "duration": 18,
    "start_time": "2021-12-25T16:04:46.846Z"
   },
   {
    "duration": 135,
    "start_time": "2021-12-25T16:05:15.582Z"
   },
   {
    "duration": 17,
    "start_time": "2021-12-25T16:05:15.720Z"
   },
   {
    "duration": 13,
    "start_time": "2021-12-25T16:05:15.739Z"
   },
   {
    "duration": 127,
    "start_time": "2021-12-25T16:05:15.756Z"
   },
   {
    "duration": 110,
    "start_time": "2021-12-25T16:05:15.886Z"
   },
   {
    "duration": 51,
    "start_time": "2021-12-25T16:05:15.999Z"
   },
   {
    "duration": 9,
    "start_time": "2021-12-25T16:05:16.053Z"
   },
   {
    "duration": 11,
    "start_time": "2021-12-25T16:05:16.066Z"
   },
   {
    "duration": 7,
    "start_time": "2021-12-25T16:05:16.117Z"
   },
   {
    "duration": 21,
    "start_time": "2021-12-25T16:05:16.127Z"
   },
   {
    "duration": 12,
    "start_time": "2021-12-25T16:05:16.150Z"
   },
   {
    "duration": 9,
    "start_time": "2021-12-25T16:05:16.164Z"
   },
   {
    "duration": 257,
    "start_time": "2021-12-25T16:05:16.176Z"
   },
   {
    "duration": 13305,
    "start_time": "2021-12-25T16:05:16.435Z"
   },
   {
    "duration": 25,
    "start_time": "2021-12-25T16:05:29.742Z"
   },
   {
    "duration": 507,
    "start_time": "2021-12-25T16:05:29.769Z"
   },
   {
    "duration": 10,
    "start_time": "2021-12-25T16:05:30.279Z"
   },
   {
    "duration": 30,
    "start_time": "2021-12-25T16:05:30.291Z"
   },
   {
    "duration": 33,
    "start_time": "2021-12-25T16:05:30.323Z"
   },
   {
    "duration": 43,
    "start_time": "2021-12-25T16:05:30.358Z"
   },
   {
    "duration": 940,
    "start_time": "2021-12-25T16:05:30.403Z"
   },
   {
    "duration": 8,
    "start_time": "2021-12-25T16:05:31.345Z"
   },
   {
    "duration": 54,
    "start_time": "2021-12-25T16:05:31.359Z"
   },
   {
    "duration": 4,
    "start_time": "2021-12-25T16:05:31.416Z"
   },
   {
    "duration": 1395,
    "start_time": "2021-12-25T16:05:31.422Z"
   },
   {
    "duration": 26,
    "start_time": "2021-12-25T16:05:32.819Z"
   },
   {
    "duration": 501,
    "start_time": "2021-12-25T16:05:32.848Z"
   },
   {
    "duration": 290,
    "start_time": "2021-12-25T16:05:33.351Z"
   },
   {
    "duration": 11,
    "start_time": "2021-12-25T16:05:33.643Z"
   },
   {
    "duration": 7,
    "start_time": "2021-12-25T16:05:33.657Z"
   },
   {
    "duration": 10,
    "start_time": "2021-12-25T16:05:33.666Z"
   },
   {
    "duration": 1145,
    "start_time": "2021-12-25T16:05:33.678Z"
   },
   {
    "duration": 22,
    "start_time": "2021-12-25T16:05:34.825Z"
   },
   {
    "duration": 31,
    "start_time": "2021-12-25T16:05:34.849Z"
   },
   {
    "duration": 38,
    "start_time": "2021-12-25T16:05:34.882Z"
   },
   {
    "duration": 22,
    "start_time": "2021-12-25T16:05:34.922Z"
   },
   {
    "duration": 645,
    "start_time": "2021-12-25T16:05:34.946Z"
   },
   {
    "duration": 436,
    "start_time": "2021-12-25T16:05:35.593Z"
   },
   {
    "duration": 6,
    "start_time": "2021-12-25T16:05:36.032Z"
   },
   {
    "duration": 28,
    "start_time": "2021-12-25T16:05:36.041Z"
   },
   {
    "duration": 349,
    "start_time": "2021-12-25T16:05:36.071Z"
   },
   {
    "duration": 372,
    "start_time": "2021-12-25T16:05:36.423Z"
   },
   {
    "duration": 585,
    "start_time": "2021-12-25T16:05:36.797Z"
   },
   {
    "duration": 604,
    "start_time": "2021-12-25T16:05:37.385Z"
   },
   {
    "duration": 468,
    "start_time": "2021-12-25T16:05:37.991Z"
   },
   {
    "duration": 14,
    "start_time": "2021-12-25T16:05:38.462Z"
   },
   {
    "duration": 40,
    "start_time": "2021-12-25T16:05:38.479Z"
   },
   {
    "duration": 8,
    "start_time": "2021-12-25T16:05:38.522Z"
   },
   {
    "duration": 8,
    "start_time": "2021-12-25T16:05:38.532Z"
   },
   {
    "duration": 19,
    "start_time": "2021-12-25T16:05:38.542Z"
   },
   {
    "duration": 339,
    "start_time": "2021-12-25T16:05:38.563Z"
   },
   {
    "duration": 452,
    "start_time": "2021-12-25T16:05:38.905Z"
   },
   {
    "duration": 424,
    "start_time": "2021-12-25T16:05:39.360Z"
   },
   {
    "duration": 452,
    "start_time": "2021-12-25T16:05:39.787Z"
   },
   {
    "duration": 20,
    "start_time": "2021-12-25T16:05:40.242Z"
   },
   {
    "duration": 920,
    "start_time": "2021-12-26T10:35:15.826Z"
   },
   {
    "duration": 17,
    "start_time": "2021-12-26T10:35:16.749Z"
   },
   {
    "duration": 12,
    "start_time": "2021-12-26T10:35:16.770Z"
   },
   {
    "duration": 133,
    "start_time": "2021-12-26T10:35:16.785Z"
   },
   {
    "duration": 123,
    "start_time": "2021-12-26T10:35:16.921Z"
   },
   {
    "duration": 34,
    "start_time": "2021-12-26T10:35:17.046Z"
   },
   {
    "duration": 9,
    "start_time": "2021-12-26T10:35:17.082Z"
   },
   {
    "duration": 40,
    "start_time": "2021-12-26T10:35:17.094Z"
   },
   {
    "duration": 7,
    "start_time": "2021-12-26T10:35:17.138Z"
   },
   {
    "duration": 20,
    "start_time": "2021-12-26T10:35:17.148Z"
   },
   {
    "duration": 49,
    "start_time": "2021-12-26T10:35:17.170Z"
   },
   {
    "duration": 13,
    "start_time": "2021-12-26T10:35:17.221Z"
   },
   {
    "duration": 258,
    "start_time": "2021-12-26T10:35:17.236Z"
   },
   {
    "duration": 14602,
    "start_time": "2021-12-26T10:35:17.497Z"
   },
   {
    "duration": 31,
    "start_time": "2021-12-26T10:35:32.101Z"
   },
   {
    "duration": 638,
    "start_time": "2021-12-26T10:35:32.135Z"
   },
   {
    "duration": 10,
    "start_time": "2021-12-26T10:35:32.775Z"
   },
   {
    "duration": 9,
    "start_time": "2021-12-26T10:35:32.787Z"
   },
   {
    "duration": 6,
    "start_time": "2021-12-26T10:35:32.798Z"
   },
   {
    "duration": 33,
    "start_time": "2021-12-26T10:35:32.807Z"
   },
   {
    "duration": 1590,
    "start_time": "2021-12-26T10:35:32.842Z"
   },
   {
    "duration": 7,
    "start_time": "2021-12-26T10:35:34.435Z"
   },
   {
    "duration": 39,
    "start_time": "2021-12-26T10:35:34.445Z"
   },
   {
    "duration": 3,
    "start_time": "2021-12-26T10:35:34.486Z"
   },
   {
    "duration": 1455,
    "start_time": "2021-12-26T10:35:34.492Z"
   },
   {
    "duration": 28,
    "start_time": "2021-12-26T10:35:35.949Z"
   },
   {
    "duration": 540,
    "start_time": "2021-12-26T10:35:35.986Z"
   },
   {
    "duration": 328,
    "start_time": "2021-12-26T10:35:36.529Z"
   },
   {
    "duration": 12,
    "start_time": "2021-12-26T10:35:36.859Z"
   },
   {
    "duration": 9,
    "start_time": "2021-12-26T10:35:36.873Z"
   },
   {
    "duration": 38,
    "start_time": "2021-12-26T10:35:36.885Z"
   },
   {
    "duration": 1235,
    "start_time": "2021-12-26T10:35:36.925Z"
   },
   {
    "duration": 25,
    "start_time": "2021-12-26T10:35:38.162Z"
   },
   {
    "duration": 60,
    "start_time": "2021-12-26T10:35:38.190Z"
   },
   {
    "duration": 17,
    "start_time": "2021-12-26T10:35:38.253Z"
   },
   {
    "duration": 54,
    "start_time": "2021-12-26T10:35:38.273Z"
   },
   {
    "duration": 603,
    "start_time": "2021-12-26T10:35:38.330Z"
   },
   {
    "duration": 454,
    "start_time": "2021-12-26T10:35:38.937Z"
   },
   {
    "duration": 28,
    "start_time": "2021-12-26T10:35:39.395Z"
   },
   {
    "duration": 25,
    "start_time": "2021-12-26T10:35:39.428Z"
   },
   {
    "duration": 467,
    "start_time": "2021-12-26T10:35:39.455Z"
   },
   {
    "duration": 404,
    "start_time": "2021-12-26T10:35:39.926Z"
   },
   {
    "duration": 512,
    "start_time": "2021-12-26T10:35:40.334Z"
   },
   {
    "duration": 655,
    "start_time": "2021-12-26T10:35:40.848Z"
   },
   {
    "duration": 522,
    "start_time": "2021-12-26T10:35:41.505Z"
   },
   {
    "duration": 26,
    "start_time": "2021-12-26T10:35:42.030Z"
   },
   {
    "duration": 30,
    "start_time": "2021-12-26T10:35:42.060Z"
   },
   {
    "duration": 12,
    "start_time": "2021-12-26T10:35:42.120Z"
   },
   {
    "duration": 9,
    "start_time": "2021-12-26T10:35:42.135Z"
   },
   {
    "duration": 20,
    "start_time": "2021-12-26T10:35:42.148Z"
   },
   {
    "duration": 351,
    "start_time": "2021-12-26T10:35:42.170Z"
   },
   {
    "duration": 482,
    "start_time": "2021-12-26T10:35:42.524Z"
   },
   {
    "duration": 441,
    "start_time": "2021-12-26T10:35:47.095Z"
   },
   {
    "duration": 574,
    "start_time": "2021-12-26T10:35:48.922Z"
   },
   {
    "duration": 508,
    "start_time": "2021-12-26T10:36:34.025Z"
   },
   {
    "duration": 3572,
    "start_time": "2021-12-26T10:37:21.968Z"
   },
   {
    "duration": 607,
    "start_time": "2021-12-26T10:38:07.486Z"
   },
   {
    "duration": 489,
    "start_time": "2021-12-26T10:38:22.941Z"
   },
   {
    "duration": 18,
    "start_time": "2021-12-26T10:38:23.535Z"
   },
   {
    "duration": 507,
    "start_time": "2021-12-26T10:41:14.297Z"
   },
   {
    "duration": 487,
    "start_time": "2021-12-26T10:42:11.075Z"
   },
   {
    "duration": 738,
    "start_time": "2021-12-26T10:43:03.444Z"
   },
   {
    "duration": 656,
    "start_time": "2021-12-26T10:45:04.809Z"
   },
   {
    "duration": 435,
    "start_time": "2021-12-26T10:45:12.962Z"
   },
   {
    "duration": 375,
    "start_time": "2021-12-26T10:46:27.105Z"
   },
   {
    "duration": 24,
    "start_time": "2021-12-26T10:47:02.915Z"
   },
   {
    "duration": 370,
    "start_time": "2021-12-26T10:50:45.561Z"
   },
   {
    "duration": 432,
    "start_time": "2021-12-26T10:57:33.872Z"
   },
   {
    "duration": 9,
    "start_time": "2021-12-26T10:57:42.996Z"
   },
   {
    "duration": 5,
    "start_time": "2021-12-26T10:57:43.336Z"
   },
   {
    "duration": 18,
    "start_time": "2021-12-26T10:57:44.455Z"
   },
   {
    "duration": 21,
    "start_time": "2021-12-26T10:58:05.906Z"
   },
   {
    "duration": 293,
    "start_time": "2021-12-26T10:58:06.381Z"
   },
   {
    "duration": 556,
    "start_time": "2021-12-26T10:58:09.494Z"
   },
   {
    "duration": 21,
    "start_time": "2021-12-26T11:01:28.421Z"
   },
   {
    "duration": 425,
    "start_time": "2021-12-26T11:06:56.265Z"
   },
   {
    "duration": 413,
    "start_time": "2021-12-26T11:08:46.573Z"
   },
   {
    "duration": 587,
    "start_time": "2021-12-26T11:13:45.387Z"
   },
   {
    "duration": 484,
    "start_time": "2021-12-26T11:13:57.245Z"
   },
   {
    "duration": 429,
    "start_time": "2021-12-26T11:36:54.515Z"
   },
   {
    "duration": 365,
    "start_time": "2021-12-26T11:41:51.685Z"
   },
   {
    "duration": 471,
    "start_time": "2021-12-26T11:43:26.751Z"
   },
   {
    "duration": 525,
    "start_time": "2021-12-26T11:44:48.975Z"
   },
   {
    "duration": 609,
    "start_time": "2021-12-26T11:45:25.539Z"
   },
   {
    "duration": 562,
    "start_time": "2021-12-26T11:45:30.847Z"
   },
   {
    "duration": 119,
    "start_time": "2021-12-26T11:55:44.042Z"
   },
   {
    "duration": 15,
    "start_time": "2021-12-26T11:55:44.163Z"
   },
   {
    "duration": 45,
    "start_time": "2021-12-26T11:55:44.181Z"
   },
   {
    "duration": 117,
    "start_time": "2021-12-26T11:55:44.230Z"
   },
   {
    "duration": 117,
    "start_time": "2021-12-26T11:55:44.349Z"
   },
   {
    "duration": 55,
    "start_time": "2021-12-26T11:55:44.468Z"
   },
   {
    "duration": 13,
    "start_time": "2021-12-26T11:55:44.526Z"
   },
   {
    "duration": 12,
    "start_time": "2021-12-26T11:55:44.542Z"
   },
   {
    "duration": 9,
    "start_time": "2021-12-26T11:55:44.558Z"
   },
   {
    "duration": 65,
    "start_time": "2021-12-26T11:55:44.570Z"
   },
   {
    "duration": 14,
    "start_time": "2021-12-26T11:55:44.638Z"
   },
   {
    "duration": 11,
    "start_time": "2021-12-26T11:55:44.654Z"
   },
   {
    "duration": 276,
    "start_time": "2021-12-26T11:55:44.668Z"
   },
   {
    "duration": 15980,
    "start_time": "2021-12-26T11:55:44.946Z"
   },
   {
    "duration": 32,
    "start_time": "2021-12-26T11:56:00.929Z"
   },
   {
    "duration": 636,
    "start_time": "2021-12-26T11:56:00.964Z"
   },
   {
    "duration": 19,
    "start_time": "2021-12-26T11:56:01.603Z"
   },
   {
    "duration": 9,
    "start_time": "2021-12-26T11:56:01.625Z"
   },
   {
    "duration": 26,
    "start_time": "2021-12-26T11:56:01.636Z"
   },
   {
    "duration": 38,
    "start_time": "2021-12-26T11:56:01.664Z"
   },
   {
    "duration": 952,
    "start_time": "2021-12-26T11:56:01.704Z"
   },
   {
    "duration": 7,
    "start_time": "2021-12-26T11:56:02.658Z"
   },
   {
    "duration": 52,
    "start_time": "2021-12-26T11:56:02.671Z"
   },
   {
    "duration": 3,
    "start_time": "2021-12-26T11:56:02.727Z"
   },
   {
    "duration": 1625,
    "start_time": "2021-12-26T11:56:02.732Z"
   },
   {
    "duration": 29,
    "start_time": "2021-12-26T11:56:04.359Z"
   },
   {
    "duration": 532,
    "start_time": "2021-12-26T11:56:04.391Z"
   },
   {
    "duration": 282,
    "start_time": "2021-12-26T11:56:04.926Z"
   },
   {
    "duration": 16,
    "start_time": "2021-12-26T11:56:05.210Z"
   },
   {
    "duration": 7,
    "start_time": "2021-12-26T11:56:05.229Z"
   },
   {
    "duration": 7,
    "start_time": "2021-12-26T11:56:05.238Z"
   },
   {
    "duration": 1159,
    "start_time": "2021-12-26T11:56:05.248Z"
   },
   {
    "duration": 27,
    "start_time": "2021-12-26T11:56:06.409Z"
   },
   {
    "duration": 32,
    "start_time": "2021-12-26T11:56:06.439Z"
   },
   {
    "duration": 14,
    "start_time": "2021-12-26T11:56:06.473Z"
   },
   {
    "duration": 14,
    "start_time": "2021-12-26T11:56:06.518Z"
   },
   {
    "duration": 499,
    "start_time": "2021-12-26T11:56:06.535Z"
   },
   {
    "duration": 427,
    "start_time": "2021-12-26T11:56:07.037Z"
   },
   {
    "duration": 7,
    "start_time": "2021-12-26T11:56:07.466Z"
   },
   {
    "duration": 44,
    "start_time": "2021-12-26T11:56:07.475Z"
   },
   {
    "duration": 345,
    "start_time": "2021-12-26T11:56:07.522Z"
   },
   {
    "duration": 416,
    "start_time": "2021-12-26T11:56:07.870Z"
   },
   {
    "duration": 475,
    "start_time": "2021-12-26T11:56:08.289Z"
   },
   {
    "duration": 708,
    "start_time": "2021-12-26T11:56:08.766Z"
   },
   {
    "duration": 650,
    "start_time": "2021-12-26T11:56:09.477Z"
   },
   {
    "duration": 14,
    "start_time": "2021-12-26T11:56:10.129Z"
   },
   {
    "duration": 22,
    "start_time": "2021-12-26T11:56:10.145Z"
   },
   {
    "duration": 9,
    "start_time": "2021-12-26T11:56:10.169Z"
   },
   {
    "duration": 38,
    "start_time": "2021-12-26T11:56:10.180Z"
   },
   {
    "duration": 20,
    "start_time": "2021-12-26T11:56:10.221Z"
   },
   {
    "duration": 305,
    "start_time": "2021-12-26T11:56:10.243Z"
   },
   {
    "duration": 21,
    "start_time": "2021-12-26T11:56:10.550Z"
   },
   {
    "duration": 469,
    "start_time": "2021-12-26T11:56:10.574Z"
   },
   {
    "duration": 474,
    "start_time": "2021-12-26T11:56:11.046Z"
   },
   {
    "duration": 379,
    "start_time": "2021-12-26T11:56:11.522Z"
   },
   {
    "duration": 479,
    "start_time": "2021-12-26T11:56:11.904Z"
   },
   {
    "duration": 518,
    "start_time": "2021-12-26T11:56:12.386Z"
   },
   {
    "duration": 601,
    "start_time": "2021-12-26T11:56:12.906Z"
   },
   {
    "duration": 451,
    "start_time": "2021-12-26T11:56:13.510Z"
   },
   {
    "duration": 89,
    "start_time": "2021-12-26T11:57:47.083Z"
   },
   {
    "duration": 698,
    "start_time": "2021-12-27T07:59:35.845Z"
   },
   {
    "duration": 11,
    "start_time": "2021-12-27T07:59:36.545Z"
   },
   {
    "duration": 9,
    "start_time": "2021-12-27T07:59:36.558Z"
   },
   {
    "duration": 57,
    "start_time": "2021-12-27T07:59:36.569Z"
   },
   {
    "duration": 81,
    "start_time": "2021-12-27T07:59:36.628Z"
   },
   {
    "duration": 24,
    "start_time": "2021-12-27T07:59:36.711Z"
   },
   {
    "duration": 29,
    "start_time": "2021-12-27T07:59:36.737Z"
   },
   {
    "duration": 9,
    "start_time": "2021-12-27T07:59:36.768Z"
   },
   {
    "duration": 8,
    "start_time": "2021-12-27T07:59:36.779Z"
   },
   {
    "duration": 16,
    "start_time": "2021-12-27T07:59:36.789Z"
   },
   {
    "duration": 9,
    "start_time": "2021-12-27T07:59:36.807Z"
   },
   {
    "duration": 7,
    "start_time": "2021-12-27T07:59:36.818Z"
   },
   {
    "duration": 177,
    "start_time": "2021-12-27T07:59:36.826Z"
   },
   {
    "duration": 8422,
    "start_time": "2021-12-27T07:59:37.004Z"
   },
   {
    "duration": 32,
    "start_time": "2021-12-27T07:59:45.428Z"
   },
   {
    "duration": 355,
    "start_time": "2021-12-27T07:59:45.462Z"
   },
   {
    "duration": 8,
    "start_time": "2021-12-27T07:59:45.818Z"
   },
   {
    "duration": 23,
    "start_time": "2021-12-27T07:59:45.827Z"
   },
   {
    "duration": 20,
    "start_time": "2021-12-27T07:59:45.852Z"
   },
   {
    "duration": 24,
    "start_time": "2021-12-27T07:59:45.874Z"
   },
   {
    "duration": 624,
    "start_time": "2021-12-27T07:59:45.900Z"
   },
   {
    "duration": 5,
    "start_time": "2021-12-27T07:59:46.526Z"
   },
   {
    "duration": 38,
    "start_time": "2021-12-27T07:59:46.532Z"
   },
   {
    "duration": 11,
    "start_time": "2021-12-27T07:59:46.572Z"
   },
   {
    "duration": 817,
    "start_time": "2021-12-27T07:59:46.585Z"
   },
   {
    "duration": 21,
    "start_time": "2021-12-27T07:59:47.404Z"
   },
   {
    "duration": 316,
    "start_time": "2021-12-27T07:59:47.429Z"
   },
   {
    "duration": 190,
    "start_time": "2021-12-27T07:59:47.748Z"
   },
   {
    "duration": 9,
    "start_time": "2021-12-27T07:59:47.940Z"
   },
   {
    "duration": 6,
    "start_time": "2021-12-27T07:59:47.961Z"
   },
   {
    "duration": 17,
    "start_time": "2021-12-27T07:59:47.969Z"
   },
   {
    "duration": 700,
    "start_time": "2021-12-27T07:59:47.988Z"
   },
   {
    "duration": 15,
    "start_time": "2021-12-27T07:59:48.690Z"
   },
   {
    "duration": 20,
    "start_time": "2021-12-27T07:59:48.706Z"
   },
   {
    "duration": 34,
    "start_time": "2021-12-27T07:59:48.728Z"
   },
   {
    "duration": 12,
    "start_time": "2021-12-27T07:59:48.764Z"
   },
   {
    "duration": 284,
    "start_time": "2021-12-27T07:59:48.777Z"
   },
   {
    "duration": 252,
    "start_time": "2021-12-27T07:59:49.063Z"
   },
   {
    "duration": 7,
    "start_time": "2021-12-27T07:59:49.316Z"
   },
   {
    "duration": 19,
    "start_time": "2021-12-27T07:59:49.324Z"
   },
   {
    "duration": 204,
    "start_time": "2021-12-27T07:59:49.345Z"
   },
   {
    "duration": 217,
    "start_time": "2021-12-27T07:59:49.550Z"
   },
   {
    "duration": 345,
    "start_time": "2021-12-27T07:59:49.768Z"
   },
   {
    "duration": 361,
    "start_time": "2021-12-27T07:59:50.115Z"
   },
   {
    "duration": 272,
    "start_time": "2021-12-27T07:59:50.477Z"
   },
   {
    "duration": 17,
    "start_time": "2021-12-27T07:59:50.750Z"
   },
   {
    "duration": 13,
    "start_time": "2021-12-27T07:59:50.769Z"
   },
   {
    "duration": 6,
    "start_time": "2021-12-27T07:59:50.784Z"
   },
   {
    "duration": 5,
    "start_time": "2021-12-27T07:59:50.792Z"
   },
   {
    "duration": 28,
    "start_time": "2021-12-27T07:59:50.798Z"
   },
   {
    "duration": 206,
    "start_time": "2021-12-27T07:59:50.828Z"
   },
   {
    "duration": 25,
    "start_time": "2021-12-27T07:59:51.036Z"
   },
   {
    "duration": 271,
    "start_time": "2021-12-27T07:59:51.063Z"
   },
   {
    "duration": 324,
    "start_time": "2021-12-27T07:59:51.336Z"
   },
   {
    "duration": 216,
    "start_time": "2021-12-27T07:59:51.662Z"
   },
   {
    "duration": 335,
    "start_time": "2021-12-27T07:59:51.879Z"
   },
   {
    "duration": 309,
    "start_time": "2021-12-27T07:59:52.216Z"
   },
   {
    "duration": 357,
    "start_time": "2021-12-27T07:59:52.527Z"
   },
   {
    "duration": 262,
    "start_time": "2021-12-27T07:59:52.885Z"
   },
   {
    "duration": 89,
    "start_time": "2021-12-27T08:02:47.655Z"
   },
   {
    "duration": 829,
    "start_time": "2021-12-27T14:01:07.068Z"
   },
   {
    "duration": 24,
    "start_time": "2021-12-27T14:01:07.899Z"
   },
   {
    "duration": 12,
    "start_time": "2021-12-27T14:01:07.925Z"
   },
   {
    "duration": 109,
    "start_time": "2021-12-27T14:01:07.939Z"
   },
   {
    "duration": 103,
    "start_time": "2021-12-27T14:01:08.051Z"
   },
   {
    "duration": 82,
    "start_time": "2021-12-27T14:01:25.512Z"
   },
   {
    "duration": 33,
    "start_time": "2021-12-27T14:01:28.682Z"
   },
   {
    "duration": 122,
    "start_time": "2021-12-27T14:02:54.957Z"
   },
   {
    "duration": 92,
    "start_time": "2021-12-27T14:03:01.158Z"
   },
   {
    "duration": 92,
    "start_time": "2021-12-27T14:03:29.908Z"
   },
   {
    "duration": 138,
    "start_time": "2021-12-27T14:04:21.667Z"
   },
   {
    "duration": 83,
    "start_time": "2021-12-27T14:04:46.605Z"
   },
   {
    "duration": 110,
    "start_time": "2021-12-27T14:04:55.957Z"
   },
   {
    "duration": 16,
    "start_time": "2021-12-27T14:04:56.069Z"
   },
   {
    "duration": 30,
    "start_time": "2021-12-27T14:04:56.088Z"
   },
   {
    "duration": 102,
    "start_time": "2021-12-27T14:04:56.121Z"
   },
   {
    "duration": 109,
    "start_time": "2021-12-27T14:04:59.664Z"
   },
   {
    "duration": 101,
    "start_time": "2021-12-27T14:05:00.313Z"
   },
   {
    "duration": 93,
    "start_time": "2021-12-27T14:05:01.187Z"
   },
   {
    "duration": 390,
    "start_time": "2021-12-27T14:11:22.620Z"
   },
   {
    "duration": 16,
    "start_time": "2021-12-27T14:11:28.217Z"
   },
   {
    "duration": 119,
    "start_time": "2021-12-27T14:11:52.043Z"
   },
   {
    "duration": 14,
    "start_time": "2021-12-27T14:11:52.165Z"
   },
   {
    "duration": 12,
    "start_time": "2021-12-27T14:11:52.182Z"
   },
   {
    "duration": 104,
    "start_time": "2021-12-27T14:11:52.219Z"
   },
   {
    "duration": 14,
    "start_time": "2021-12-27T14:11:52.326Z"
   },
   {
    "duration": 14,
    "start_time": "2021-12-27T14:11:54.740Z"
   },
   {
    "duration": 8,
    "start_time": "2021-12-27T14:11:55.114Z"
   },
   {
    "duration": 96,
    "start_time": "2021-12-27T14:12:14.540Z"
   },
   {
    "duration": 117,
    "start_time": "2021-12-27T14:12:20.226Z"
   },
   {
    "duration": 16,
    "start_time": "2021-12-27T14:12:20.346Z"
   },
   {
    "duration": 13,
    "start_time": "2021-12-27T14:12:20.365Z"
   },
   {
    "duration": 119,
    "start_time": "2021-12-27T14:12:20.381Z"
   },
   {
    "duration": 95,
    "start_time": "2021-12-27T14:12:23.322Z"
   },
   {
    "duration": 9,
    "start_time": "2021-12-27T14:12:44.248Z"
   },
   {
    "duration": 9,
    "start_time": "2021-12-27T14:15:57.935Z"
   },
   {
    "duration": 83,
    "start_time": "2021-12-27T14:15:58.623Z"
   },
   {
    "duration": 9,
    "start_time": "2021-12-27T14:17:34.572Z"
   },
   {
    "duration": 86,
    "start_time": "2021-12-27T14:17:35.585Z"
   },
   {
    "duration": 101,
    "start_time": "2021-12-27T14:30:17.355Z"
   },
   {
    "duration": 16,
    "start_time": "2021-12-27T14:30:19.388Z"
   },
   {
    "duration": 12,
    "start_time": "2021-12-27T14:30:21.655Z"
   },
   {
    "duration": 11,
    "start_time": "2021-12-27T14:30:23.123Z"
   },
   {
    "duration": 84,
    "start_time": "2021-12-27T14:30:23.892Z"
   },
   {
    "duration": 9,
    "start_time": "2021-12-27T14:30:25.502Z"
   },
   {
    "duration": 84,
    "start_time": "2021-12-27T14:30:25.796Z"
   },
   {
    "duration": 28,
    "start_time": "2021-12-27T14:30:27.609Z"
   },
   {
    "duration": 9,
    "start_time": "2021-12-27T14:30:29.113Z"
   },
   {
    "duration": 17,
    "start_time": "2021-12-27T14:30:30.474Z"
   },
   {
    "duration": 9,
    "start_time": "2021-12-27T14:30:31.265Z"
   },
   {
    "duration": 22,
    "start_time": "2021-12-27T14:30:32.390Z"
   },
   {
    "duration": 16,
    "start_time": "2021-12-27T14:30:34.309Z"
   },
   {
    "duration": 14,
    "start_time": "2021-12-27T14:50:40.356Z"
   },
   {
    "duration": 270,
    "start_time": "2021-12-27T14:51:59.411Z"
   },
   {
    "duration": 175,
    "start_time": "2021-12-27T14:52:03.896Z"
   },
   {
    "duration": 44,
    "start_time": "2021-12-27T14:52:04.075Z"
   },
   {
    "duration": 17,
    "start_time": "2021-12-27T14:52:04.123Z"
   },
   {
    "duration": 12,
    "start_time": "2021-12-27T14:52:04.144Z"
   },
   {
    "duration": 168,
    "start_time": "2021-12-27T14:52:04.159Z"
   },
   {
    "duration": 9,
    "start_time": "2021-12-27T14:52:04.329Z"
   },
   {
    "duration": 123,
    "start_time": "2021-12-27T14:52:04.341Z"
   },
   {
    "duration": 25,
    "start_time": "2021-12-27T14:52:04.468Z"
   },
   {
    "duration": 29,
    "start_time": "2021-12-27T14:52:04.496Z"
   },
   {
    "duration": 12,
    "start_time": "2021-12-27T14:52:04.528Z"
   },
   {
    "duration": 8,
    "start_time": "2021-12-27T14:52:04.542Z"
   },
   {
    "duration": 65,
    "start_time": "2021-12-27T14:52:04.553Z"
   },
   {
    "duration": 12,
    "start_time": "2021-12-27T14:52:04.620Z"
   },
   {
    "duration": 9,
    "start_time": "2021-12-27T14:52:04.634Z"
   },
   {
    "duration": 260,
    "start_time": "2021-12-27T14:52:04.645Z"
   },
   {
    "duration": 13527,
    "start_time": "2021-12-27T14:52:04.907Z"
   },
   {
    "duration": 27,
    "start_time": "2021-12-27T14:52:18.437Z"
   },
   {
    "duration": 603,
    "start_time": "2021-12-27T14:52:18.466Z"
   },
   {
    "duration": 12,
    "start_time": "2021-12-27T14:52:19.071Z"
   },
   {
    "duration": 9,
    "start_time": "2021-12-27T14:52:19.085Z"
   },
   {
    "duration": 24,
    "start_time": "2021-12-27T14:52:19.097Z"
   },
   {
    "duration": 21,
    "start_time": "2021-12-27T14:52:19.124Z"
   },
   {
    "duration": 1022,
    "start_time": "2021-12-27T14:52:19.150Z"
   },
   {
    "duration": 7,
    "start_time": "2021-12-27T14:52:20.175Z"
   },
   {
    "duration": 44,
    "start_time": "2021-12-27T14:52:20.184Z"
   },
   {
    "duration": 5,
    "start_time": "2021-12-27T14:52:20.230Z"
   },
   {
    "duration": 1465,
    "start_time": "2021-12-27T14:52:20.237Z"
   },
   {
    "duration": 34,
    "start_time": "2021-12-27T14:52:21.705Z"
   },
   {
    "duration": 509,
    "start_time": "2021-12-27T14:52:21.741Z"
   },
   {
    "duration": 289,
    "start_time": "2021-12-27T14:52:22.252Z"
   },
   {
    "duration": 12,
    "start_time": "2021-12-27T14:52:22.543Z"
   },
   {
    "duration": 7,
    "start_time": "2021-12-27T14:52:22.558Z"
   },
   {
    "duration": 12,
    "start_time": "2021-12-27T14:52:22.568Z"
   },
   {
    "duration": 1155,
    "start_time": "2021-12-27T14:52:22.582Z"
   },
   {
    "duration": 26,
    "start_time": "2021-12-27T14:52:23.739Z"
   },
   {
    "duration": 57,
    "start_time": "2021-12-27T14:52:23.768Z"
   },
   {
    "duration": 12,
    "start_time": "2021-12-27T14:52:23.827Z"
   },
   {
    "duration": 16,
    "start_time": "2021-12-27T14:52:23.842Z"
   },
   {
    "duration": 517,
    "start_time": "2021-12-27T14:52:23.860Z"
   },
   {
    "duration": 425,
    "start_time": "2021-12-27T14:52:24.380Z"
   },
   {
    "duration": 15,
    "start_time": "2021-12-27T14:52:24.807Z"
   },
   {
    "duration": 20,
    "start_time": "2021-12-27T14:52:24.824Z"
   },
   {
    "duration": 344,
    "start_time": "2021-12-27T14:52:24.846Z"
   },
   {
    "duration": 553,
    "start_time": "2021-12-27T14:52:25.193Z"
   },
   {
    "duration": 768,
    "start_time": "2021-12-27T14:52:25.749Z"
   },
   {
    "duration": 979,
    "start_time": "2021-12-27T14:52:26.521Z"
   },
   {
    "duration": 471,
    "start_time": "2021-12-27T14:52:27.503Z"
   },
   {
    "duration": 17,
    "start_time": "2021-12-27T14:52:27.977Z"
   },
   {
    "duration": 41,
    "start_time": "2021-12-27T14:52:27.997Z"
   },
   {
    "duration": 11,
    "start_time": "2021-12-27T14:52:28.040Z"
   },
   {
    "duration": 9,
    "start_time": "2021-12-27T14:52:28.053Z"
   },
   {
    "duration": 63,
    "start_time": "2021-12-27T14:52:28.065Z"
   },
   {
    "duration": 309,
    "start_time": "2021-12-27T14:52:28.130Z"
   },
   {
    "duration": 18,
    "start_time": "2021-12-27T14:52:28.442Z"
   },
   {
    "duration": 477,
    "start_time": "2021-12-27T14:52:28.462Z"
   },
   {
    "duration": 504,
    "start_time": "2021-12-27T14:52:28.942Z"
   },
   {
    "duration": 360,
    "start_time": "2021-12-27T14:52:29.449Z"
   },
   {
    "duration": 463,
    "start_time": "2021-12-27T14:52:29.811Z"
   },
   {
    "duration": 502,
    "start_time": "2021-12-27T14:52:30.276Z"
   },
   {
    "duration": 619,
    "start_time": "2021-12-27T14:52:30.780Z"
   },
   {
    "duration": 458,
    "start_time": "2021-12-27T14:52:31.401Z"
   },
   {
    "duration": 29,
    "start_time": "2021-12-27T14:52:39.963Z"
   },
   {
    "duration": 319,
    "start_time": "2021-12-27T14:54:10.750Z"
   },
   {
    "duration": 316,
    "start_time": "2021-12-27T14:55:19.285Z"
   },
   {
    "duration": 337,
    "start_time": "2021-12-27T14:55:46.122Z"
   },
   {
    "duration": 339,
    "start_time": "2021-12-27T14:56:39.683Z"
   },
   {
    "duration": 441,
    "start_time": "2021-12-27T14:57:01.778Z"
   },
   {
    "duration": 354,
    "start_time": "2021-12-27T14:58:26.481Z"
   },
   {
    "duration": 712,
    "start_time": "2021-12-27T15:13:22.248Z"
   },
   {
    "duration": 563,
    "start_time": "2021-12-27T15:13:59.314Z"
   },
   {
    "duration": 692,
    "start_time": "2021-12-27T15:14:45.006Z"
   },
   {
    "duration": 569,
    "start_time": "2021-12-27T15:15:00.112Z"
   },
   {
    "duration": 579,
    "start_time": "2021-12-27T15:15:32.523Z"
   },
   {
    "duration": 750,
    "start_time": "2021-12-27T15:15:49.495Z"
   },
   {
    "duration": 640,
    "start_time": "2021-12-27T15:16:51.047Z"
   },
   {
    "duration": 3769,
    "start_time": "2021-12-27T15:17:08.235Z"
   },
   {
    "duration": 393,
    "start_time": "2021-12-27T15:17:22.885Z"
   },
   {
    "duration": 844,
    "start_time": "2021-12-27T15:17:31.518Z"
   },
   {
    "duration": 794,
    "start_time": "2021-12-27T15:19:05.227Z"
   },
   {
    "duration": 646,
    "start_time": "2021-12-27T15:22:39.555Z"
   },
   {
    "duration": 933,
    "start_time": "2021-12-27T15:23:00.770Z"
   },
   {
    "duration": 668,
    "start_time": "2021-12-27T15:23:15.019Z"
   },
   {
    "duration": 648,
    "start_time": "2021-12-27T15:26:17.319Z"
   },
   {
    "duration": 944,
    "start_time": "2021-12-27T15:26:27.433Z"
   },
   {
    "duration": 626,
    "start_time": "2021-12-27T15:26:39.145Z"
   },
   {
    "duration": 633,
    "start_time": "2021-12-27T15:26:54.463Z"
   },
   {
    "duration": 814,
    "start_time": "2021-12-27T15:27:35.666Z"
   },
   {
    "duration": 645,
    "start_time": "2021-12-27T15:27:45.567Z"
   },
   {
    "duration": 738,
    "start_time": "2021-12-27T15:27:53.451Z"
   },
   {
    "duration": 637,
    "start_time": "2021-12-27T15:28:15.303Z"
   },
   {
    "duration": 648,
    "start_time": "2021-12-27T15:28:43.745Z"
   },
   {
    "duration": 647,
    "start_time": "2021-12-27T15:29:30.894Z"
   },
   {
    "duration": 740,
    "start_time": "2021-12-27T15:29:42.059Z"
   },
   {
    "duration": 826,
    "start_time": "2021-12-27T15:29:58.845Z"
   },
   {
    "duration": 646,
    "start_time": "2021-12-27T15:30:11.089Z"
   },
   {
    "duration": 265,
    "start_time": "2021-12-27T15:34:21.568Z"
   },
   {
    "duration": 655,
    "start_time": "2021-12-27T15:34:26.035Z"
   },
   {
    "duration": 255,
    "start_time": "2021-12-27T15:39:06.014Z"
   },
   {
    "duration": 373,
    "start_time": "2021-12-27T15:39:15.166Z"
   },
   {
    "duration": 760,
    "start_time": "2021-12-27T15:40:10.782Z"
   },
   {
    "duration": 748,
    "start_time": "2021-12-27T15:40:16.569Z"
   },
   {
    "duration": 248,
    "start_time": "2021-12-27T15:41:23.396Z"
   },
   {
    "duration": 755,
    "start_time": "2021-12-27T15:41:28.081Z"
   },
   {
    "duration": 668,
    "start_time": "2021-12-27T15:43:35.718Z"
   },
   {
    "duration": 93,
    "start_time": "2021-12-27T15:44:00.987Z"
   },
   {
    "duration": 651,
    "start_time": "2021-12-27T15:44:08.196Z"
   },
   {
    "duration": 354,
    "start_time": "2021-12-27T15:48:43.035Z"
   },
   {
    "duration": 335,
    "start_time": "2021-12-27T15:49:17.356Z"
   },
   {
    "duration": 892,
    "start_time": "2021-12-27T15:49:43.031Z"
   },
   {
    "duration": 653,
    "start_time": "2021-12-27T15:49:57.281Z"
   },
   {
    "duration": 335,
    "start_time": "2021-12-27T15:52:27.533Z"
   },
   {
    "duration": 344,
    "start_time": "2021-12-27T15:52:38.364Z"
   },
   {
    "duration": 7254,
    "start_time": "2021-12-27T15:54:35.281Z"
   },
   {
    "duration": 7972,
    "start_time": "2021-12-27T15:55:27.574Z"
   },
   {
    "duration": 6257,
    "start_time": "2021-12-27T15:56:00.016Z"
   },
   {
    "duration": 583,
    "start_time": "2021-12-27T15:57:07.439Z"
   },
   {
    "duration": 6631,
    "start_time": "2021-12-27T15:57:30.951Z"
   },
   {
    "duration": 339,
    "start_time": "2021-12-28T10:39:03.566Z"
   },
   {
    "duration": 885,
    "start_time": "2021-12-28T10:39:12.074Z"
   },
   {
    "duration": 17,
    "start_time": "2021-12-28T10:39:12.963Z"
   },
   {
    "duration": 41,
    "start_time": "2021-12-28T10:39:12.983Z"
   },
   {
    "duration": 9,
    "start_time": "2021-12-28T10:39:13.027Z"
   },
   {
    "duration": 120,
    "start_time": "2021-12-28T10:39:13.038Z"
   },
   {
    "duration": 17,
    "start_time": "2021-12-28T10:39:13.161Z"
   },
   {
    "duration": 129,
    "start_time": "2021-12-28T10:39:13.181Z"
   },
   {
    "duration": 38,
    "start_time": "2021-12-28T10:39:13.324Z"
   },
   {
    "duration": 11,
    "start_time": "2021-12-28T10:39:13.366Z"
   },
   {
    "duration": 48,
    "start_time": "2021-12-28T10:39:13.380Z"
   },
   {
    "duration": 24,
    "start_time": "2021-12-28T10:39:13.430Z"
   },
   {
    "duration": 50,
    "start_time": "2021-12-28T10:39:13.456Z"
   },
   {
    "duration": 17,
    "start_time": "2021-12-28T10:39:13.508Z"
   },
   {
    "duration": 25,
    "start_time": "2021-12-28T10:39:13.528Z"
   },
   {
    "duration": 213,
    "start_time": "2021-12-28T10:39:13.555Z"
   },
   {
    "duration": 13283,
    "start_time": "2021-12-28T10:39:13.770Z"
   },
   {
    "duration": 27,
    "start_time": "2021-12-28T10:39:27.056Z"
   },
   {
    "duration": 598,
    "start_time": "2021-12-28T10:39:27.086Z"
   },
   {
    "duration": 13,
    "start_time": "2021-12-28T10:39:27.687Z"
   },
   {
    "duration": 10,
    "start_time": "2021-12-28T10:39:27.724Z"
   },
   {
    "duration": 8,
    "start_time": "2021-12-28T10:39:27.737Z"
   },
   {
    "duration": 22,
    "start_time": "2021-12-28T10:39:27.747Z"
   },
   {
    "duration": 1084,
    "start_time": "2021-12-28T10:39:27.776Z"
   },
   {
    "duration": 7,
    "start_time": "2021-12-28T10:39:28.863Z"
   },
   {
    "duration": 30,
    "start_time": "2021-12-28T10:39:28.872Z"
   },
   {
    "duration": 20,
    "start_time": "2021-12-28T10:39:28.904Z"
   },
   {
    "duration": 1369,
    "start_time": "2021-12-28T10:39:28.926Z"
   },
   {
    "duration": 35,
    "start_time": "2021-12-28T10:39:30.297Z"
   },
   {
    "duration": 516,
    "start_time": "2021-12-28T10:39:30.334Z"
   },
   {
    "duration": 280,
    "start_time": "2021-12-28T10:39:30.854Z"
   },
   {
    "duration": 13,
    "start_time": "2021-12-28T10:39:31.137Z"
   },
   {
    "duration": 8,
    "start_time": "2021-12-28T10:39:31.153Z"
   },
   {
    "duration": 6,
    "start_time": "2021-12-28T10:39:31.164Z"
   },
   {
    "duration": 1136,
    "start_time": "2021-12-28T10:39:31.173Z"
   },
   {
    "duration": 33,
    "start_time": "2021-12-28T10:39:32.312Z"
   },
   {
    "duration": 30,
    "start_time": "2021-12-28T10:39:32.348Z"
   },
   {
    "duration": 12,
    "start_time": "2021-12-28T10:39:32.380Z"
   },
   {
    "duration": 377,
    "start_time": "2021-12-28T10:39:32.422Z"
   },
   {
    "duration": -1641,
    "start_time": "2021-12-28T10:39:34.444Z"
   },
   {
    "duration": -1645,
    "start_time": "2021-12-28T10:39:34.450Z"
   },
   {
    "duration": -1649,
    "start_time": "2021-12-28T10:39:34.456Z"
   },
   {
    "duration": -1652,
    "start_time": "2021-12-28T10:39:34.461Z"
   },
   {
    "duration": -1656,
    "start_time": "2021-12-28T10:39:34.467Z"
   },
   {
    "duration": -1666,
    "start_time": "2021-12-28T10:39:34.479Z"
   },
   {
    "duration": -1670,
    "start_time": "2021-12-28T10:39:34.485Z"
   },
   {
    "duration": -1673,
    "start_time": "2021-12-28T10:39:34.491Z"
   },
   {
    "duration": -1675,
    "start_time": "2021-12-28T10:39:34.496Z"
   },
   {
    "duration": -1679,
    "start_time": "2021-12-28T10:39:34.502Z"
   },
   {
    "duration": -1682,
    "start_time": "2021-12-28T10:39:34.507Z"
   },
   {
    "duration": -1684,
    "start_time": "2021-12-28T10:39:34.512Z"
   },
   {
    "duration": -1687,
    "start_time": "2021-12-28T10:39:34.517Z"
   },
   {
    "duration": -1691,
    "start_time": "2021-12-28T10:39:34.523Z"
   },
   {
    "duration": -1694,
    "start_time": "2021-12-28T10:39:34.528Z"
   },
   {
    "duration": -1697,
    "start_time": "2021-12-28T10:39:34.533Z"
   },
   {
    "duration": -1699,
    "start_time": "2021-12-28T10:39:34.538Z"
   },
   {
    "duration": -1703,
    "start_time": "2021-12-28T10:39:34.544Z"
   },
   {
    "duration": -1714,
    "start_time": "2021-12-28T10:39:34.557Z"
   },
   {
    "duration": -1728,
    "start_time": "2021-12-28T10:39:34.573Z"
   },
   {
    "duration": -1741,
    "start_time": "2021-12-28T10:39:34.588Z"
   },
   {
    "duration": -1744,
    "start_time": "2021-12-28T10:39:34.594Z"
   },
   {
    "duration": -1747,
    "start_time": "2021-12-28T10:39:34.599Z"
   },
   {
    "duration": -1750,
    "start_time": "2021-12-28T10:39:34.604Z"
   },
   {
    "duration": -1754,
    "start_time": "2021-12-28T10:39:34.609Z"
   },
   {
    "duration": -1769,
    "start_time": "2021-12-28T10:39:34.626Z"
   },
   {
    "duration": -1773,
    "start_time": "2021-12-28T10:39:34.632Z"
   },
   {
    "duration": -1777,
    "start_time": "2021-12-28T10:39:34.637Z"
   },
   {
    "duration": -1782,
    "start_time": "2021-12-28T10:39:34.644Z"
   },
   {
    "duration": 370,
    "start_time": "2021-12-28T10:39:56.779Z"
   },
   {
    "duration": 294,
    "start_time": "2021-12-28T10:40:18.832Z"
   },
   {
    "duration": 283,
    "start_time": "2021-12-28T10:40:54.105Z"
   },
   {
    "duration": 32,
    "start_time": "2021-12-28T10:41:15.033Z"
   },
   {
    "duration": 103,
    "start_time": "2021-12-28T10:42:43.901Z"
   },
   {
    "duration": 110,
    "start_time": "2021-12-28T10:42:57.531Z"
   },
   {
    "duration": 103,
    "start_time": "2021-12-28T10:51:35.170Z"
   },
   {
    "duration": 1292,
    "start_time": "2021-12-28T10:52:16.873Z"
   },
   {
    "duration": 637,
    "start_time": "2021-12-28T10:52:36.640Z"
   },
   {
    "duration": 1601,
    "start_time": "2021-12-28T10:52:42.578Z"
   },
   {
    "duration": 146,
    "start_time": "2021-12-28T10:53:26.438Z"
   },
   {
    "duration": 1018,
    "start_time": "2021-12-28T10:53:33.409Z"
   },
   {
    "duration": 1265,
    "start_time": "2021-12-28T10:54:08.363Z"
   },
   {
    "duration": 92,
    "start_time": "2021-12-28T10:57:27.396Z"
   },
   {
    "duration": 427,
    "start_time": "2021-12-28T10:59:06.665Z"
   },
   {
    "duration": 101,
    "start_time": "2021-12-28T10:59:10.903Z"
   },
   {
    "duration": 28,
    "start_time": "2021-12-28T10:59:11.006Z"
   },
   {
    "duration": 22,
    "start_time": "2021-12-28T10:59:11.037Z"
   },
   {
    "duration": 30,
    "start_time": "2021-12-28T10:59:11.062Z"
   },
   {
    "duration": 109,
    "start_time": "2021-12-28T10:59:11.094Z"
   },
   {
    "duration": 9,
    "start_time": "2021-12-28T10:59:11.223Z"
   },
   {
    "duration": 110,
    "start_time": "2021-12-28T10:59:11.234Z"
   },
   {
    "duration": 24,
    "start_time": "2021-12-28T10:59:11.346Z"
   },
   {
    "duration": 23,
    "start_time": "2021-12-28T10:59:11.374Z"
   },
   {
    "duration": 40,
    "start_time": "2021-12-28T10:59:11.401Z"
   },
   {
    "duration": 11,
    "start_time": "2021-12-28T10:59:11.444Z"
   },
   {
    "duration": 32,
    "start_time": "2021-12-28T10:59:11.458Z"
   },
   {
    "duration": 11,
    "start_time": "2021-12-28T10:59:11.492Z"
   },
   {
    "duration": 7,
    "start_time": "2021-12-28T10:59:11.506Z"
   },
   {
    "duration": 235,
    "start_time": "2021-12-28T10:59:11.524Z"
   },
   {
    "duration": 12494,
    "start_time": "2021-12-28T10:59:11.761Z"
   },
   {
    "duration": 24,
    "start_time": "2021-12-28T10:59:24.258Z"
   },
   {
    "duration": 484,
    "start_time": "2021-12-28T10:59:24.284Z"
   },
   {
    "duration": 11,
    "start_time": "2021-12-28T10:59:24.770Z"
   },
   {
    "duration": 8,
    "start_time": "2021-12-28T10:59:24.784Z"
   },
   {
    "duration": 31,
    "start_time": "2021-12-28T10:59:24.795Z"
   },
   {
    "duration": 19,
    "start_time": "2021-12-28T10:59:24.828Z"
   },
   {
    "duration": 958,
    "start_time": "2021-12-28T10:59:24.850Z"
   },
   {
    "duration": 14,
    "start_time": "2021-12-28T10:59:25.810Z"
   },
   {
    "duration": 33,
    "start_time": "2021-12-28T10:59:25.826Z"
   },
   {
    "duration": 3,
    "start_time": "2021-12-28T10:59:25.861Z"
   },
   {
    "duration": 1360,
    "start_time": "2021-12-28T10:59:25.870Z"
   },
   {
    "duration": 25,
    "start_time": "2021-12-28T10:59:27.235Z"
   },
   {
    "duration": 483,
    "start_time": "2021-12-28T10:59:27.263Z"
   },
   {
    "duration": 276,
    "start_time": "2021-12-28T10:59:27.749Z"
   },
   {
    "duration": 11,
    "start_time": "2021-12-28T10:59:28.028Z"
   },
   {
    "duration": 6,
    "start_time": "2021-12-28T10:59:28.042Z"
   },
   {
    "duration": 9,
    "start_time": "2021-12-28T10:59:28.050Z"
   },
   {
    "duration": 1142,
    "start_time": "2021-12-28T10:59:28.061Z"
   },
   {
    "duration": 29,
    "start_time": "2021-12-28T10:59:29.206Z"
   },
   {
    "duration": 28,
    "start_time": "2021-12-28T10:59:29.238Z"
   },
   {
    "duration": 11,
    "start_time": "2021-12-28T10:59:29.269Z"
   },
   {
    "duration": 148,
    "start_time": "2021-12-28T10:59:29.282Z"
   },
   {
    "duration": 15,
    "start_time": "2021-12-28T10:59:29.433Z"
   },
   {
    "duration": 455,
    "start_time": "2021-12-28T10:59:29.451Z"
   },
   {
    "duration": 406,
    "start_time": "2021-12-28T10:59:29.909Z"
   },
   {
    "duration": 11,
    "start_time": "2021-12-28T10:59:30.317Z"
   },
   {
    "duration": 28,
    "start_time": "2021-12-28T10:59:30.331Z"
   },
   {
    "duration": 309,
    "start_time": "2021-12-28T10:59:30.361Z"
   },
   {
    "duration": 423,
    "start_time": "2021-12-28T10:59:30.673Z"
   },
   {
    "duration": 451,
    "start_time": "2021-12-28T10:59:31.098Z"
   },
   {
    "duration": 579,
    "start_time": "2021-12-28T10:59:31.551Z"
   },
   {
    "duration": 421,
    "start_time": "2021-12-28T10:59:32.132Z"
   },
   {
    "duration": 13,
    "start_time": "2021-12-28T10:59:32.556Z"
   },
   {
    "duration": 20,
    "start_time": "2021-12-28T10:59:32.571Z"
   },
   {
    "duration": 32,
    "start_time": "2021-12-28T10:59:32.593Z"
   },
   {
    "duration": 5,
    "start_time": "2021-12-28T10:59:32.627Z"
   },
   {
    "duration": 20,
    "start_time": "2021-12-28T10:59:32.634Z"
   },
   {
    "duration": 301,
    "start_time": "2021-12-28T10:59:32.656Z"
   },
   {
    "duration": 18,
    "start_time": "2021-12-28T10:59:32.959Z"
   },
   {
    "duration": 475,
    "start_time": "2021-12-28T10:59:32.979Z"
   },
   {
    "duration": 399,
    "start_time": "2021-12-28T10:59:33.457Z"
   },
   {
    "duration": 349,
    "start_time": "2021-12-28T10:59:33.859Z"
   },
   {
    "duration": 437,
    "start_time": "2021-12-28T10:59:34.211Z"
   },
   {
    "duration": 500,
    "start_time": "2021-12-28T10:59:34.651Z"
   },
   {
    "duration": 642,
    "start_time": "2021-12-28T10:59:35.154Z"
   },
   {
    "duration": 443,
    "start_time": "2021-12-28T10:59:35.798Z"
   },
   {
    "duration": 658,
    "start_time": "2021-12-28T10:59:39.238Z"
   },
   {
    "duration": 333,
    "start_time": "2021-12-28T11:02:08.094Z"
   },
   {
    "duration": 28,
    "start_time": "2021-12-28T11:02:40.764Z"
   },
   {
    "duration": 769,
    "start_time": "2021-12-28T11:02:57.857Z"
   },
   {
    "duration": 1141,
    "start_time": "2021-12-28T11:05:52.068Z"
   },
   {
    "duration": 692,
    "start_time": "2021-12-28T11:06:05.637Z"
   },
   {
    "duration": 365,
    "start_time": "2021-12-28T11:06:17.437Z"
   },
   {
    "duration": 722,
    "start_time": "2021-12-28T11:06:24.328Z"
   },
   {
    "duration": 818,
    "start_time": "2021-12-28T11:10:35.419Z"
   },
   {
    "duration": 373,
    "start_time": "2021-12-28T21:12:25.008Z"
   },
   {
    "duration": 1247,
    "start_time": "2021-12-28T21:12:36.219Z"
   },
   {
    "duration": 18,
    "start_time": "2021-12-28T21:12:37.469Z"
   },
   {
    "duration": 14,
    "start_time": "2021-12-28T21:12:37.491Z"
   },
   {
    "duration": 12,
    "start_time": "2021-12-28T21:12:37.508Z"
   },
   {
    "duration": 142,
    "start_time": "2021-12-28T21:12:37.522Z"
   },
   {
    "duration": 11,
    "start_time": "2021-12-28T21:12:37.669Z"
   },
   {
    "duration": 110,
    "start_time": "2021-12-28T21:12:37.685Z"
   },
   {
    "duration": 27,
    "start_time": "2021-12-28T21:12:37.798Z"
   },
   {
    "duration": 36,
    "start_time": "2021-12-28T21:12:37.828Z"
   },
   {
    "duration": 15,
    "start_time": "2021-12-28T21:12:37.867Z"
   },
   {
    "duration": 9,
    "start_time": "2021-12-28T21:12:37.885Z"
   },
   {
    "duration": 23,
    "start_time": "2021-12-28T21:12:37.896Z"
   },
   {
    "duration": 56,
    "start_time": "2021-12-28T21:12:37.922Z"
   },
   {
    "duration": 13,
    "start_time": "2021-12-28T21:12:37.981Z"
   },
   {
    "duration": 265,
    "start_time": "2021-12-28T21:12:37.996Z"
   },
   {
    "duration": 16553,
    "start_time": "2021-12-28T21:12:38.264Z"
   },
   {
    "duration": 27,
    "start_time": "2021-12-28T21:12:54.819Z"
   },
   {
    "duration": 643,
    "start_time": "2021-12-28T21:12:54.867Z"
   },
   {
    "duration": 10,
    "start_time": "2021-12-28T21:12:55.512Z"
   },
   {
    "duration": 9,
    "start_time": "2021-12-28T21:12:55.525Z"
   },
   {
    "duration": 33,
    "start_time": "2021-12-28T21:12:55.536Z"
   },
   {
    "duration": 21,
    "start_time": "2021-12-28T21:12:55.573Z"
   },
   {
    "duration": 1453,
    "start_time": "2021-12-28T21:12:55.598Z"
   },
   {
    "duration": 12,
    "start_time": "2021-12-28T21:12:57.053Z"
   },
   {
    "duration": 32,
    "start_time": "2021-12-28T21:12:57.068Z"
   },
   {
    "duration": 4,
    "start_time": "2021-12-28T21:12:57.103Z"
   },
   {
    "duration": 1552,
    "start_time": "2021-12-28T21:13:04.073Z"
   },
   {
    "duration": 457,
    "start_time": "2021-12-29T16:16:29.305Z"
   },
   {
    "duration": 1114,
    "start_time": "2021-12-29T16:16:35.831Z"
   },
   {
    "duration": 25,
    "start_time": "2021-12-29T16:16:36.948Z"
   },
   {
    "duration": 11,
    "start_time": "2021-12-29T16:16:36.976Z"
   },
   {
    "duration": 9,
    "start_time": "2021-12-29T16:16:36.990Z"
   },
   {
    "duration": 119,
    "start_time": "2021-12-29T16:16:37.001Z"
   },
   {
    "duration": 8,
    "start_time": "2021-12-29T16:16:37.123Z"
   },
   {
    "duration": 109,
    "start_time": "2021-12-29T16:16:37.134Z"
   },
   {
    "duration": 27,
    "start_time": "2021-12-29T16:16:37.261Z"
   },
   {
    "duration": 9,
    "start_time": "2021-12-29T16:16:37.291Z"
   },
   {
    "duration": 12,
    "start_time": "2021-12-29T16:16:37.302Z"
   },
   {
    "duration": 45,
    "start_time": "2021-12-29T16:16:37.316Z"
   },
   {
    "duration": 23,
    "start_time": "2021-12-29T16:16:37.363Z"
   },
   {
    "duration": 12,
    "start_time": "2021-12-29T16:16:37.388Z"
   },
   {
    "duration": 9,
    "start_time": "2021-12-29T16:16:37.401Z"
   },
   {
    "duration": 265,
    "start_time": "2021-12-29T16:16:37.412Z"
   },
   {
    "duration": 14555,
    "start_time": "2021-12-29T16:16:37.680Z"
   },
   {
    "duration": 40,
    "start_time": "2021-12-29T16:16:52.238Z"
   },
   {
    "duration": 595,
    "start_time": "2021-12-29T16:16:52.281Z"
   },
   {
    "duration": 13,
    "start_time": "2021-12-29T16:16:52.879Z"
   },
   {
    "duration": 11,
    "start_time": "2021-12-29T16:16:52.895Z"
   },
   {
    "duration": 51,
    "start_time": "2021-12-29T16:16:52.908Z"
   },
   {
    "duration": 19,
    "start_time": "2021-12-29T16:16:52.962Z"
   },
   {
    "duration": 1025,
    "start_time": "2021-12-29T16:16:52.989Z"
   },
   {
    "duration": 7,
    "start_time": "2021-12-29T16:16:54.017Z"
   },
   {
    "duration": 42,
    "start_time": "2021-12-29T16:16:54.027Z"
   },
   {
    "duration": 3,
    "start_time": "2021-12-29T16:16:54.071Z"
   },
   {
    "duration": 1358,
    "start_time": "2021-12-29T16:16:54.077Z"
   },
   {
    "duration": 38,
    "start_time": "2021-12-29T16:16:55.438Z"
   },
   {
    "duration": 482,
    "start_time": "2021-12-29T16:16:55.479Z"
   },
   {
    "duration": 292,
    "start_time": "2021-12-29T16:16:55.963Z"
   },
   {
    "duration": 11,
    "start_time": "2021-12-29T16:16:56.257Z"
   },
   {
    "duration": 7,
    "start_time": "2021-12-29T16:16:56.271Z"
   },
   {
    "duration": 7,
    "start_time": "2021-12-29T16:16:56.281Z"
   },
   {
    "duration": 1237,
    "start_time": "2021-12-29T16:16:56.290Z"
   },
   {
    "duration": 34,
    "start_time": "2021-12-29T16:16:57.529Z"
   },
   {
    "duration": 29,
    "start_time": "2021-12-29T16:16:57.565Z"
   },
   {
    "duration": 11,
    "start_time": "2021-12-29T16:16:57.596Z"
   },
   {
    "duration": 138,
    "start_time": "2021-12-29T16:16:57.610Z"
   },
   {
    "duration": 20,
    "start_time": "2021-12-29T16:16:57.750Z"
   },
   {
    "duration": 473,
    "start_time": "2021-12-29T16:16:57.773Z"
   },
   {
    "duration": 440,
    "start_time": "2021-12-29T16:16:58.249Z"
   },
   {
    "duration": 8,
    "start_time": "2021-12-29T16:16:58.691Z"
   },
   {
    "duration": 20,
    "start_time": "2021-12-29T16:16:58.701Z"
   },
   {
    "duration": 356,
    "start_time": "2021-12-29T16:16:58.723Z"
   },
   {
    "duration": 364,
    "start_time": "2021-12-29T16:16:59.081Z"
   },
   {
    "duration": 530,
    "start_time": "2021-12-29T16:16:59.447Z"
   },
   {
    "duration": 735,
    "start_time": "2021-12-29T16:16:59.980Z"
   },
   {
    "duration": 457,
    "start_time": "2021-12-29T16:17:00.717Z"
   },
   {
    "duration": 19,
    "start_time": "2021-12-29T16:17:01.177Z"
   },
   {
    "duration": 24,
    "start_time": "2021-12-29T16:17:01.198Z"
   },
   {
    "duration": 38,
    "start_time": "2021-12-29T16:17:01.225Z"
   },
   {
    "duration": 9,
    "start_time": "2021-12-29T16:17:01.265Z"
   },
   {
    "duration": 26,
    "start_time": "2021-12-29T16:17:01.276Z"
   },
   {
    "duration": 329,
    "start_time": "2021-12-29T16:17:01.304Z"
   },
   {
    "duration": 27,
    "start_time": "2021-12-29T16:17:01.636Z"
   },
   {
    "duration": 457,
    "start_time": "2021-12-29T16:17:01.666Z"
   },
   {
    "duration": 482,
    "start_time": "2021-12-29T16:17:02.126Z"
   },
   {
    "duration": 461,
    "start_time": "2021-12-29T16:17:02.611Z"
   },
   {
    "duration": 452,
    "start_time": "2021-12-29T16:17:03.074Z"
   },
   {
    "duration": 498,
    "start_time": "2021-12-29T16:17:03.528Z"
   },
   {
    "duration": 593,
    "start_time": "2021-12-29T16:17:04.029Z"
   },
   {
    "duration": 465,
    "start_time": "2021-12-29T16:17:04.624Z"
   },
   {
    "duration": 686,
    "start_time": "2021-12-29T16:17:05.093Z"
   },
   {
    "duration": 655,
    "start_time": "2021-12-29T16:17:23.024Z"
   },
   {
    "duration": 740,
    "start_time": "2021-12-29T16:20:47.774Z"
   },
   {
    "duration": 674,
    "start_time": "2021-12-29T16:21:27.034Z"
   },
   {
    "duration": 638,
    "start_time": "2021-12-29T16:22:07.906Z"
   },
   {
    "duration": 662,
    "start_time": "2021-12-29T16:22:44.543Z"
   },
   {
    "duration": 657,
    "start_time": "2021-12-29T16:23:04.468Z"
   },
   {
    "duration": 755,
    "start_time": "2021-12-29T16:23:51.390Z"
   },
   {
    "duration": 659,
    "start_time": "2021-12-29T16:24:53.408Z"
   }
  ],
  "kernelspec": {
   "display_name": "Python 3 (ipykernel)",
   "language": "python",
   "name": "python3"
  },
  "language_info": {
   "codemirror_mode": {
    "name": "ipython",
    "version": 3
   },
   "file_extension": ".py",
   "mimetype": "text/x-python",
   "name": "python",
   "nbconvert_exporter": "python",
   "pygments_lexer": "ipython3",
   "version": "3.7.8"
  },
  "toc": {
   "base_numbering": 1,
   "nav_menu": {},
   "number_sections": true,
   "sideBar": true,
   "skip_h1_title": true,
   "title_cell": "Содержание",
   "title_sidebar": "Contents",
   "toc_cell": true,
   "toc_position": {
    "height": "calc(100% - 180px)",
    "left": "10px",
    "top": "150px",
    "width": "279px"
   },
   "toc_section_display": true,
   "toc_window_display": true
  }
 },
 "nbformat": 4,
 "nbformat_minor": 2
}
